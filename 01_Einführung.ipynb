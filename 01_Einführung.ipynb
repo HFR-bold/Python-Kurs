{
 "cells": [
  {
   "cell_type": "markdown",
   "metadata": {},
   "source": [
    "# Einleitung\n",
    "\n",
    "In diesem Kurs werden Ihnen die Grundzüge der Programmierung mit Python sowie die Anbindung von Python an ArcGIS vermittelt\n",
    "\n",
    "Folgende Inhalte werden bearbeitet:\n",
    "\n",
    "1. Einführung\n",
    "    1. Installation\n",
    "    2. Programmierungsgrundsäzte\n",
    "    3. \"Hallo-Welt\"\n",
    "2. Variablen\n",
    "    1. Zahlen\n",
    "    2. Text\n",
    "    3. Listen\n",
    "    4. Dictionaries\n",
    "3. Bedingungen und Schleifen\n",
    "    1. Bedingungen\n",
    "    2. For-Schleifen\n",
    "    3. While-Schleifen\n",
    "4. Funktionen und Module\n",
    "    1. Python interne Module/Funktionen\n",
    "    2. Externe Module\n",
    "    3. eigene Funktionen\n",
    "5. Arbeiten mit Dateien\n",
    "6. Grundlagen der objektorientierten Programmierung\n",
    "7. wissenschaftliches Arbeiten mit Python\n",
    "    1. numpy/scipy\n",
    "    2. wissenschaftliche Abbildungen\n",
    "8. Python und ArcGIS\n",
    "\n"
   ]
  },
  {
   "cell_type": "markdown",
   "metadata": {},
   "source": [
    "# 1. Einführung"
   ]
  },
  {
   "cell_type": "markdown",
   "metadata": {},
   "source": [
    "## 1.1.Installation"
   ]
  },
  {
   "cell_type": "markdown",
   "metadata": {},
   "source": [
    "Dieser Kurs arbeit mit folgender Software:\n",
    "- WinPython 3.8.6 https://github.com/winpython/winpython/releases/download/3.0.20201028/Winpython64-3.8.6.0.exe\n",
    "\n",
    "Für das Arbeiten mit ArcGIS wird zusätzlich benötigt:\n",
    "- ArcGIS  Desktop 10.7.1: Eine Installationsanleitung finden Sie im Studiengangsübergreifenden Ilias-Kurs \"GIS-Grundlagen\"\n",
    "- ggf. eine weitere IDE (z.B. PythonWin - dies wird aber noch später spezifiert)"
   ]
  },
  {
   "cell_type": "markdown",
   "metadata": {},
   "source": [
    "### Installation von WinPython und Windows 10\n",
    "\n",
    "WinPython ist eine Kollektion von verschiedenen Modulen und Programmen, die uns das Arbeiten mit Python erleichern.Die installation ist sehr einfach. da es sich um ein sogenanntes Portables-Programm handelt, benötigen Sie auch keine Administrationsrechte:\n",
    "1. Download der WINPython.exe-Datei (siehe oben)\n",
    "2. Doppelklick auch die Datei zum entpacken des Programms \n",
    "\n",
    "Eine detailierte Installations Anleitung finden Sie als Video unter Ilias, ebenso wie eine kurze Einführung in Jupyther und Spyder\n"
   ]
  },
  {
   "cell_type": "markdown",
   "metadata": {},
   "source": [
    "## Programmierungsgrundätze\n",
    "\n",
    "Es gibt einige Grundätze einer guten Programmierung mit Python, die u.a. in den sogenannten PEP (Python Enhancement Proposals) dargestellt werden. In den \"Zen of Python\" (PEP 20) sind diese auf https://www.python.org/dev/peps/pep-0020/ von Tim Peters niedergeschrieben worden \n",
    "\n",
    "The Zen of Python, by Tim Peters\n",
    "\n",
    "1. Beautiful is better than ugly.\n",
    "2. Explicit is better than implicit.\n",
    "3. Simple is better than complex.\n",
    "4. Complex is better than complicated.\n",
    "5. Flat is better than nested.\n",
    "6. Sparse is better than dense.\n",
    "7. Readability counts.\n",
    "8. Special cases aren't special enough to break the rules.\n",
    "9. Although practicality beats purity.\n",
    "10. Errors should never pass silently.\n",
    "11. Unless explicitly silenced.\n",
    "12. In the face of ambiguity, refuse the temptation to guess.\n",
    "14. There should be one-- and preferably only one --obvious way to do it.\n",
    "15. Although that way may not be obvious at first unless you're Dutch.\n",
    "16. Now is better than never.\n",
    "17. Although never is often better than *right* now.\n",
    "18. If the implementation is hard to explain, it's a bad idea.\n",
    "19. If the implementation is easy to explain, it may be a good idea.\n",
    "20. Namespaces are one honking great idea -- let's do more of those!\n",
    "\n",
    "Auf einige dieser Zeilen wollen wir näher eingehen\n"
   ]
  },
  {
   "cell_type": "markdown",
   "metadata": {},
   "source": [
    "#### Beautiful is better than ugly\n",
    "\n",
    "Die Lösung einen komplexen Problems mit eleganten Methoden wird von anderen Programmieren immer mit Respekt bewertet und Ihr Quellcode wird als schön (beautiful) geadelt"
   ]
  },
  {
   "cell_type": "markdown",
   "metadata": {},
   "source": [
    "#### Explicit is better than implicit\n",
    "Erklären Sie immer, was Sie warum machen. Nehmen Sie nicht an, dass der Leser des Programms (Quellcode) dies schon weiß. Kommentieren Sie deshalb immer Ihren Quellcode !!!!  "
   ]
  },
  {
   "cell_type": "markdown",
   "metadata": {},
   "source": [
    "#### Simple is better than complex.Complex is better than complicated.\n",
    "\n",
    "Halten Sie Ihre Programmierung so einfach wie möglich. Zur Lösung komplexer Probleme werden Sie jedoch oftmals auch komplex programmieren müssen - aber bitte nicht kompliziert !!!"
   ]
  },
  {
   "cell_type": "markdown",
   "metadata": {},
   "source": [
    "#### Readability counts\n",
    "\n",
    "Ihr Quellcode muss immer gut lesbar sein. Dazu gibt es in PEP 8 einige Empfehlungen. Diese dienen zur Übersichtlichkeit aber auch zur Lesbarkeit für andere Programmiere.\n",
    "\n",
    "Einige wichtige Regeln sind:\n",
    "\n",
    "- die maximale Länge einer Zeile sollte 79 Zeichen nicht überschreiten\n",
    "- Einrücken von Code bei Schleifen, Bedingungen,... mit 4 Leerzeichen\n",
    "- Konventionen zur Namensgebung (z.B sollen Variablen klein geschrieben werden)\n",
    "\n",
    "Weitere Empfehlungen erhalten Sie in den PEP 8 unter https://www.python.org/dev/peps/pep-0008/"
   ]
  },
  {
   "cell_type": "markdown",
   "metadata": {},
   "source": [
    "#### Errors should never pass silently\n",
    "\n",
    "Fehler führen oftmals dazu, dass das Programm abstürzt. Dies kann an Programmierfehleren liegen, aber auch am Nutzer des Programms. Ein Programmabsturz ohne Fehlermeldung ist immer zu vermeiden (mögliche Fehler müssen abgefangen werden). Dies Funktioniert in Python mit der Struktur\n",
    "\n",
    "try:\n",
    "    \n",
    "    Befehle\n",
    "    \n",
    "except:\n",
    "    \n",
    "    Ausgabe einer Fehlermeldung oder Beschreibung für weiteres Vorgehen \n",
    "\n",
    "Das bedeutet, dass zuerst einmal versucht wird (try), den Quellcode auszuführen. Falls ein Fehler auftritt, wir dieser abgefangen (Ausnahme- exception), d.h. es wird einer Fehlermeldung ausgegeben oder es wird eine Anweisung für das weitere Vorgehen abgearbeitet."
   ]
  },
  {
   "cell_type": "markdown",
   "metadata": {},
   "source": [
    "#### There should be one-- and preferably only one --obvious way to do it.\n",
    "\n",
    "Es gibt oftmals viele Lösungsmöglichkeiten für ein Problem. Meistens gibt es jedoch eine Standardmethode um dieses Problem zu lösen. Nutzen Sie falls möglich immer Standardlösungen."
   ]
  },
  {
   "cell_type": "markdown",
   "metadata": {},
   "source": [
    "#### Now is better than never\n",
    "\n",
    "Quellcode wird niemals perfekt sein. Diesen Anspruch sollten Sie gar nicht erst haben (weil Sie sonst gar nicht zum Programmieren anfangen werden). Beginnen Sie einfach mit Ihrer Programmierung und veröffentlichen Sie den Quellcode. Andere Programmierer werden ihn dann oftmals gerne optimieren."
   ]
  },
  {
   "cell_type": "markdown",
   "metadata": {},
   "source": [
    "## \"Hallo Welt\"\n",
    "\n",
    "Die meisten Turorials zum Programmieren beginnen mit einer einfachen Aufgabe. Wir wollen, dass der Computer uns begrüßt und \"sagt\": \"Hallo Welt\" (oder hello world). Dies dient auch dazu zu sehen, ob die Installation des Programms korrekt durchgeführt wurde.\n",
    "\n",
    "Beginnen wir also mit unserem ersten Programm !!!\n",
    "\n",
    "(zur Erinnerung: um Python innerhalb einen Jupyther-Notebooks zu starten, klicken Sie bitten in die jeweile Zelle mit dem Quellcode und drücken sie oben auf das nach rechtszeigende Dreieck (\"Run\")"
   ]
  },
  {
   "cell_type": "code",
   "execution_count": 1,
   "metadata": {},
   "outputs": [
    {
     "name": "stdout",
     "output_type": "stream",
     "text": [
      "Hallo Welt\n"
     ]
    }
   ],
   "source": [
    "print(\"Hallo Welt\")"
   ]
  },
  {
   "cell_type": "markdown",
   "metadata": {},
   "source": [
    "Wunderbar !!! Unser Computer hat uns begrüßt.\n",
    "\n",
    "Was macht Befehl print(\"Hallo Welt\") aber nun eigentlich. Na ja, wie der Name der Funktion print() schon sagt, soll der Computer etwas ausdrucken, in diesem fall aber nicht an einen Drucker, sondern auf dem Monitor. Was er drucken soll steht dabei in der Klammer (\"Hallo Welt\"). \"Hallo Welt\" spezifiziert also die Funktion print() und die Ausgabe von print(\"Hallo Welt\") lautet also \"Hallo Welt\". \n",
    "\n",
    "Grundsätzlich werden wir sehr viele solcher Funktionen in diesem Kurs kennenlernen. Mit einer Funktion sagen wir dem Computer, dass er etwas tun soll und spezifizieren dies dann noch mit weiteren Informationen (Argumenten). \n",
    "\n",
    "Dass der Befehl print() heißt und dass danach Klammern stehen, in denen wiederum in Anführungszeichen der Text steht heißt \"Syntax der Programmiersprache\". Jede Programmiersprache hat eine etwas andere Syntax. Wir müssen uns dies wirklcih wie eine Fremdsprache vorstellen, in der die Befehle die Vokabeln und die Klammern, Anführungszeichen,... die Grammatik ist. Leider müssen wir dies halt nun auch lernen !!!"
   ]
  },
  {
   "cell_type": "markdown",
   "metadata": {},
   "source": [
    "#### Spyder\n",
    "\n",
    "Nun wollen wir unser \"Hallo Welt\" Programm in Spyder programmieren. Eine Anleitung als Video finden Sie dazu in den Unterlagen auf Ilias (bzw. im Vorlesungsvideo)."
   ]
  },
  {
   "cell_type": "markdown",
   "metadata": {},
   "source": [
    "### Kommentieren\n",
    "\n",
    "Wir haben bei den Programmiergrundsätzen ja schon gelernt, dass der Quellcode immer Kommentiert sein sollte. Dies kann in Python ganz einfach über das #-Zeichen geschehen: Wenn in einer Zeile ein # steht, wird alles danach nur als Kommentar aufgefasst und nicht als Befehl. Beispiel:"
   ]
  },
  {
   "cell_type": "code",
   "execution_count": 2,
   "metadata": {
    "collapsed": true,
    "jupyter": {
     "outputs_hidden": true
    }
   },
   "outputs": [
    {
     "name": "stdout",
     "output_type": "stream",
     "text": [
      "Hallo Welt \n"
     ]
    }
   ],
   "source": [
    "# Mein erstes Programm (die ganze Zeile wird somit als Kommentar behandelt)\n",
    "\n",
    "print(\"Hallo Welt \") #Kommentar kann auch hinter den Befehlen stehen"
   ]
  },
  {
   "cell_type": "markdown",
   "metadata": {},
   "source": [
    "\n",
    "\n",
    "\n",
    "\n",
    "Mit den Zeichen \n",
    "\n",
    "\"\"\"\n",
    "\n",
    "Kommentar1\n",
    "\n",
    "Kommentar2\n",
    "\n",
    "\"\"\"\n",
    "\n",
    "kann Kommentar auch über mehrere Zeilen geschrieben werden."
   ]
  },
  {
   "cell_type": "code",
   "execution_count": 3,
   "metadata": {
    "collapsed": true,
    "jupyter": {
     "outputs_hidden": true
    }
   },
   "outputs": [
    {
     "name": "stdout",
     "output_type": "stream",
     "text": [
      "Hallo Welt\n"
     ]
    }
   ],
   "source": [
    "\"\"\"\n",
    "Mein erstes Programm\n",
    "und hier noch ein passender Kommentar in einer weiteren Zeile\n",
    "\"\"\"\n",
    "print(\"Hallo Welt\")"
   ]
  },
  {
   "cell_type": "markdown",
   "metadata": {},
   "source": [
    "### Hilfe\n",
    "\n",
    "In Python können Sie direkt Hilfe zu einzelnen Funktionen bekommen. Dies geschieht über die help() Funktion."
   ]
  },
  {
   "cell_type": "code",
   "execution_count": 4,
   "metadata": {},
   "outputs": [
    {
     "name": "stdout",
     "output_type": "stream",
     "text": [
      "Help on built-in function print in module builtins:\n",
      "\n",
      "print(...)\n",
      "    print(value, ..., sep=' ', end='\\n', file=sys.stdout, flush=False)\n",
      "    \n",
      "    Prints the values to a stream, or to sys.stdout by default.\n",
      "    Optional keyword arguments:\n",
      "    file:  a file-like object (stream); defaults to the current sys.stdout.\n",
      "    sep:   string inserted between values, default a space.\n",
      "    end:   string appended after the last value, default a newline.\n",
      "    flush: whether to forcibly flush the stream.\n",
      "\n"
     ]
    }
   ],
   "source": [
    "help(print)"
   ]
  },
  {
   "cell_type": "markdown",
   "metadata": {},
   "source": [
    "Natürlich finden Sie unter python.org auch eine ausführliche Dokumentation (inkl. Tutorials)"
   ]
  },
  {
   "cell_type": "markdown",
   "metadata": {},
   "source": [
    "#### Spyder\n",
    "\n",
    "In Spyder können Sie auf die Funktiom (oder direkt davor) klicken und über Strg-i erhalten Sie direkte Hilfe. Spyder unterstützt sie aber schon beim schreiben mit wichtigen Informationen"
   ]
  },
  {
   "cell_type": "markdown",
   "metadata": {},
   "source": [
    "### Umgang mit Fehlern\n",
    "\n",
    "Oftmals werden Sie feststellen, dass Ihr Programm nicht so läuft wie es soll (entweder es läuft gar nicht, oder es macht nicht was es soll). Wir müssen dann versuchen, den Fehler zu finden. Dies wird auch Debugging genannt und ist oftmals eine zeitraubende und frustierende Tätigkeit (um die wir aber nicht herum kommen)."
   ]
  },
  {
   "cell_type": "markdown",
   "metadata": {},
   "source": [
    "#### Fehlermeldung\n",
    "\n",
    "In diesem Kurs wir das erste Problem (dass das Programm gar nicht erst läuft) vermutlich zuerst auftreten. Glücklicherweise hilft und python oder die IDE (z.B. Spyder) dabei, diese Fehler schnell zu finden, da python Fehlermeldungen ausgibt, die wir lernen müssen zu lesen.\n",
    "Einige Beispiele dazu:"
   ]
  },
  {
   "cell_type": "code",
   "execution_count": 5,
   "metadata": {},
   "outputs": [
    {
     "ename": "SyntaxError",
     "evalue": "invalid syntax (<ipython-input-5-193d96e1d0a4>, line 1)",
     "output_type": "error",
     "traceback": [
      "\u001b[1;36m  File \u001b[1;32m\"<ipython-input-5-193d96e1d0a4>\"\u001b[1;36m, line \u001b[1;32m1\u001b[0m\n\u001b[1;33m    print(Hallo Welt) #Hier haben wir die Anfühungszeichen vergessen\u001b[0m\n\u001b[1;37m                ^\u001b[0m\n\u001b[1;31mSyntaxError\u001b[0m\u001b[1;31m:\u001b[0m invalid syntax\n"
     ]
    }
   ],
   "source": [
    "print(Hallo Welt) #Hier haben wir die Anfühungszeichen vergessen"
   ]
  },
  {
   "cell_type": "markdown",
   "metadata": {},
   "source": [
    "Python gibt eine Fehlermeldung aus, und schreibt dabei die Zeile/Befehl, wo der Fehler aufgetreten ist. Auch welcher Fehler es war \"SyntaxError\" wird ausgeben.\n",
    "\n",
    "Lerne Sie, solche Fehlermeldung zu lesen. Dies vor allem für das Selbststudium in Coronazeiten wirklich wichtig !!!!\n",
    "\n",
    "Ein weiteres Beispiel:"
   ]
  },
  {
   "cell_type": "code",
   "execution_count": 6,
   "metadata": {},
   "outputs": [
    {
     "ename": "SyntaxError",
     "evalue": "unexpected EOF while parsing (<ipython-input-6-a6398e509a59>, line 1)",
     "output_type": "error",
     "traceback": [
      "\u001b[1;36m  File \u001b[1;32m\"<ipython-input-6-a6398e509a59>\"\u001b[1;36m, line \u001b[1;32m1\u001b[0m\n\u001b[1;33m    print(\"Hallo Welt\" #Hier haben wir die letzte Klammer vergessen\u001b[0m\n\u001b[1;37m                                                                   ^\u001b[0m\n\u001b[1;31mSyntaxError\u001b[0m\u001b[1;31m:\u001b[0m unexpected EOF while parsing\n"
     ]
    }
   ],
   "source": [
    "print(\"Hallo Welt\" #Hier haben wir die letzte Klammer vergessen"
   ]
  },
  {
   "cell_type": "markdown",
   "metadata": {},
   "source": [
    "Auch hier wird wieder ein SyntaxError ausgegeben (zusammen mit der Information: unexpected EOF while parsing - unerwartetes End-of-File (Dateiende)). "
   ]
  },
  {
   "cell_type": "code",
   "execution_count": 7,
   "metadata": {},
   "outputs": [
    {
     "ename": "NameError",
     "evalue": "name 'prin' is not defined",
     "output_type": "error",
     "traceback": [
      "\u001b[1;31m---------------------------------------------------------------------------\u001b[0m",
      "\u001b[1;31mNameError\u001b[0m                                 Traceback (most recent call last)",
      "\u001b[1;32m<ipython-input-7-11f06ae3d3a2>\u001b[0m in \u001b[0;36m<module>\u001b[1;34m\u001b[0m\n\u001b[1;32m----> 1\u001b[1;33m \u001b[0mprin\u001b[0m\u001b[1;33m(\u001b[0m\u001b[1;34m\"Hallo World\"\u001b[0m\u001b[1;33m)\u001b[0m \u001b[1;31m#Hier haben wir den Befehl print() falsch geschrieben\u001b[0m\u001b[1;33m\u001b[0m\u001b[1;33m\u001b[0m\u001b[0m\n\u001b[0m",
      "\u001b[1;31mNameError\u001b[0m: name 'prin' is not defined"
     ]
    }
   ],
   "source": [
    "prin(\"Hallo World\") #Hier haben wir den Befehl print() falsch geschrieben"
   ]
  },
  {
   "cell_type": "markdown",
   "metadata": {},
   "source": [
    "damit bekommen wir einen NameError und die Info dass prin nicht definiert ist.\n",
    "\n",
    "Eine Beschreibung der Fehlermeldungen (Exceptions) erhalten Sie unter:\n",
    "https://docs.python.org/3.8/library/exceptions.html"
   ]
  },
  {
   "cell_type": "markdown",
   "metadata": {},
   "source": [
    "#### Aufgabe 1.1\n",
    "\n",
    "Versuchen Sie in Spyder herauszufinden, wo die Fehler angezeigt werden. Erzeugen Sie mehrere verschiedene Fehler und schauen Sie sich die Fehlermeldungen genau an.\n",
    "\n",
    "Die Lösung finden Sie im Video."
   ]
  },
  {
   "cell_type": "markdown",
   "metadata": {},
   "source": [
    "#### Debugging\n",
    "\n",
    "Fehlervermeidung ist das oberste Ziel: Dazu dienen\n",
    "\n",
    "- Ausnahmen (exceptions) präzise über try-except-Strikturen verwenden (vor allem bei kritischem Code- z.B. Nutzereingaben)\n",
    "- sinnvolle (erklärende) Namen für Variablen, eigene Funktione, Klassen,... vergeben\n",
    "- Fehlermeldungen lesen und verstehen (s.o.)\n",
    "- Schritt-für-Schritt Ausgaben plausibilisieren\n",
    "- bei komplexen Programmen vorab sinnvolle Struktur überlegen\n"
   ]
  }
 ],
 "metadata": {
  "kernelspec": {
   "display_name": "Python 3",
   "language": "python",
   "name": "python3"
  },
  "language_info": {
   "codemirror_mode": {
    "name": "ipython",
    "version": 3
   },
   "file_extension": ".py",
   "mimetype": "text/x-python",
   "name": "python",
   "nbconvert_exporter": "python",
   "pygments_lexer": "ipython3",
   "version": "3.8.6"
  }
 },
 "nbformat": 4,
 "nbformat_minor": 4
}
