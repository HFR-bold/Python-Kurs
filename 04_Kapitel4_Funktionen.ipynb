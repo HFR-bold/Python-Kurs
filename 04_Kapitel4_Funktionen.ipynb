{
 "cells": [
  {
   "cell_type": "markdown",
   "metadata": {},
   "source": [
    "# 4. Funktionen\n",
    "\n",
    "Einige Funktionen haben wir in den vorausgehenden Kapiteln bereits kennen gelernt. Ein Funktion führt für uns gebündelt eine oder mehrer Anweisungen aus. Dabei können wir Werte (Argumente) an die Funktion übergeben und die Funktion liefert uns einen \"berechneten\" Wert oder Ausdruck zurück. \n",
    "\n",
    "Aus der Mathematik kenner wir schon Funktionen, z.B.:\n",
    "\n",
    "y= f(x) mit f(x)=x²\n",
    "\n",
    "Die Funktion f hängt dabei von der Variablen x ab und liefert als Ergebnis den Wert y an uns. Intern wird in der Funktion das Quadrat von x berechnet und dann an die Variable y wieder übergeben.\n",
    "\n",
    "In Python haben wir schon ganz andere (auch nicht-mathematische) Funktionen kennen gelernt, z.B.:\n",
    "\n",
    "    print(\"Hallo\")\n",
    "    eingabe= input(\"Geben Sie eine Zahl ein: \")\n",
    "    len(liste)\n",
    "    ...\n",
    "\n",
    "In Python gibt es eine Vielzahl von bereits fertigen (so genannten built-in) Funktionen, wir können jedoch weitere Funktionen über offizielle Python-Module oder externe-Module hinzuladen und auch eigene Funktionen programmieren.\n"
   ]
  },
  {
   "cell_type": "markdown",
   "metadata": {},
   "source": [
    "# 4.1 Built-in Funktionen und offizielle Python Module"
   ]
  },
  {
   "cell_type": "markdown",
   "metadata": {},
   "source": [
    "Python besitzt bereits eine Vielzahl von Funktionen, auf die wir entweder direkt (built-in) oder aber nach Hinzuladen eines Moduls zugreifen können.\n"
   ]
  },
  {
   "cell_type": "markdown",
   "metadata": {},
   "source": [
    "### 4.1.1 Built-in Funktionen"
   ]
  },
  {
   "cell_type": "markdown",
   "metadata": {},
   "source": [
    "\n",
    "\n",
    "Viele built-in Funktionen kennen Sie schon und wir wollen hier nur nochmals einige kurz nennen (Sie werden die Funktionen dieser Funktionen hoffentlich noch kennen) :\n",
    "\n",
    "    \n",
    "    print()\n",
    "    input()\n",
    "    int()\n",
    "    float()\n",
    "    str()\n",
    "    len()\n",
    "    sum()\n",
    "    max()\n",
    "    min()\n",
    "    pow()\n",
    "    abs()\n",
    "    \n",
    "Alle built-in Funktionen finden Sie in der Dokumentation (https://docs.python.org/3.8/library/functions.html)\n",
    "\n",
    "Da Sie damit bereits Erfahrung haben, wollen wir uns diese Funktionen nicht mehr näher ansehen. Sie können jedoch gerne die Funktionen nochmals ausprobieren\n",
    "\n"
   ]
  },
  {
   "cell_type": "code",
   "execution_count": 44,
   "metadata": {
    "collapsed": true,
    "jupyter": {
     "outputs_hidden": true
    }
   },
   "outputs": [
    {
     "name": "stdout",
     "output_type": "stream",
     "text": [
      "16.0\n"
     ]
    }
   ],
   "source": [
    "# zum Ausprobieren der built-in Funktionen\n",
    "# z.B. \n",
    "\n",
    "x=pow(2,4)\n",
    "print(x)"
   ]
  },
  {
   "cell_type": "markdown",
   "metadata": {},
   "source": [
    "Von diesen Funktionen unterscheiden sich Funktionen, die an einen bestimmten Datentyp gebunden sind. \n",
    "Bei Strings (str) haben wir z.B. die Funktionen str.replace(), str.split(),... kennen gelernt. Diese Art von Funktionen heißen \"Methoden\" und sind an den jeweiligen Datentyp (Integer, Float, String, List, Dictionary) oder allgemein an eine Klasse (sieh Kapitel 6) geknüpft. Einen Überblick finden Sie natürlich ebenfalls in der Dokumentation (https://docs.python.org/3.8/library/stdtypes.html)\n"
   ]
  },
  {
   "cell_type": "markdown",
   "metadata": {},
   "source": [
    "### 3.1.2 Interne (offizielle) Module"
   ]
  },
  {
   "cell_type": "markdown",
   "metadata": {},
   "source": [
    "Die bisherigen built-in Funktionen sind direkt in Python integriert. Python selbst ist in C/C++ programmiert und diese built-in Funktionen wurden deshalb ebenfalls mit C/C++ programmiert. Da man für viele Fragenstellungen jedoch weitere Funktionen benötigt, kann man sich weitere Funktionen hinzuladen. Dies geschieht über Module. Ein Modul ist dabei eine Datei (oder auch mehrere), in der weitere Funktionen (aber auch Datentypen, Konstanten,...) enthalten sind. Diese buil-in Funktionen (und Datentypen, Konstanten,....) und auch die offiziellen Module mit Ihren Funktionen werden als \"Python Standard Library\" (Python Standardbibliothek) zusammengefasst. Sobald Sie Python installiert haben, können Sie auf diese Standardbibliothek zugreifen.\n",
    "Auf welche Funktionen können wir denn nun zurückgreifen ? Einen Überblick bietet auch hier wieder die offizielle Dokumentation: https://docs.python.org/3.8/library/index.html. Es ist unmöglich auf alle diese Funktionen und Module einzugehen, deshalb möchte ich hier nur das Modul \"math\" näher vorstellen  "
   ]
  },
  {
   "cell_type": "markdown",
   "metadata": {},
   "source": [
    "#### Modul math"
   ]
  },
  {
   "cell_type": "markdown",
   "metadata": {},
   "source": [
    "Im Modul math sind weitere mathematischen Funktionen definiert. Mit math können wir so z.B. auch trigonomische Funktionen ausführen oder auf Konstanten wie PI zugreifen (siehe https://docs.python.org/3.8/library/math.html). Um dies zu tun, müssen wir aber zuerst das Modul importieren. Dies geschieht mit dem Befehl\n",
    "\n",
    "import Modulname"
   ]
  },
  {
   "cell_type": "code",
   "execution_count": 45,
   "metadata": {
    "collapsed": true,
    "jupyter": {
     "outputs_hidden": true
    }
   },
   "outputs": [],
   "source": [
    "import math"
   ]
  },
  {
   "cell_type": "markdown",
   "metadata": {},
   "source": [
    "Nun können wir auf alle Funktionen und auch Kostanten des Moduls zugreifen (z.B. log10() - 10er-Logarithmus. Wir müssen python jedoch auch noch mitteilen, dass die Funktion im Modul math zu finden ist. Dies geschieht, in dem wir vor der Funktion math. schreiben  "
   ]
  },
  {
   "cell_type": "code",
   "execution_count": 46,
   "metadata": {
    "collapsed": true,
    "jupyter": {
     "outputs_hidden": true
    }
   },
   "outputs": [
    {
     "name": "stdout",
     "output_type": "stream",
     "text": [
      "2.0\n"
     ]
    }
   ],
   "source": [
    "import math\n",
    "y = math.log10(100)\n",
    "print(y)"
   ]
  },
  {
   "cell_type": "markdown",
   "metadata": {},
   "source": [
    "Manchmal gibt es in einem Modul auch noch Untermodule, die wir nochmals mit einem Punkt vor die Funktion stellen müssten. Um dies zu vereinfachen, kann man auch alle Funktionen direkt importieren.\n",
    "Dies erfolgt durch:"
   ]
  },
  {
   "cell_type": "code",
   "execution_count": 47,
   "metadata": {
    "collapsed": true,
    "jupyter": {
     "outputs_hidden": true
    }
   },
   "outputs": [
    {
     "name": "stdout",
     "output_type": "stream",
     "text": [
      "2.0\n"
     ]
    }
   ],
   "source": [
    "from math import *\n",
    "print(log10(100))"
   ]
  },
  {
   "cell_type": "markdown",
   "metadata": {},
   "source": [
    "Achtung: damit überschreiben wir aber alle Variablen und Funktionen, die wir selbst definiert haben und die genau so heißen, wie Modul-Funktionen. Hier sehen wir das Problem:"
   ]
  },
  {
   "cell_type": "code",
   "execution_count": 48,
   "metadata": {
    "collapsed": true,
    "jupyter": {
     "outputs_hidden": true
    }
   },
   "outputs": [
    {
     "name": "stdout",
     "output_type": "stream",
     "text": [
      "3.141592653589793\n",
      "10.0\n",
      "3.141592653589793\n"
     ]
    }
   ],
   "source": [
    "import math\n",
    "print(math.pi)  # gebe die Zahl PI aus (Konstante aus dem Modul math)\n",
    "pi=10.0 #definiere eine eigene Variable die pi heisst \n",
    "print(pi) # Ausgabe der eigenen Variablen pi\n",
    "from math import * # importiere alle Funktionen/Konstanten des Moduls math\n",
    "print(pi) # Ausgabe von pi ==> unsere Variable wurde durch die Konstante überschrieben"
   ]
  },
  {
   "cell_type": "markdown",
   "metadata": {},
   "source": [
    "Möchte man dieses Problem umgehen aber ist gleichzeitig zu faul immer den Modul- (und ggf. Untermodul-)namen vor die Funktion zu schreiben, kann man auch Alias vergeben. Bei math macht das wenig Sinn, weil der Name math ja schon recht kurz ist, dennoch hier das Beispiel mit math:"
   ]
  },
  {
   "cell_type": "code",
   "execution_count": 49,
   "metadata": {
    "collapsed": true,
    "jupyter": {
     "outputs_hidden": true
    }
   },
   "outputs": [
    {
     "name": "stdout",
     "output_type": "stream",
     "text": [
      "3.141592653589793\n"
     ]
    }
   ],
   "source": [
    "import math as m # Anstelle von math reicht es , wenn wir m. schreiben\n",
    "print(m.pi)"
   ]
  },
  {
   "cell_type": "markdown",
   "metadata": {},
   "source": [
    "## 4.2 Externe Module\n",
    "\n",
    "Die Python-Community ist sehr aktiv und schreibt ständig neue Module, die wir aber (vor der ersten Nutzung) noch installieren müssen. In diesem Kurs können und wollen wir dies nicht machen, da wir mit  WinPython bereits ein Python-System haben, das viele externe Module beinhaltet (die Entwickler von WinPhython haben diese Module für uns schon installiert). Falls dieser Funktionsumfang nicht ausreichen sollte, muss auf andere Python-Systeme zurückgreifen (z.B. Anaconda) bei denen weitere externe Module installiert werden können. Einen Überblick über (viele) externe Python-Pakete liefert https://pypi.org/ (Python Package Index). Diese Programme können auch über pip (https://pypi.org/project/pip/) installiert werden."
   ]
  },
  {
   "cell_type": "markdown",
   "metadata": {},
   "source": [
    "Wenn wir einen Überblick über alle bei uns installierten Module/Pakete haben wollen, können wir diese über help('modules') abfragen. Achtung: Diese Abfrage dauert evtl. einige Minuten und liefert zuerst eine Fehlermeldung ab, bevor dann aber doch alle installierten Module aufgelistet werden."
   ]
  },
  {
   "cell_type": "code",
   "execution_count": 50,
   "metadata": {
    "collapsed": true,
    "jupyter": {
     "outputs_hidden": true
    }
   },
   "outputs": [
    {
     "name": "stdout",
     "output_type": "stream",
     "text": [
      "\n",
      "Please wait a moment while I gather a list of all available modules...\n",
      "\n"
     ]
    },
    {
     "name": "stderr",
     "output_type": "stream",
     "text": [
      "76897226 WARNING: Expected Tk Togl installation in D:\\Python\\WPy64-3860\\python-3.8.6.amd64\\lib\\site-packages\\OpenGL\\Tk\\togl-win32-64\n",
      "76897260 INFO: Loading Togl from: D:\\Python\\WPy64-3860\\python-3.8.6.amd64\\lib\\site-packages\\OpenGL\\Tk\\togl-win32-64\n",
      "76897268 ERROR: Failure loading Togl package: can't find package Togl, on debian systems this is provided by `libtogl2`\n",
      "76899886 INFO: Skipped writing C:\\Users\\bold\\AppData\\Local\\Temp\\tmp1u9300c1\\_remote_module_non_sriptable.py\n"
     ]
    },
    {
     "name": "stdout",
     "output_type": "stream",
     "text": [
      "Cython              color               mask                scs\n",
      "IPython             color_test          mask_test           seaborn\n",
      "Levenshtein         colorama            math                secrets\n",
      "OpenGL              colorcet            math_test           select\n",
      "PIL                 colordict           matplotlib          selectors\n",
      "PyInstaller         colorsys            mccabe              send2trash\n",
      "PyQt5               commctrl            mercantile          serial\n",
      "__future__          compat              mergedeep           servicemanager\n",
      "__main__            compat_test         metakernel          setuptools\n",
      "_abc                compileall          midi                shap\n",
      "_ast                comtypes            midi_tags           shapefile\n",
      "_asyncio            concurrent          midi_test           shapely\n",
      "_bisect             conf                mimetypes           shelve\n",
      "_black_version      configparser        mistune             shlex\n",
      "_blake2             constants           mixer               shutil\n",
      "_bootlocale         constants_test      mixer_music         signal\n",
      "_brotli             contextlib          mixer_music_tags    simpervisor\n",
      "_bz2                contextvars         mixer_music_test    simplegeneric\n",
      "_camera             copy                mixer_tags          simplejson\n",
      "_camera_opencv_highgui copyreg             mixer_test          simpy\n",
      "_camera_vidcapture  crypt               mizani              site\n",
      "_cffi_backend       cryptography        mkl                 six\n",
      "_codecs             csv                 mlxtend             skfuzzy\n",
      "_codecs_cn          ctypes              mmap                skimage\n",
      "_codecs_hk          curses              mmapfile            sklearn\n",
      "_codecs_iso2022     cursors             mmsystem            skopt\n",
      "_codecs_jp          cursors_test        modulefinder        slicer\n",
      "_codecs_kr          cvxopt              monotonic           smtpd\n",
      "_codecs_tw          cvxpy               mouse               smtplib\n",
      "_collections        cx_Freeze           mouse_test          snakeviz\n",
      "_collections_abc    cycler              moviepy             snappy\n",
      "_compat_pickle      cython              mpl_scatter_density sndarray\n",
      "_compression        cythonmagic         mpld3               sndarray_tags\n",
      "_contextvars        cytoolz             mpldatacursor       sndarray_test\n",
      "_csv                dask                mpmath              sndhdr\n",
      "_ctypes             dask_glm            msgpack             sniffio\n",
      "_cvxcore            dask_labextension   msilib              snowballstemmer\n",
      "_datetime           dask_ml             msvc_runtime        snuggs\n",
      "_decimal            dask_searchcv       msvcrt              socket\n",
      "_distutils_hack     databases           multidict           socketserver\n",
      "_dummy_thread       dataclasses         multipledispatch    sortedcontainers\n",
      "_dummybackend       datasette           multiprocessing     sounddevice\n",
      "_ecos               datashader          munch               soupsieve\n",
      "_elementtree        datashape           mypy                sphinx\n",
      "_freetype           datetime            mypy_extensions     sphinx_rtd_theme\n",
      "_functools          dateutil            mypyc               sphinxify\n",
      "_hashlib            db                  mysql               sphinxthread\n",
      "_heapq              dbi                 mysqlx              sprite\n",
      "_imp                dbm                 nacl                sprite_test\n",
      "_io                 dde                 nbclient            spyder\n",
      "_json               decimal             nbconvert           spyder_kernels\n",
      "_locale             decorator           nbconvert_reportlab sql\n",
      "_lsprof             defusedxml          nbformat            sqlalchemy\n",
      "_lzma               demo                nest_asyncio        sqlite3\n",
      "_markupbase         deprecated          netCDF4             sqlite_bro\n",
      "_md5                descartes           netbios             sqlparse\n",
      "_msi                diff_match_patch    netrc               sre_compile\n",
      "_multibytecodec     difflib             networkx            sre_constants\n",
      "_multiprocessing    dis                 newbuffer           sre_parse\n",
      "_numpysndarray      display             nlopt               ssl\n",
      "_numpysurfarray     display_test        nltk                sspi\n",
      "_opcode             distlib             nntplib             sspicon\n",
      "_operator           distributed         notebook            starlette\n",
      "_osx_support        distutils           nt                  stat\n",
      "_overlapped         docopt              ntpath              statistics\n",
      "_pickle             docrepr             ntsecuritycon       statsmodels\n",
      "_plotly_future_     docs                nturl2path          storemagic\n",
      "_plotly_utils       doctest             numba               streamz\n",
      "_portaudio          docutils            numbergen           string\n",
      "_py_abc             dotenv              numbers             stringprep\n",
      "_pydecimal          draw                numcodecs           struct\n",
      "_pyio               draw_py             numdifftools        subprocess\n",
      "_pyrsistent_version draw_test           numexpr             sunau\n",
      "_pytest             dummy_threading     numpy               supersmoother\n",
      "_queue              easy_install        numpydoc            surface\n",
      "_random             ecos                oct2py              surface_test\n",
      "_remote_module_non_sriptable email               octave_kernel       surfarray\n",
      "_rinterface_cffi_abi emcee               odbc                surfarray_tags\n",
      "_ruamel_yaml        encodings           ogr                 surfarray_test\n",
      "_scs_direct         ensurepip           opcode              surflock\n",
      "_scs_indirect       entrypoints         operator            surflock_test\n",
      "_scs_python         enum                optparse            symbol\n",
      "_sha1               errno               ordlookup           sympy\n",
      "_sha256             event               os                  sympyprinting\n",
      "_sha3               event_test          osgeo               symtable\n",
      "_sha512             examples            osqp                sys\n",
      "_signal             fast_histogram      osqppurepy          sysconfig\n",
      "_sitebuiltins       fastapi             osr                 sysfont\n",
      "_socket             fasteners           outcome             sysfont_test\n",
      "_sounddevice        fastevent           overlay             tables\n",
      "_sqlite3            fastevent_tags      overlay_tags        tabnanny\n",
      "_sre                fastevent_test      overlay_test        tarfile\n",
      "_ssl                fastparquet         packaging           tblib\n",
      "_stat               faulthandler        palettable          telnetlib\n",
      "_statistics         feather             pandas              tempfile\n",
      "_string             filecmp             pandas_datareader   tenacity\n",
      "_strptime           fileinput           pandocfilters       termcolor\n",
      "_struct             filelock            panel               terminado\n",
      "_symtable           fiona               papermill           test\n",
      "_thread             flake8              param               test_pycosat\n",
      "_threading_local    flask               parambokeh          test_test_\n",
      "_tkinter            flask_accepts       paramiko            test_utils\n",
      "_tracemalloc        flask_mail          paramnb             testpath\n",
      "_warnings           flask_restx         parser              tests\n",
      "_weakref            flask_session       parso               textwrap\n",
      "_weakrefset         flask_sqlalchemy    partd               textwrap3\n",
      "_win32sysloader     flaskerize          past                this\n",
      "_winapi             fnmatch             pathlib             threading\n",
      "_winxptheme         folium              pathspec            threadpoolctl\n",
      "_xxsubinterpreters  font                pathtools           threads\n",
      "abc                 font_tags           patsy               threads_test\n",
      "adodbapi            font_test           pdb                 thrift\n",
      "affine              formatter           pdfrw               tifffile\n",
      "afxres              formlayout          pdvega              time\n",
      "aifc                fractions           pefile              time_test\n",
      "aiofiles            freetype            pep8                timeit\n",
      "aiohttp             freetype_tags       perfmon             timer\n",
      "aiosqlite           freetype_test       peutils             tkinter\n",
      "alabaster           fs                  pexpect             tlz\n",
      "altair              fsspec              pg8000              token\n",
      "altair_data_server  ftfont              pickle              tokenize\n",
      "altair_transform    ftfont_tags         pickleshare         toml\n",
      "altair_widgets      ftfont_test         pickletools         toolz\n",
      "altgraph            ftplib              pint                torch\n",
      "amply               functools           pip                 torchvision\n",
      "aniso8601           future              pipdeptree          tornado\n",
      "ansiwrap            fuzzywuzzy          pipes               touch_tags\n",
      "antigravity         gc                  pixelarray          touch_test\n",
      "appdirs             gdal                pixelarray_test     tqdm\n",
      "argon2              gdalconst           pixelcopy           trace\n",
      "argparse            gdalnumeric         pixelcopy_test      traceback\n",
      "array               genericpath         pkg_resources       tracemalloc\n",
      "asciitree           geographiclib       pkgdata             traitlets\n",
      "asgi_csrf           geopandas           pkginfo             traittypes\n",
      "asgiref             geopy               pkgutil             tranquilizer\n",
      "ast                 geoviews            platform            transform\n",
      "asteval             getopt              plistlib            transform_test\n",
      "astroML             getpass             plotly              trio\n",
      "astroid             gettext             plotlywidget        trio_asyncio\n",
      "astropy             gfxdraw             plotnine            tty\n",
      "async_generator     gfxdraw_test        pluggy              turtle\n",
      "async_timeout       glob                ply                 turtledemo\n",
      "asynchat            gmpy2               poplib              twine\n",
      "asyncio             gpytorch            portpicker          twitter\n",
      "asyncore            greenlet            posixpath           typed_ast\n",
      "atexit              gridfs              ppci                types\n",
      "atomicwrites        guidata             pprint              typing\n",
      "attr                guiqwt              prettytable         typing_extensions\n",
      "audioop             gzip                priority            tzlocal\n",
      "autopep8            h11                 profile             ujson\n",
      "autoreload          h2                  proglog             umap\n",
      "babel               h5py                prometheus_client   uncertainties\n",
      "backcall            hashlib             prompt_toolkit      unicodedata\n",
      "backports_abc       heapdict            pstats              unittest\n",
      "baresql             heapq               psutil              urllib\n",
      "base                helpdev             ptpython            urllib3\n",
      "base64              hmac                pty                 uu\n",
      "base_test           holoviews           ptyprocess          uuid\n",
      "baseconv            hpack               pulp                uvicorn\n",
      "bcrypt              html                pvectorc            vega\n",
      "bdb                 html5lib            py                  vega_datasets\n",
      "benchmarks          http                py_compile          venv\n",
      "binascii            httpcore            pyaml               version\n",
      "binhex              httpie              pyarrow             version_test\n",
      "bisect              httpx               pyaudio             virtualenv\n",
      "black               hupper              pybars              vitables\n",
      "blackd              husl                pybind11            voila\n",
      "bleach              hvplot              pyclbr              warnings\n",
      "blib2to3            hypercorn           pycodestyle         wasmer\n",
      "blinker             hyperframe          pycosat             watchdog\n",
      "blit_test           hypothesis          pycparser           wave\n",
      "blosc               ibis                pyct                wcwidth\n",
      "bloscpack           idlelib             pydantic            weakref\n",
      "bokeh               idlexlib            pydeck              webbrowser\n",
      "botorch             idna                pydoc               webencodings\n",
      "bottleneck          image               pydoc_data          werkzeug\n",
      "bqplot              image__save_gl_surface_test pydocstyle          wheel\n",
      "brain_argparse      image_tags          pyepsg              widgetsnbextension\n",
      "brain_attrs         image_test          pyexpat             win2kras\n",
      "brain_boto3         imageext            pyflakes            win32api\n",
      "brain_builtin_inference imageext_tags       pyflux              win32clipboard\n",
      "brain_collections   imageext_test       pygame              win32com\n",
      "brain_crypt         imageio             pygbm               win32con\n",
      "brain_curses        imageio_ffmpeg      pygments            win32console\n",
      "brain_dataclasses   imagesize           pyhdf               win32cred\n",
      "brain_dateutil      imaplib             pylab               win32crypt\n",
      "brain_fstrings      imblearn            pylint              win32cryptcon\n",
      "brain_functools     imghdr              pyls                win32ctypes\n",
      "brain_gi            imp                 pyls_jsonrpc        win32event\n",
      "brain_hashlib       importlib           pymc                win32evtlog\n",
      "brain_http          importlib_metadata  pymeta              win32evtlogutil\n",
      "brain_io            iniconfig           pymongo             win32file\n",
      "brain_mechanize     inspect             pyodbc              win32gui\n",
      "brain_multiprocessing intake              pypandoc            win32gui_struct\n",
      "brain_namedtuple_enum intervaltree        pyparsing           win32help\n",
      "brain_nose          io                  pypm                win32inet\n",
      "brain_numpy_core_fromnumeric ipaddress           pyproj              win32inetcon\n",
      "brain_numpy_core_function_base ipykernel           pyqt5_tools         win32job\n",
      "brain_numpy_core_multiarray ipykernel_launcher  pyqtgraph           win32lz\n",
      "brain_numpy_core_numeric ipyleaflet          pyrsistent          win32net\n",
      "brain_numpy_core_numerictypes ipympl              pystache            win32netcon\n",
      "brain_numpy_core_umath ipython_genutils    pytest              win32pdh\n",
      "brain_numpy_ndarray ipywidgets          pythoncom           win32pdhquery\n",
      "brain_numpy_random_mtrand isapi               pytz                win32pdhutil\n",
      "brain_numpy_utils   isort               pyviz_comms         win32pipe\n",
      "brain_pkg_resources isympy              pywin               win32print\n",
      "brain_pytest        itertools           pywin32_bootstrap   win32process\n",
      "brain_qt            itsdangerous        pywin32_testutil    win32profile\n",
      "brain_random        janus               pywintypes          win32ras\n",
      "brain_re            jedi                pywt                win32rcparser\n",
      "brain_responses     jinja2              pyximport           win32security\n",
      "brain_scipy_signal  joblib              pyzo                win32service\n",
      "brain_six           joystick            pyzolauncher        win32serviceutil\n",
      "brain_ssl           joystick_test       qdarkstyle          win32timezone\n",
      "brain_subprocess    json                qtawesome           win32trace\n",
      "brain_threading     json5               qtconsole           win32traceutil\n",
      "brain_typing        jsonschema          qtpy                win32transaction\n",
      "brain_uuid          julia               quantecon           win32ts\n",
      "branca              jupyter             quart               win32ui\n",
      "brewer2mpl          jupyter_bokeh       queue               win32uiole\n",
      "brotli              jupyter_client      quopri              win32verstamp\n",
      "bs4                 jupyter_console     qwt                 win32wnet\n",
      "bson                jupyter_core        random              winerror\n",
      "bufferproxy         jupyter_server      rasterio            winioctlcon\n",
      "bufferproxy_test    jupyter_server_proxy rasutil             winnt\n",
      "builtins            jupyter_sphinx      re                  winperf\n",
      "bz2                 jupyterlab          readme_renderer     winpty\n",
      "cProfile            jupyterlab_launcher rect                winpython\n",
      "cachelib            jupyterlab_pygments rect_test           winreg\n",
      "caffe2              jupyterlab_server   redis               winrt\n",
      "calendar            key                 regcheck            winsound\n",
      "camera              key_test            regex               winxpgui\n",
      "camera_test         keyring             regutil             winxptheme\n",
      "cartopy             keyword             reportlab           wordcloud\n",
      "cdrom               kiwisolver          reprlib             wrapt\n",
      "cdrom_tags          lazy_object_proxy   requests            wsgiref\n",
      "cdrom_test          lib2to3             requests_toolbelt   wsproto\n",
      "certifi             libfuturize         retrying            xarray\n",
      "cffi                libpasteurize       rfc3986             xdrlib\n",
      "cftime              linecache           rise                xlrd\n",
      "cgi                 llvmlite            rlcompleter         xlsxwriter\n",
      "cgitb               lmfit               rmagic              xlwings\n",
      "chardet             locale              rope                xml\n",
      "chunk               locals              rpy2                xmlrpc\n",
      "click               locket              rtree               xxsubtype\n",
      "click_default_group logging             run_tests__tests    yaml\n",
      "click_plugins       loky                runpy               yapf\n",
      "cligj               lxml                rwobject            yapftests\n",
      "cloudpickle         lz4                 rwobject_test       yarl\n",
      "clr                 lzma                rx                  zarr\n",
      "clrmagic            macosx              sched               zict\n",
      "cmath               mailbox             scilab2py           zipapp\n",
      "cmd                 mailcap             scipy               zipfile\n",
      "code                markdown            scramp              zipimport\n",
      "codecs              markupsafe          scrap               zipp\n",
      "codeop              marshal             scrap_tags          zlib\n",
      "collections         marshmallow         scrap_test          zmq\n",
      "\n",
      "Enter any module name to get more help.  Or, type \"modules spam\" to search\n",
      "for modules whose name or summary contain the string \"spam\".\n",
      "\n"
     ]
    }
   ],
   "source": [
    "help('modules')"
   ]
  },
  {
   "cell_type": "markdown",
   "metadata": {},
   "source": [
    "Unter anderem sehen wir hier die Module matplotlib, pandas, numpy, scipy die wir später noch kennen lernen werden. Oftmals sind diese Module sehr umfangreich und mit Untermodulen versehen, aber dennoch werden diese wie \"math\" auch über import hinzugeladen. Am Beispiel von matplotlib (Modul zum Erzeugen von Abbildungen) soll dies kurz dargestellt werden:"
   ]
  },
  {
   "cell_type": "code",
   "execution_count": 51,
   "metadata": {
    "collapsed": true,
    "jupyter": {
     "outputs_hidden": true
    }
   },
   "outputs": [
    {
     "data": {
      "image/png": "[encoded data removed]",
      "text/plain": [
       "<Figure size 432x288 with 1 Axes>"
      ]
     },
     "metadata": {
      "needs_background": "light"
     },
     "output_type": "display_data"
    }
   ],
   "source": [
    "# %matplotlib inline muss nur verwendet werden, um die Abbildungen direkt im Notebok darzustellen\n",
    "%matplotlib inline   \n",
    "\n",
    "import matplotlib.pyplot as plt #importieren des Moduls (Untermoduls)\n",
    "\n",
    "# x - und y - Daten als Listen nach er Funktion: als f(x)=x²\n",
    "x_werte=[1,2,3,4]\n",
    "y_werte=[1, 4, 9, 16]\n",
    "\n",
    "plt.plot(x_werte,y_werte) #Abbildungsart (plot-Linientyp) und Daten definieren \n",
    "\n",
    "plt.xlabel('x') #Titel x-Achse\n",
    "plt.ylabel('y') #Titel y-Achse\n",
    "plt.show() #Plot darstellen"
   ]
  },
  {
   "cell_type": "markdown",
   "metadata": {},
   "source": [
    "## 4.3. Eigene Funktionen"
   ]
  },
  {
   "cell_type": "markdown",
   "metadata": {},
   "source": [
    "Obwohl der Funktionsumfang von Python schon sehr mächtig ist und darüber hinaus noch unzählige externe Projekte/Module nachinstalliert werden können, werden Sie oftmals eigene Funktionen schreiben müssen. Eigene Funktionen führen nämlich dazu, dass der Quellcode strukturierter wird und besser zu pflegen ist. Stellen Sie sich vor, Sie benötigen in einem Programm immer wieder den Algorithmus zum Berechnen des Abflusses aus dem Wasserstand (Manning-Strickler-Gleichung aus Aufgabe 2.1).\n",
    "Diese Gleichungen wollen Sie ja nicht jedesmal neu eintippen(und auch nicht kopieren), da Ihr Code dann schnell unübersichtlich wird. Falls Sie darüber hinaus den Algorithmus abändern müssen, müssten Sie dies ja dann an vielen Stellen in Ihrem Code machen (und hoffen, dass Sie keine vergessen haben).\n",
    "Genau hier kommen nun eigene Funktionen ins Spiel. Wir können eine Funktion nun einmal am Anfang unseres Quellcodes definieren und dann immer wieder darauf direkt zugreifen, als ob es built-in Funktionen wären. \n",
    "\n",
    "Der grundsätzliche Aufbau einer Funktion lautet:\n",
    "\n",
    "def meine_funktion(argument1, *args, **kwargs):\n",
    "\n",
    "    meine_variable = f(argument1)\n",
    "    return meine_variable\n",
    "\n",
    "\n",
    "Wir übergeben der Funktion Argumente (Werte), optinale Argumente (*args) oder optinale Schlüsselwörter (**kwargs), die Funktion rechnet mit den Argumenten was aus und gibt dann über return den berechneten Wert zurück.\n",
    "\n",
    "Die Namen unserer neuen Funktion kann wieder frei gewählt werden, es gelten aber ähnliche Regeln wie für Variablennamen (kleinschreibung, keine Sonderzeichen außer _,...).\n",
    "\n",
    "Nach der Definition der Funktion können wir ganz normal auf diese zugreifen.\n",
    "\n",
    "Ein einfaches Beispiel zur Umrechnung von Meter in Zentimeter (wirklich einfach)\n"
   ]
  },
  {
   "cell_type": "code",
   "execution_count": 52,
   "metadata": {
    "collapsed": true,
    "jupyter": {
     "outputs_hidden": true
    }
   },
   "outputs": [
    {
     "name": "stdout",
     "output_type": "stream",
     "text": [
      "0.5 m sind 50.0 cm\n"
     ]
    }
   ],
   "source": [
    "def umrechnung_m_cm(meter): #Aufrufdefinition\n",
    "    zentimeter=meter*100.0 #Berechnug\n",
    "    return zentimeter #Rückgabe des Ergebnisses\n",
    "\n",
    "m=0.5\n",
    "cm=umrechnung_m_cm(m) # Aufruf der Funktion\n",
    "print(\"{0} m sind {1} cm\".format(m,cm))"
   ]
  },
  {
   "cell_type": "markdown",
   "metadata": {},
   "source": [
    "### Aufgabe 4.1\n",
    "\n",
    "Schreiben Sie eine Funktion, die aus einem gegebenen Wasserstand h den Abfluss nach Maning-Strickler (Aufgabe 2.1) berechnet (die übrigen Werte (b,kst,I) können aus Aufgabe 2.1 entnommen werden. Rufen Sie diese Funktion mit einem Wasserstand von 5.0 auf."
   ]
  },
  {
   "cell_type": "code",
   "execution_count": 53,
   "metadata": {
    "collapsed": true,
    "jupyter": {
     "outputs_hidden": true
    }
   },
   "outputs": [],
   "source": [
    "# Ihr Programm"
   ]
  },
  {
   "cell_type": "markdown",
   "metadata": {},
   "source": [
    "### Lösung Aufgabe 4.1\n",
    "\n",
    "Bitte ggf. auf ... klicken !!"
   ]
  },
  {
   "cell_type": "code",
   "execution_count": 54,
   "metadata": {
    "collapsed": true,
    "jupyter": {
     "outputs_hidden": true,
     "source_hidden": true
    }
   },
   "outputs": [
    {
     "name": "stdout",
     "output_type": "stream",
     "text": [
      "124.84668560995549\n"
     ]
    }
   ],
   "source": [
    "def q_manning_strickler(h):\n",
    "    # Variablen mit Eingabedaten initialisieren (Dezimalzahlen !!!)\n",
    "\n",
    "    b=10.0 # Gewässerbreite\n",
    "    k_st=35.0 # Rauheitsbeiwert\n",
    "    I=0.0015 # Sohlgefälle\n",
    "\n",
    "    # Durchflossen Querschnittsfläche A, benetzer Umfang lu und hydraulischer Radius r_hy berechnen\n",
    "\n",
    "    A = b*h\n",
    "    l_u = b+2*h\n",
    "    r_hy =A/l_u\n",
    "\n",
    "    # Durchfluss Q nach Formel ausrechnen\n",
    "\n",
    "    Q = k_st*r_hy**(2/3)*I**(1/2)*A\n",
    "\n",
    "    # Durchfluss Q zurückgeben\n",
    "    return Q\n",
    "\n",
    "\n",
    "wasserstand = q_manning_strickler(5.0)\n",
    "print(wasserstand)\n",
    "\n",
    "  \n"
   ]
  },
  {
   "cell_type": "markdown",
   "metadata": {},
   "source": [
    "Wir können auch mehrere Argumente übergeben:"
   ]
  },
  {
   "cell_type": "code",
   "execution_count": 55,
   "metadata": {
    "collapsed": true,
    "jupyter": {
     "outputs_hidden": true
    }
   },
   "outputs": [
    {
     "name": "stdout",
     "output_type": "stream",
     "text": [
      "8.8\n"
     ]
    }
   ],
   "source": [
    "def irgendeine_funktion(x1,x2):\n",
    "    y=x1*x2+x1  # eine beliebige mathematische Funktion\n",
    "    return y\n",
    "\n",
    "var1=2.0\n",
    "var2=3.4\n",
    "print(irgendeine_funktion(var1,var2))"
   ]
  },
  {
   "cell_type": "markdown",
   "metadata": {},
   "source": [
    "### Aufgabe 4.2\n",
    "\n",
    "Erweitern Sie Ihre Funktion, in dem der Nutzer der Funktion nun neben h auch noch b, kst und I eingeben kann.\n",
    "Zur Überprüfung rechnen Sie bitte mit den gleichen Werten wie in Aufgabe 4.1."
   ]
  },
  {
   "cell_type": "code",
   "execution_count": 56,
   "metadata": {
    "collapsed": true,
    "jupyter": {
     "outputs_hidden": true
    }
   },
   "outputs": [],
   "source": [
    "# Ihr Programm"
   ]
  },
  {
   "cell_type": "code",
   "execution_count": 57,
   "metadata": {
    "collapsed": true,
    "jupyter": {
     "outputs_hidden": true
    }
   },
   "outputs": [],
   "source": [
    "### Lösung Aufgabe 4.2"
   ]
  },
  {
   "cell_type": "code",
   "execution_count": 58,
   "metadata": {
    "collapsed": true,
    "jupyter": {
     "outputs_hidden": true,
     "source_hidden": true
    }
   },
   "outputs": [
    {
     "name": "stdout",
     "output_type": "stream",
     "text": [
      "124.84668560995549\n"
     ]
    }
   ],
   "source": [
    "def q_manning_strickler(h,b,k_st,I):\n",
    "   \n",
    "    # Durchflossen Querschnittsfläche A, benetzer Umfang lu und hydraulischer Radius r_hy berechnen\n",
    "\n",
    "    A = b*h\n",
    "    l_u = b+2*h\n",
    "    r_hy =A/l_u\n",
    "\n",
    "    # Durchfluss Q nach Formel ausrechnen\n",
    "\n",
    "    Q = k_st*r_hy**(2/3)*I**(1/2)*A\n",
    "\n",
    "    # Durchfluss Q zurückgeben\n",
    "    return Q\n",
    "\n",
    "\n",
    "wasserstand = q_manning_strickler(5.0,10.0,35.0,0.0015)\n",
    "print(wasserstand)\n"
   ]
  },
  {
   "cell_type": "markdown",
   "metadata": {},
   "source": [
    "Bisher haben wir die Argumente der Funktion in der Reihenfolge eingeben müssen, wie Sie in der Funktion definiert ist. Mittels Schlüsselwörtern (Variablennamen der Funktion) können wir dies ändern: "
   ]
  },
  {
   "cell_type": "code",
   "execution_count": 59,
   "metadata": {
    "collapsed": true,
    "jupyter": {
     "outputs_hidden": true
    }
   },
   "outputs": [
    {
     "name": "stdout",
     "output_type": "stream",
     "text": [
      "8.8\n",
      "8.8\n"
     ]
    }
   ],
   "source": [
    "def irgendeine_funktion(x1,x2):\n",
    "    y=x1*x2+x1  # eine beliebige mathematische Funktion\n",
    "    return y\n",
    "\n",
    "var1=2.0\n",
    "var2=3.4\n",
    "print(irgendeine_funktion(var1,var2))  #Bisheriger Aufruf (Reihenfolge beachten)\n",
    "print(irgendeine_funktion(x2=var2,x1=var1)) #Durch Angabe des Variablennames ist Reihenfolge egal"
   ]
  },
  {
   "cell_type": "markdown",
   "metadata": {},
   "source": [
    "Bisher haben wir nur notwenige Argumente definiert. Es ist jedoch auch möglcih, dass wir einer Funktion weitere (optionale) Werte übergeben können (aber nicht müssen). Sie sollten wissen, dass die möglich ist, aber wir werden dies hier nicht behandeln. Mit der Suchmaschine Ihrer Wahl werden Sie sicherlich schnell ein Tutorial oder Beispiel dazu finden (z.B. bei https://stackoverflow.com)"
   ]
  },
  {
   "cell_type": "markdown",
   "metadata": {},
   "source": [
    "Sie können über eine Funktion auch mehrere Werte an das Hauptprogramm zurückgeben. Dazu müssen Sie diese Werte oder Variablen hinter dem return mit Komma getrennt setzen."
   ]
  },
  {
   "cell_type": "code",
   "execution_count": 60,
   "metadata": {
    "collapsed": true,
    "jupyter": {
     "outputs_hidden": true
    }
   },
   "outputs": [
    {
     "name": "stdout",
     "output_type": "stream",
     "text": [
      "8.8\n",
      "12.556063286183154\n"
     ]
    }
   ],
   "source": [
    "def irgendeine_funktion(x1,x2):\n",
    "    y1=x1*x2+x1  # eine beliebige mathematische Funktion\n",
    "    y2=x1**x2+x1 # eine andere beliebige Funktion\n",
    "    return y1,y2 # Rückgabe von zwei Werten\n",
    "\n",
    "var1=2.0\n",
    "var2=3.4\n",
    "\n",
    " #da die Funktion 2 Werte liefert, müssen wir mit erg1 und erg2 auch zwei Variablen bereitstellen\n",
    "erg1,erg2=irgendeine_funktion(var1,var2)\n",
    "\n",
    "print(erg1)\n",
    "print(erg2)"
   ]
  },
  {
   "cell_type": "code",
   "execution_count": null,
   "metadata": {
    "collapsed": true,
    "jupyter": {
     "outputs_hidden": true
    }
   },
   "outputs": [],
   "source": []
  }
 ],
 "metadata": {
  "kernelspec": {
   "display_name": "Python 3",
   "language": "python",
   "name": "python3"
  },
  "language_info": {
   "codemirror_mode": {
    "name": "ipython",
    "version": 3
   },
   "file_extension": ".py",
   "mimetype": "text/x-python",
   "name": "python",
   "nbconvert_exporter": "python",
   "pygments_lexer": "ipython3",
   "version": "3.8.6"
  }
 },
 "nbformat": 4,
 "nbformat_minor": 4
}
