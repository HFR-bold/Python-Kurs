{
 "cells": [
  {
   "cell_type": "markdown",
   "metadata": {},
   "source": [
    "# 4. Funktionen\n",
    "\n",
    "Einige Funktionen haben wir in den vorausgehenden Kapiteln bereits kennen gelernt. Eine Funktion führt für uns gebündelt eine oder mehrere Anweisungen aus. Dabei können wir Werte (Argumente) an die Funktion übergeben und die Funktion liefert uns einen \"berechneten\" Wert oder Ausdruck zurück. \n",
    "\n",
    "Aus der Mathematik kennen wir schon Funktionen, z.B.:\n",
    "\n",
    "y= f(x) mit f(x)=x²\n",
    "\n",
    "Die Funktion f hängt dabei von der Variablen x ab und liefert als Ergebnis den Wert y an uns. Intern wird in der Funktion das Quadrat von x berechnet und dann an die Variable y wieder übergeben.\n",
    "\n",
    "In Python haben wir schon ganz andere (auch nicht-mathematische) Funktionen kennen gelernt, z.B.:\n",
    "\n",
    "    print(\"Hallo\")\n",
    "    eingabe= input(\"Geben Sie eine Zahl ein: \")\n",
    "    len(liste)\n",
    "    ...\n",
    "\n",
    "In Python gibt es eine Vielzahl von bereits fertigen (so genannten built-in) Funktionen, wir können jedoch weitere Funktionen über offizielle Python-Module oder externe-Module hinzuladen und auch eigene Funktionen programmieren.\n"
   ]
  },
  {
   "cell_type": "markdown",
   "metadata": {},
   "source": [
    "# 4.1 Built-in Funktionen und offizielle Python Module"
   ]
  },
  {
   "cell_type": "markdown",
   "metadata": {},
   "source": [
    "Python besitzt bereits eine Vielzahl von Funktionen, auf die wir entweder direkt (built-in) oder aber nach Hinzuladen eines Moduls zugreifen können.\n"
   ]
  },
  {
   "cell_type": "markdown",
   "metadata": {},
   "source": [
    "### 4.1.1 Built-in Funktionen"
   ]
  },
  {
   "cell_type": "markdown",
   "metadata": {},
   "source": [
    "\n",
    "\n",
    "Viele built-in Funktionen kennen Sie schon und wir wollen hier nur nochmals einige kurz nennen (Sie werden die Funktionen dieser Funktionen hoffentlich noch kennen) :\n",
    "\n",
    "    \n",
    "    print()\n",
    "    input()\n",
    "    int()\n",
    "    float()\n",
    "    str()\n",
    "    len()\n",
    "    sum()\n",
    "    max()\n",
    "    min()\n",
    "    pow()\n",
    "    abs()\n",
    "    \n",
    "Alle built-in Funktionen finden Sie in der Dokumentation (https://docs.python.org/3.8/library/functions.html)\n",
    "\n",
    "Da Sie damit bereits Erfahrung haben, wollen wir uns diese Funktionen nicht mehr näher ansehen. Sie können jedoch gerne die Funktionen nochmals ausprobieren\n",
    "\n"
   ]
  },
  {
   "cell_type": "code",
   "execution_count": 2,
   "metadata": {
    "collapsed": true,
    "jupyter": {
     "outputs_hidden": true
    }
   },
   "outputs": [
    {
     "name": "stdout",
     "output_type": "stream",
     "text": [
      "16\n"
     ]
    }
   ],
   "source": [
    "# zum Ausprobieren der built-in Funktionen\n",
    "# z.B. \n",
    "\n",
    "x=pow(2,4)\n",
    "print(x)"
   ]
  },
  {
   "cell_type": "markdown",
   "metadata": {},
   "source": [
    "Von diesen Funktionen unterscheiden sich Funktionen, die an einen bestimmten Datentyp gebunden sind. \n",
    "Bei Strings (str) haben wir z.B. die Funktionen str.replace(), str.split(),... kennen gelernt. Diese Art von Funktionen heißen \"Methoden\" und sind an den jeweiligen Datentyp (Integer, Float, String, List, Dictionary) oder allgemein an eine Klasse (siehe Kapitel 6) geknüpft. Einen Überblick finden Sie natürlich ebenfalls in der Dokumentation (https://docs.python.org/3.8/library/stdtypes.html).\n"
   ]
  },
  {
   "cell_type": "markdown",
   "metadata": {},
   "source": [
    "### 3.1.2 Interne (offizielle) Module (Python Standardbibliothek)"
   ]
  },
  {
   "cell_type": "markdown",
   "metadata": {},
   "source": [
    "Die bisherigen built-in Funktionen sind direkt in Python integriert. Python selbst ist in C/C++ programmiert und diese built-in Funktionen wurden deshalb ebenfalls mit C/C++ programmiert. Da man für viele Fragenstellungen jedoch weitere Funktionen benötigt, kann man sich weitere Funktionen hinzuladen. Dies geschieht über Module. Ein Modul ist dabei eine Datei (oder auch mehrere), in der weitere Funktionen (aber auch Datentypen, Konstanten,...) enthalten sind. Diese built-in Funktionen (und Datentypen, Konstanten,....) und auch die offiziellen Module mit Ihren Funktionen werden als \"Python Standard Library\" (Python Standardbibliothek) zusammengefasst. Sobald Sie Python installiert haben, können Sie auf diese Standardbibliothek zugreifen.\n",
    "Welche Funktionen können wir denn nun aber genau nutzen? Einen Überblick bietet auch hier wieder die offizielle Dokumentation: https://docs.python.org/3.8/library/index.html. Es ist unmöglich auf alle diese Funktionen und Module einzugehen, deshalb soll hier nur das Modul \"math\" näher vorgestellt werden.  "
   ]
  },
  {
   "cell_type": "markdown",
   "metadata": {},
   "source": [
    "#### Modul math"
   ]
  },
  {
   "cell_type": "markdown",
   "metadata": {},
   "source": [
    "Im Modul math sind weitere mathematischen Funktionen definiert. Mit math können wir so z.B. auch trigonomische Funktionen ausführen oder auf Konstanten wie PI zugreifen (siehe https://docs.python.org/3.8/library/math.html). Um dies zu tun, müssen wir aber zuerst das Modul importieren. Dies geschieht mit dem Befehl\n",
    "\n",
    "import Modulname"
   ]
  },
  {
   "cell_type": "code",
   "execution_count": 3,
   "metadata": {
    "collapsed": true,
    "jupyter": {
     "outputs_hidden": true
    }
   },
   "outputs": [],
   "source": [
    "import math"
   ]
  },
  {
   "cell_type": "markdown",
   "metadata": {},
   "source": [
    "Nun können wir auf alle Funktionen und auch Konstanten des Moduls zugreifen (z.B. log10() - 10er-Logarithmus. Wir müssen Python jedoch auch noch mitteilen, dass die Funktion im Modul math zu finden ist. Dies geschieht, in dem wir vor der Funktion math. schreiben  "
   ]
  },
  {
   "cell_type": "code",
   "execution_count": 4,
   "metadata": {
    "collapsed": true,
    "jupyter": {
     "outputs_hidden": true
    }
   },
   "outputs": [
    {
     "name": "stdout",
     "output_type": "stream",
     "text": [
      "2.0\n"
     ]
    }
   ],
   "source": [
    "import math\n",
    "y = math.log10(100)\n",
    "print(y)"
   ]
  },
  {
   "cell_type": "markdown",
   "metadata": {},
   "source": [
    "Manchmal gibt es in einem Modul auch noch Untermodule ode Klassen, die wir nochmals mit einem Punkt vor die Funktion stellen müssten. Um dies zu vereinfachen, kann man auch alle Funktionen/Klassen direkt importieren.\n",
    "Dies erfolgt durch:"
   ]
  },
  {
   "cell_type": "code",
   "execution_count": 5,
   "metadata": {
    "collapsed": true,
    "jupyter": {
     "outputs_hidden": true
    }
   },
   "outputs": [
    {
     "name": "stdout",
     "output_type": "stream",
     "text": [
      "2.0\n"
     ]
    }
   ],
   "source": [
    "from math import *\n",
    "print(log10(100))"
   ]
  },
  {
   "cell_type": "markdown",
   "metadata": {},
   "source": [
    "Achtung: Damit überschreiben wir aber alle Variablen und Funktionen, die wir selbst definiert haben und die genau so heißen, wie Modul-Funktionen. Hier sehen wir das Problem:"
   ]
  },
  {
   "cell_type": "code",
   "execution_count": 6,
   "metadata": {
    "collapsed": true,
    "jupyter": {
     "outputs_hidden": true
    }
   },
   "outputs": [
    {
     "name": "stdout",
     "output_type": "stream",
     "text": [
      "3.141592653589793\n"
     ]
    },
    {
     "ename": "TypeError",
     "evalue": "unsupported operand type(s) for +: 'float' and 'str'",
     "output_type": "error",
     "traceback": [
      "\u001b[1;31m---------------------------------------------------------------------------\u001b[0m",
      "\u001b[1;31mTypeError\u001b[0m                                 Traceback (most recent call last)",
      "\u001b[1;32m<ipython-input-6-f0820ab68fc8>\u001b[0m in \u001b[0;36m<module>\u001b[1;34m\u001b[0m\n\u001b[0;32m      2\u001b[0m \u001b[0mprint\u001b[0m\u001b[1;33m(\u001b[0m\u001b[0mmath\u001b[0m\u001b[1;33m.\u001b[0m\u001b[0mpi\u001b[0m\u001b[1;33m)\u001b[0m  \u001b[1;31m# gebe die Zahl PI aus (Konstante aus dem Modul math)\u001b[0m\u001b[1;33m\u001b[0m\u001b[1;33m\u001b[0m\u001b[0m\n\u001b[0;32m      3\u001b[0m \u001b[0mpi\u001b[0m\u001b[1;33m=\u001b[0m\u001b[1;36m10.0\u001b[0m \u001b[1;31m#definiere eine eigene Variable die pi heisst\u001b[0m\u001b[1;33m\u001b[0m\u001b[1;33m\u001b[0m\u001b[0m\n\u001b[1;32m----> 4\u001b[1;33m \u001b[0mprint\u001b[0m\u001b[1;33m(\u001b[0m\u001b[0mpi\u001b[0m\u001b[1;33m+\u001b[0m \u001b[1;34m\" \"\u001b[0m\u001b[1;33m+\u001b[0m\u001b[0mmath\u001b[0m\u001b[1;33m.\u001b[0m\u001b[0mpi\u001b[0m\u001b[1;33m)\u001b[0m \u001b[1;31m# Ausgabe der eigenen Variablen pi und PI\u001b[0m\u001b[1;33m\u001b[0m\u001b[1;33m\u001b[0m\u001b[0m\n\u001b[0m\u001b[0;32m      5\u001b[0m \u001b[1;32mfrom\u001b[0m \u001b[0mmath\u001b[0m \u001b[1;32mimport\u001b[0m \u001b[1;33m*\u001b[0m \u001b[1;31m# importiere alle Funktionen/Konstanten des Moduls math\u001b[0m\u001b[1;33m\u001b[0m\u001b[1;33m\u001b[0m\u001b[0m\n\u001b[0;32m      6\u001b[0m \u001b[0mprint\u001b[0m\u001b[1;33m(\u001b[0m\u001b[0mpi\u001b[0m\u001b[1;33m)\u001b[0m \u001b[1;31m# Ausgabe von pi ==> unsere Variable wurde durch die Konstante überschrieben\u001b[0m\u001b[1;33m\u001b[0m\u001b[1;33m\u001b[0m\u001b[0m\n",
      "\u001b[1;31mTypeError\u001b[0m: unsupported operand type(s) for +: 'float' and 'str'"
     ]
    }
   ],
   "source": [
    "import math\n",
    "print(math.pi)  # gebe die Zahl PI aus (Konstante aus dem Modul math)\n",
    "pi=10.0 #definiere eine eigene Variable die pi heisst \n",
    "print(pi+ \" \"+math.pi) # Ausgabe der eigenen Variablen pi und PI\n",
    "from math import * # importiere alle Funktionen/Konstanten des Moduls math\n",
    "print(pi) # Ausgabe von pi ==> unsere Variable wurde durch die Konstante überschrieben"
   ]
  },
  {
   "cell_type": "markdown",
   "metadata": {},
   "source": [
    "Möchte man dieses Problem umgehen aber ist gleichzeitig zu bequem immer den Modul- (und ggf. Untermodul-)namen vor die Funktion zu schreiben, kann man auch Alias vergeben. Bei math macht das wenig Sinn, weil der Name math ja schon recht kurz ist, dennoch hier das Beispiel mit math:"
   ]
  },
  {
   "cell_type": "code",
   "execution_count": null,
   "metadata": {
    "collapsed": true,
    "jupyter": {
     "outputs_hidden": true
    }
   },
   "outputs": [],
   "source": [
    "import math as m # Anstelle von math reicht es , wenn wir m. schreiben\n",
    "print(m.pi)"
   ]
  },
  {
   "cell_type": "markdown",
   "metadata": {},
   "source": [
    "## 4.2 Externe Module\n",
    "\n",
    "Die Python-Community ist sehr aktiv und schreibt ständig neue Module, die wir aber (vor der ersten Nutzung) noch installieren müssen. In diesem Kurs können und wollen wir dies nicht machen, da wir mit  WinPython bereits ein Python-System haben, das viele externe Module beinhaltet (die Entwickler von WinPhython haben diese Module für uns schon installiert). Falls dieser Funktionsumfang nicht ausreichen sollte, muss auf andere Python-Systeme zurückgreifen (z.B. Anaconda) bei denen weitere externe Module installiert werden können. Einen Überblick über (viele) externe Python-Pakete liefert https://pypi.org/ (Python Package Index). Diese Programme können auch über pip (https://pypi.org/project/pip/) installiert werden."
   ]
  },
  {
   "cell_type": "markdown",
   "metadata": {},
   "source": [
    "Wenn wir einen Überblick über alle bei uns installierten Module/Pakete haben wollen, können wir diese über help('modules') abfragen. Achtung: Diese Abfrage dauert evtl. einige Minuten und liefert zuerst eine Fehlermeldung ab, bevor dann aber doch alle installierten Module aufgelistet werden."
   ]
  },
  {
   "cell_type": "code",
   "execution_count": null,
   "metadata": {
    "collapsed": true,
    "jupyter": {
     "outputs_hidden": true
    }
   },
   "outputs": [],
   "source": [
    "help('modules')"
   ]
  },
  {
   "cell_type": "markdown",
   "metadata": {},
   "source": [
    "Unter anderem sehen wir hier die Module matplotlib, pandas, numpy, scipy die wir später noch kennen lernen werden. Oftmals sind diese Module sehr umfangreich und mit Untermodulen versehen, aber dennoch werden diese wie \"math\" auch über import hinzugeladen. Am Beispiel von matplotlib (Modul zum Erzeugen von Abbildungen) soll dies kurz dargestellt werden:"
   ]
  },
  {
   "cell_type": "code",
   "execution_count": null,
   "metadata": {
    "collapsed": true,
    "jupyter": {
     "outputs_hidden": true
    }
   },
   "outputs": [],
   "source": [
    "# %matplotlib inline muss nur verwendet werden, um die Abbildungen direkt im Notebok darzustellen\n",
    "%matplotlib inline   \n",
    "\n",
    "import matplotlib.pyplot as plt #importieren des Moduls (Untermoduls)\n",
    "\n",
    "# x - und y - Daten als Listen nach er Funktion: als f(x)=x²\n",
    "x_werte=[1,2,3,4]\n",
    "y_werte=[1, 4, 9, 16]\n",
    "\n",
    "plt.plot(x_werte,y_werte) #Abbildungsart (plot-Linientyp) und Daten definieren \n",
    "\n",
    "plt.xlabel('x') #Titel x-Achse\n",
    "plt.ylabel('y') #Titel y-Achse\n",
    "plt.show() #Plot darstellen"
   ]
  },
  {
   "cell_type": "markdown",
   "metadata": {},
   "source": [
    "## 4.3. Eigene Funktionen"
   ]
  },
  {
   "cell_type": "markdown",
   "metadata": {},
   "source": [
    "Obwohl der Funktionsumfang von Python schon sehr mächtig ist und darüber hinaus noch unzählige externe Projekte/Module nachinstalliert werden können, werden Sie oftmals eigene Funktionen schreiben müssen. Eigene Funktionen führen nämlich dazu, dass der Quellcode strukturierter wird und besser zu pflegen ist. Stellen Sie sich vor, Sie benötigen in einem Programm immer wieder den Algorithmus zum Berechnen des Abflusses aus dem Wasserstand (Manning-Strickler-Gleichung aus Aufgabe 2.1).\n",
    "Diese Gleichungen wollen Sie ja nicht jedesmal neu eintippen (und auch nicht kopieren), da Ihr Code dann schnell unübersichtlich wird. Falls Sie darüber hinaus den Algorithmus abändern müssen, müssten Sie dies ja dann an vielen Stellen in Ihrem Code machen (und hoffen, dass Sie keine Stelle vergessen haben).\n",
    "Genau hier kommen nun eigene Funktionen ins Spiel. Wir können eine Funktion nur einmal am Anfang unseres Quellcodes definieren und dann immer wieder direkt darauf zugreifen, als ob es eine built-in Funktion wäre. \n",
    "\n",
    "Der grundsätzliche Aufbau einer Funktion lautet:\n",
    "\n",
    "def meine_funktion(argument1, *args, **kwargs):\n",
    "\n",
    "    meine_variable = f(argument1)\n",
    "    return meine_variable\n",
    "\n",
    "\n",
    "Wir übergeben der Funktion Argumente (Werte), optinale Argumente (*args) oder optinale Schlüsselwörter (**kwargs), die Funktion rechnet mit den Argumenten und gibt dann über return den berechneten Wert zurück.\n",
    "\n",
    "Der Namen unserer neuen Funktion kann wieder frei gewählt werden, es gelten aber ähnliche Regeln wie für Variablennamen (\n",
    "kleinschreibung, keine Sonderzeichen außer _,...).\n",
    "\n",
    "Nach der Definition der Funktion können wir ganz normal auf diese zugreifen.\n",
    "\n",
    "Ein einfaches Beispiel zur Umrechnung von Meter in Zentimeter (wirklich einfach):\n"
   ]
  },
  {
   "cell_type": "code",
   "execution_count": null,
   "metadata": {
    "collapsed": true,
    "jupyter": {
     "outputs_hidden": true
    }
   },
   "outputs": [],
   "source": [
    "def umrechnung_m_cm(meter): #Aufrufdefinition\n",
    "    zentimeter=meter*100.0 #Berechnug\n",
    "    return zentimeter #Rückgabe des Ergebnisses\n",
    "\n",
    "m=0.5\n",
    "cm=umrechnung_m_cm(m) # Aufruf der Funktion\n",
    "print(\"{0} m sind {1} cm\".format(m,cm))"
   ]
  },
  {
   "cell_type": "markdown",
   "metadata": {},
   "source": [
    "### Aufgabe 4.1\n",
    "\n",
    "Schreiben Sie eine Funktion, die aus einem gegebenen Wasserstand h den Abfluss nach Maning-Strickler (Aufgabe 2.1) berechnet (die übrigen Werte (b,kst,I) können aus Aufgabe 2.1 entnommen werden. Rufen Sie diese Funktion mit einem Wasserstand von 5.0 auf."
   ]
  },
  {
   "cell_type": "code",
   "execution_count": null,
   "metadata": {
    "collapsed": true,
    "jupyter": {
     "outputs_hidden": true
    }
   },
   "outputs": [],
   "source": [
    "# Ihr Programm"
   ]
  },
  {
   "cell_type": "markdown",
   "metadata": {},
   "source": [
    "### Lösung Aufgabe 4.1\n",
    "\n",
    "Bitte ggf. auf ... klicken !!"
   ]
  },
  {
   "cell_type": "code",
   "execution_count": null,
   "metadata": {
    "collapsed": true,
    "jupyter": {
     "outputs_hidden": true,
     "source_hidden": true
    }
   },
   "outputs": [],
   "source": [
    "def q_manning_strickler(h):\n",
    "    # Variablen mit Eingabedaten initialisieren (Dezimalzahlen !!!)\n",
    "\n",
    "    b=10.0 # Gewässerbreite\n",
    "    k_st=35.0 # Rauheitsbeiwert\n",
    "    I=0.0015 # Sohlgefälle\n",
    "\n",
    "    # Durchflossen Querschnittsfläche A, benetzer Umfang lu und hydraulischer Radius r_hy berechnen\n",
    "\n",
    "    A = b*h\n",
    "    l_u = b+2*h\n",
    "    r_hy =A/l_u\n",
    "\n",
    "    # Durchfluss Q nach Formel ausrechnen\n",
    "\n",
    "    Q = k_st*r_hy**(2/3)*I**(1/2)*A\n",
    "\n",
    "    # Durchfluss Q zurückgeben\n",
    "    return Q\n",
    "\n",
    "\n",
    "wasserstand = q_manning_strickler(5.0)\n",
    "print(wasserstand)\n",
    "\n",
    "  \n"
   ]
  },
  {
   "cell_type": "markdown",
   "metadata": {},
   "source": [
    "Wir können auch mehrere Argumente übergeben:"
   ]
  },
  {
   "cell_type": "code",
   "execution_count": null,
   "metadata": {
    "collapsed": true,
    "jupyter": {
     "outputs_hidden": true
    }
   },
   "outputs": [],
   "source": [
    "def irgendeine_funktion(x1,x2):\n",
    "    y=x1*x2+x1  # eine beliebige mathematische Funktion\n",
    "    return y\n",
    "\n",
    "var1=2.0\n",
    "var2=3.4\n",
    "print(irgendeine_funktion(var1,var2))"
   ]
  },
  {
   "cell_type": "markdown",
   "metadata": {},
   "source": [
    "### Aufgabe 4.2\n",
    "\n",
    "Erweitern Sie Ihre Funktion, in dem der Nutzer der Funktion nun neben h auch noch b, kst und I eingeben kann.\n",
    "Zur Überprüfung rechnen Sie bitte mit den gleichen Werten wie in Aufgabe 4.1."
   ]
  },
  {
   "cell_type": "code",
   "execution_count": null,
   "metadata": {
    "collapsed": true,
    "jupyter": {
     "outputs_hidden": true
    }
   },
   "outputs": [],
   "source": [
    "# Ihr Programm"
   ]
  },
  {
   "cell_type": "markdown",
   "metadata": {},
   "source": [
    "### Lösung Aufgabe 4.2"
   ]
  },
  {
   "cell_type": "code",
   "execution_count": null,
   "metadata": {
    "collapsed": true,
    "jupyter": {
     "outputs_hidden": true,
     "source_hidden": true
    }
   },
   "outputs": [],
   "source": [
    "def q_manning_strickler(h,b,k_st,I):\n",
    "   \n",
    "    # Durchflossen Querschnittsfläche A, benetzer Umfang lu und hydraulischer Radius r_hy berechnen\n",
    "\n",
    "    A = b*h\n",
    "    l_u = b+2*h\n",
    "    r_hy =A/l_u\n",
    "\n",
    "    # Durchfluss Q nach Formel ausrechnen\n",
    "\n",
    "    Q = k_st*r_hy**(2/3)*I**(1/2)*A\n",
    "\n",
    "    # Durchfluss Q zurückgeben\n",
    "    return Q\n",
    "\n",
    "\n",
    "wasserstand = q_manning_strickler(5.0,10.0,35.0,0.0015)\n",
    "print(wasserstand)\n"
   ]
  },
  {
   "cell_type": "markdown",
   "metadata": {},
   "source": [
    "Bisher haben wir die Argumente der Funktion in der Reihenfolge eingeben müssen, wie Sie in der Funktion definiert sind. Mittels Schlüsselwörtern (Variablennamen der Funktion) können wir dies ändern: "
   ]
  },
  {
   "cell_type": "code",
   "execution_count": null,
   "metadata": {
    "collapsed": true,
    "jupyter": {
     "outputs_hidden": true
    }
   },
   "outputs": [],
   "source": [
    "def irgendeine_funktion(x1,x2):\n",
    "    y=x1*x2+x1  # eine beliebige mathematische Funktion\n",
    "    return y\n",
    "\n",
    "var1=2.0\n",
    "var2=3.4\n",
    "print(irgendeine_funktion(var1,var2))  #Bisheriger Aufruf (Reihenfolge beachten)\n",
    "print(irgendeine_funktion(x2=var2,x1=var1)) #Durch Angabe des Variablennames ist Reihenfolge egal"
   ]
  },
  {
   "cell_type": "markdown",
   "metadata": {},
   "source": [
    "Bisher haben wir nur notwenige Argumente definiert. Es ist jedoch auch möglich, dass wir einer Funktion weitere (optionale) Werte übergeben können (aber nicht müssen). Sie sollten dies wissen, wir werden aber hier nicht näher darauf eingehen. Mit der Suchmaschine Ihrer Wahl werden Sie sicherlich schnell ein Tutorial oder Beispiel dazu finden (z.B. bei https://stackoverflow.com)"
   ]
  },
  {
   "cell_type": "markdown",
   "metadata": {},
   "source": [
    "Sie können über eine Funktion auch mehrere Werte an das Hauptprogramm zurückgeben. Dazu müssen Sie diese Werte oder Variablen hinter dem return mit Komma getrennt setzen."
   ]
  },
  {
   "cell_type": "code",
   "execution_count": null,
   "metadata": {
    "collapsed": true,
    "jupyter": {
     "outputs_hidden": true
    }
   },
   "outputs": [],
   "source": [
    "def irgendeine_funktion(x1,x2):\n",
    "    y1=x1*x2+x1  # eine beliebige mathematische Funktion\n",
    "    y2=x1**x2+x1 # eine andere beliebige Funktion\n",
    "    return y1,y2 # Rückgabe von zwei Werten\n",
    "\n",
    "var1=2.0\n",
    "var2=3.4\n",
    "\n",
    " #da die Funktion 2 Werte liefert, müssen wir mit erg1 und erg2 auch zwei Variablen bereitstellen\n",
    "erg1,erg2=irgendeine_funktion(var1,var2)\n",
    "\n",
    "print(erg1)\n",
    "print(erg2)"
   ]
  },
  {
   "cell_type": "code",
   "execution_count": null,
   "metadata": {
    "collapsed": true,
    "jupyter": {
     "outputs_hidden": true
    }
   },
   "outputs": [],
   "source": []
  }
 ],
 "metadata": {
  "kernelspec": {
   "display_name": "Python 3",
   "language": "python",
   "name": "python3"
  },
  "language_info": {
   "codemirror_mode": {
    "name": "ipython",
    "version": 3
   },
   "file_extension": ".py",
   "mimetype": "text/x-python",
   "name": "python",
   "nbconvert_exporter": "python",
   "pygments_lexer": "ipython3",
   "version": "3.8.6"
  }
 },
 "nbformat": 4,
 "nbformat_minor": 4
}
