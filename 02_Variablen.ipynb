{
 "cells": [
  {
   "cell_type": "markdown",
   "metadata": {},
   "source": [
    "# 2. Variablen\n",
    "\n",
    "In diesem Kapitel lernen Sie, was Variablen sind und welche Typen es in Python gibt. \n",
    "\n",
    "In Variablen können Werte gespeichert werden (z.B. in der Variablen \"meldung\" wird der Text \"Hallo Welt\" gespeichert\n",
    "\n"
   ]
  },
  {
   "cell_type": "code",
   "execution_count": 51,
   "metadata": {},
   "outputs": [
    {
     "name": "stdout",
     "output_type": "stream",
     "text": [
      "Hallo Welt\n"
     ]
    }
   ],
   "source": [
    "meldung =\"Hallo Welt\"\n",
    "print(meldung)"
   ]
  },
  {
   "cell_type": "markdown",
   "metadata": {},
   "source": [
    "Der Wert der Variablen kann jederzeit geändert werden (außer bei Sondertypen)"
   ]
  },
  {
   "cell_type": "code",
   "execution_count": 52,
   "metadata": {},
   "outputs": [
    {
     "name": "stdout",
     "output_type": "stream",
     "text": [
      "Hallo Welt\n",
      "Wie geht es Dir ?\n"
     ]
    }
   ],
   "source": [
    "meldung=\"Hallo Welt\"\n",
    "print(meldung)\n",
    "meldung=\"Wie geht es Dir ?\"\n",
    "print(meldung)"
   ]
  },
  {
   "cell_type": "markdown",
   "metadata": {},
   "source": [
    "Der Name der Variablen kann dabei relativ frei gewählt werden. Es müssen/sollten aber folgende Regeln beachtet werden:\n",
    "\n",
    "- Variablennamen dürfen nur Buchstaben, Ziffern und Unterstriche enthalten (sie dürfen jedoch nicht mit einer ziffer starten).\n",
    "- Leerzeichen sind nicht erlaubt !!!\n",
    "- Spezielle Python-Schlüsselworte dürfen nicht verwendet werden ([Python keywords](http://docs.python.org/3/reference/lexical_analysis.html#keywords))\n",
    "- Der Variablenname sollte selbsterklärend sein, aber nicht zu lang \n",
    "- Achtung: das kleine l und das große O können mit den Ziffern 1 und 0 leicht verwechselt werden\n",
    "\n",
    "Falls eine Variable verwendet wird, die noch nicht definiert ist (z.B. durch eine Schreibfehler, kommt es zu einer Fehlermeldung (NameError)"
   ]
  },
  {
   "cell_type": "code",
   "execution_count": 53,
   "metadata": {},
   "outputs": [
    {
     "ename": "NameError",
     "evalue": "name 'medung' is not defined",
     "output_type": "error",
     "traceback": [
      "\u001b[1;31m---------------------------------------------------------------------------\u001b[0m",
      "\u001b[1;31mNameError\u001b[0m                                 Traceback (most recent call last)",
      "\u001b[1;32m<ipython-input-53-c67a7118caf0>\u001b[0m in \u001b[0;36m<module>\u001b[1;34m\u001b[0m\n\u001b[0;32m      1\u001b[0m \u001b[0mmeldung\u001b[0m \u001b[1;33m=\u001b[0m\u001b[1;34m\"Hallo Welt\"\u001b[0m\u001b[1;33m\u001b[0m\u001b[1;33m\u001b[0m\u001b[0m\n\u001b[1;32m----> 2\u001b[1;33m \u001b[0mprint\u001b[0m\u001b[1;33m(\u001b[0m\u001b[0mmedung\u001b[0m\u001b[1;33m)\u001b[0m\u001b[1;33m\u001b[0m\u001b[1;33m\u001b[0m\u001b[0m\n\u001b[0m",
      "\u001b[1;31mNameError\u001b[0m: name 'medung' is not defined"
     ]
    }
   ],
   "source": [
    "meldung =\"Hallo Welt\"\n",
    "print(medung)"
   ]
  },
  {
   "cell_type": "markdown",
   "metadata": {
    "jupyter": {
     "source_hidden": true
    }
   },
   "source": [
    "Aus Zeitgründen werden wir nur eine kleine Auswahl möglicher Variablentypen näher beleuchten:\n",
    "\n",
    "1. Zahlen\n",
    "    1. ganze Zahlen(Integer)\n",
    "    2. Boolean\n",
    "    2. Dezimalzahlen\n",
    "2. Zeichenketten (Strings)\n",
    "3. Listen\n",
    "4. Dictonaries\n"
   ]
  },
  {
   "cell_type": "markdown",
   "metadata": {},
   "source": [
    "## 2.1 Zahlen\n",
    "### 2.1.1 ganze Zahlen (Integer)\n",
    "\n",
    "falls wir \"nur\" ganze Zahlen erwarten, können wir den Datentyp Integer wählen. Die Zuweisung des Datentyps einer Variablen erfolgt in Python automatisch beim ersten initialisieren der Variablen. Im nächsten Beispiel wird der Variablen x der Wert 1 zugeordnet und danach ausgegeben. "
   ]
  },
  {
   "cell_type": "code",
   "execution_count": null,
   "metadata": {},
   "outputs": [],
   "source": [
    "x=1\n",
    "print(x)"
   ]
  },
  {
   "cell_type": "markdown",
   "metadata": {},
   "source": [
    "Wie die meisten Variablentypen können auch Integer-Variablen immer mit neuen Werten versehen werden (die Werte werde also überschrieben"
   ]
  },
  {
   "cell_type": "code",
   "execution_count": null,
   "metadata": {},
   "outputs": [],
   "source": [
    "x=1\n",
    "print(x)\n",
    "x=2\n",
    "print(x)"
   ]
  },
  {
   "cell_type": "markdown",
   "metadata": {},
   "source": [
    "### 2.1.2 Boolean\n",
    "Boolean-Variablen sind eine Sonderform der Integer-Typs. Sie können nur die Werte True(1) und False(0) annehmen "
   ]
  },
  {
   "cell_type": "code",
   "execution_count": null,
   "metadata": {},
   "outputs": [],
   "source": [
    "ergebnis=True\n",
    "print(ergebnis)"
   ]
  },
  {
   "cell_type": "markdown",
   "metadata": {},
   "source": [
    "### 2.1.3 Dezimalzahlen\n",
    "Oftmals werden wir auch Dezimalzahlen verwenden müssen (Zahlen mit Nachkommastellen)"
   ]
  },
  {
   "cell_type": "code",
   "execution_count": null,
   "metadata": {},
   "outputs": [],
   "source": [
    "y=0.1\n",
    "print(y)\n",
    "y=0.2\n",
    "print(y)"
   ]
  },
  {
   "cell_type": "markdown",
   "metadata": {},
   "source": [
    "Achtung: Computerprogramme können oftmals nicht exact rechnen. Dies hängt damit zusammen, dass Dezimalzahlen binär gespeichert werden müssen und deshalb die Nachkommastellen evtl. mit einer gewissen Ungenauigkeit abgespeichert werden (z.B. in der 10. Nachkommastelle). In vielen anderen Programmiersprachen kann die Genauigkeit direkt über den Datentyp erfolgen. So kann man in Java oder C++ eine Variable mit einfacher Genauigkeit (float) oder doppelter Genauigkeit (double) definieren. In Python wird standardmäßig mit einer doppelten Genauigkeit gerechnet. Die Genauigkeit soll uns nicht weiter beunruhigen, wir sollten aber darauf gefass sein, dass manche Programme z.B. 0.1 + 0.2 mit 0.3000000002 berechnen. "
   ]
  },
  {
   "cell_type": "markdown",
   "metadata": {},
   "source": [
    "### 2.1.4 Einfache Rechnungen mit Zahlen\n",
    "In Python kann man einfache Rechungen mit Zahlen bzw. Variablen direkt durchführen. Die Regel: Punkt vor Strich wird dabei berücksichtigt, kann aber mit Hilfe von Klammern übersteuert werden. Man auch Potenzen berechnen. 4 hoch 2 schreibt man entweder 4 ** 2 oder pow(4,2). Weiter Funktionen (z.B. sinus,....) werden wir später kennen lernen.\n"
   ]
  },
  {
   "cell_type": "code",
   "execution_count": 57,
   "metadata": {},
   "outputs": [
    {
     "name": "stdout",
     "output_type": "stream",
     "text": [
      "6\n",
      "12\n",
      "24\n",
      "16\n",
      "16\n"
     ]
    }
   ],
   "source": [
    "x=4\n",
    "y=2\n",
    "print(x+y)\n",
    "print(x*y+x)\n",
    "print(x*(y+x))\n",
    "print(pow(x,y))\n",
    "print(x**y)"
   ]
  },
  {
   "cell_type": "markdown",
   "metadata": {},
   "source": [
    "Achtung: Manche Programmiersprachen (auch Python 2.x) rechnen beim teilen von zwei Integerzahlen auch wieder eine Integerzahl aus. Beispiel Python 2.7: 3/2=1. Python 3.x rechnet es \"richtig\". Beim teilen von Zahlen achten sie bitte deshalb immer darauf !! Evtl. können Sie aber auch eine der beiden Zahlen als Dezimalzahl definieren: Auch in python 2.x ist 3.0/2 bzw. 3/2.0 und 3.0/2.0 immer 1.5"
   ]
  },
  {
   "cell_type": "code",
   "execution_count": 56,
   "metadata": {},
   "outputs": [
    {
     "name": "stdout",
     "output_type": "stream",
     "text": [
      "1.5\n"
     ]
    }
   ],
   "source": [
    "print(3/2)"
   ]
  },
  {
   "cell_type": "markdown",
   "metadata": {},
   "source": [
    "### Aufgabe 2.1:\n",
    "Schreiben Sie ein kleines Python-Programm, das den Abfluss Q nach Manning-Strickler ausrechnet, wobei Sie als Breite b = 10.0, als Wasserstand h = 2.0, als Rauhigkeitsbeiwert k_st=35.0 und als Gefälle I=0.0015 wählen. Folgende Formel gilt (r_hy: Hydraulischer Radius; l_u: benetzter Umfang; A: Querschnittsfläche,)\n"
   ]
  },
  {
   "cell_type": "markdown",
   "metadata": {},
   "source": [
    "\\begin{equation*}\n",
    "Q = k_{st} r_{hy}^\\frac{2}{3} I^\\frac{1}{2} A \n",
    "\\end{equation*}"
   ]
  },
  {
   "cell_type": "markdown",
   "metadata": {},
   "source": [
    "mit\n",
    "\\begin{equation*}\n",
    "r_{hy} = \\frac{A}{l_u} \\\\\n",
    "A = b h \\\\\n",
    "l_u = b + 2 h \\\\\n",
    "\\end{equation*}"
   ]
  },
  {
   "cell_type": "markdown",
   "metadata": {},
   "source": [
    "Hilfe: Zuerst definieren Sie die gegebenen Variablen b,h,k_st und I. Danach rechnen Sie sich A, l_u und r_hy aus. Abschließend berechnen Sie die Abfluss.\n",
    "\n",
    "Hier können Sie Ihren Quellcode eingeben (b ist schon definiert):"
   ]
  },
  {
   "cell_type": "code",
   "execution_count": null,
   "metadata": {},
   "outputs": [],
   "source": [
    "# Bitte auch Kommentare nicht vergessen !!!\n",
    "# Variablen mit Eingabedaten initialisieren (Dezimalzahlen !!!)\n",
    "\n",
    "b=10.0 # Gewässerbreite\n",
    "\n",
    "\n",
    "\n",
    "\n"
   ]
  },
  {
   "cell_type": "markdown",
   "metadata": {},
   "source": [
    "### Lösung Aufgabe 2.1:\n",
    "\n",
    "zum Anzeigen bitte auf ... klicken "
   ]
  },
  {
   "cell_type": "code",
   "execution_count": null,
   "metadata": {},
   "outputs": [],
   "source": [
    "# Variablen mit Eingabedaten initialisieren (Dezimalzahlen !!!)\n",
    "\n",
    "b=10.0 # Gewässerbreite\n",
    "h=2.0 # Wasserstand \n",
    "k_st=35.0 # Rauheitsbeiwert\n",
    "I=0.0015 # Sohlgefälle\n",
    "\n",
    "# Durchflossen Querschnittsfläche A, benetzer Umfang lu und hydraulischer Radius r_hy berechnen\n",
    "\n",
    "A = b*h\n",
    "l_u = b+2*h\n",
    "r_hy =A/l_u\n",
    "\n",
    "# Durchfluss Q nach Formel ausrechnen\n",
    "\n",
    "Q = k_st*r_hy**(2/3)*I**(1/2)*A\n",
    "\n",
    "# Durchfluss Q ausgeben\n",
    "\n",
    "print(Q)\n"
   ]
  },
  {
   "cell_type": "markdown",
   "metadata": {},
   "source": [
    "### Aufgabe 2.2: \n",
    "\n",
    "Schreiben Sie Ihr Programm nun in Spyder (bitte nicht kopieren und einfügen !!!!)"
   ]
  },
  {
   "cell_type": "markdown",
   "metadata": {},
   "source": [
    "## 2.2 Text-Variablen (String)\n",
    "\n",
    "String-Variablen haben Sie schon mehrmals in diesem Kurs kennengelernt. Hier wollen wir auf einige Besonderheiten dieses Typs eingehen"
   ]
  },
  {
   "cell_type": "markdown",
   "metadata": {},
   "source": [
    "Text kann in doppelten(\") oder einfachen (') Anführungszeichen übergeben werden"
   ]
  },
  {
   "cell_type": "code",
   "execution_count": null,
   "metadata": {},
   "outputs": [],
   "source": [
    "meldung = \"meine erste Meldung\"\n",
    "print(meldung)\n",
    "meldung = 'meine zweite Meldung'\n",
    "print(meldung)"
   ]
  },
  {
   "cell_type": "code",
   "execution_count": null,
   "metadata": {},
   "outputs": [],
   "source": [
    "Damit können auch Anführungszeichen innerhalb eines Textes stehen"
   ]
  },
  {
   "cell_type": "code",
   "execution_count": null,
   "metadata": {},
   "outputs": [],
   "source": [
    "meldung = 'meine erste Meldung lautet: \"Hallo\"'\n",
    "print(meldung)"
   ]
  },
  {
   "cell_type": "markdown",
   "metadata": {},
   "source": [
    "Weitere Sonderzeichen sind z.B. der Tab-Stop bzw. die Eingabe-Taste (nächste Zeile). Diese werden über \"\\t\" und \"\\n\" integriert."
   ]
  },
  {
   "cell_type": "code",
   "execution_count": null,
   "metadata": {},
   "outputs": [],
   "source": [
    "meldung=\"\\tTab-Stop am Anfang (einrücken)\"\n",
    "print(meldung)"
   ]
  },
  {
   "cell_type": "code",
   "execution_count": null,
   "metadata": {},
   "outputs": [],
   "source": [
    "meldung=\"schreibe in erster Zeile.\\nund nun in zweiter Zeile\"\n",
    "print(meldung)"
   ]
  },
  {
   "cell_type": "markdown",
   "metadata": {},
   "source": [
    "Man kann Strings auch zusammenfügen(concatenation). dazu nutzen wir das + Symbol"
   ]
  },
  {
   "cell_type": "code",
   "execution_count": null,
   "metadata": {},
   "outputs": [],
   "source": [
    "vorname=\"Steffen\"\n",
    "nachname=\"Bold\"\n",
    "\n",
    "print(\"Meine Name ist \"+vorname+\" \"+nachname)"
   ]
  },
  {
   "cell_type": "markdown",
   "metadata": {},
   "source": [
    "Strings und Zahlen können wir nicht direkt zusammenfügen da sonst eine Fehlermedlung ausgegeben wird. a"
   ]
  },
  {
   "cell_type": "code",
   "execution_count": null,
   "metadata": {},
   "outputs": [],
   "source": [
    "x =10.0\n",
    "print(\"ich habe noch \"+x+\" Euro\")"
   ]
  },
  {
   "cell_type": "markdown",
   "metadata": {},
   "source": [
    "Um dies zu machen müssen wir die Zahlen mit dem Befehl str() in einen String umwandeln"
   ]
  },
  {
   "cell_type": "code",
   "execution_count": null,
   "metadata": {},
   "outputs": [],
   "source": [
    "x =10.0\n",
    "print(\"ich habe noch \"+str(x)+\" Euro\")"
   ]
  },
  {
   "cell_type": "markdown",
   "metadata": {},
   "source": [
    "Manchmal kann der Nutzer von den Programmen auch eine Zahl eingeben, die jedoch bei der Eingabe erst einmal als String interpretiert wird. Wir können mit den Befehl int() und float() eine Zeichenkette in eine Zahl umwandeln.  \n"
   ]
  },
  {
   "cell_type": "code",
   "execution_count": null,
   "metadata": {},
   "outputs": [],
   "source": [
    "stringx=\"6\"\n",
    "stringy=\"4.5\"\n",
    "print(stringx+stringy # Strings werden nur zusammengefügt\n",
    "\n",
    "x=int(stringx)\n",
    "y=float(stringy)\n",
    "\n",
    "print(x+y) # Zahlen werden addiert\n"
   ]
  },
  {
   "cell_type": "markdown",
   "metadata": {},
   "source": [
    "Achtung, wenn wir einen String in eine Zhal umwandeln wollen, muss der Text auch als Zahl interpretierbar sein. Falls es nicht möglich ist, wird eine Fehlermeldung ausgegeben. Vorsicht: Das Dezimaltrennzeichen ist der \".\""
   ]
  },
  {
   "cell_type": "code",
   "execution_count": null,
   "metadata": {},
   "outputs": [],
   "source": [
    "stringx=\"6,3\"\n",
    "x=float(stringx)\n",
    "print(x)\n"
   ]
  },
  {
   "cell_type": "markdown",
   "metadata": {},
   "source": [
    "## Exkurs\n",
    "Variablen sind Objekte, die mit weitergehenden methoden verknüft sind. So kann man z.B. bei Strings einzelen Buchstaben ersetzen, die Anzahl der Buchstaben bestimmen oder kleine Buchstaben in große überführen. Dazu wird hinter dem Variablennamen mit einem \".\" die Methode (Funktion) angegeben.\n",
    "\n",
    "Ein Beispiel zum Ersetzen von \",\" zu \".\" soll dies verdeutlichen:"
   ]
  },
  {
   "cell_type": "code",
   "execution_count": null,
   "metadata": {},
   "outputs": [],
   "source": [
    "stringx=\"4,6\"\n",
    "print(stringx) # es wird die Zahl 4,6 ausgegeben\n",
    "print(stringx.replace(\",\",\".\")) # es wird das \",\" durch einen \".\" ersetzt. Der Wert bleibt aber 4,6\n",
    "print(stringx)\n",
    "stringx=stringx.replace(\",\",\".\") # hier wird nun die neue Form (mit .) in der Variablen abgespeichert\n",
    "print(stringx)\n"
   ]
  },
  {
   "cell_type": "markdown",
   "metadata": {},
   "source": [
    "In der Hilfe bzw. in Ihrer IDE (Spyder) finden Sie die entsprechenden möglichen Funktionen.\n",
    "\n",
    "Für Zahlen sind weniger Funktionen definiert, sie können aber z.B. eine Dezimalzahl als Bruch ausgeben lassen:"
   ]
  },
  {
   "cell_type": "code",
   "execution_count": null,
   "metadata": {},
   "outputs": [],
   "source": [
    "zahl1=3.5\n",
    "print(zahl1.as_integer_ratio());"
   ]
  },
  {
   "cell_type": "code",
   "execution_count": null,
   "metadata": {},
   "outputs": [],
   "source": [
    "(7,2) bedeutet dabei 7/2"
   ]
  },
  {
   "cell_type": "markdown",
   "metadata": {},
   "source": [
    "### Aufgabe 2.3\n",
    "\n",
    "Schreiben Sie das Ergebnis aus Aufgabe 2.1 (bzw. 2.2) als Ergebnissatz. Integrieren Sie dabei die Variable Q in Ihr Ergebnis.\n",
    "Versuchen Sie, den Wert von Q mit einem Komma als Dezimaltrennzeichen auszugeben (die Berechnung von Q können Sie aus Aufgabe 2.1 kopieren"
   ]
  },
  {
   "cell_type": "code",
   "execution_count": null,
   "metadata": {},
   "outputs": [],
   "source": []
  },
  {
   "cell_type": "markdown",
   "metadata": {},
   "source": [
    "### Lösung aufgabe 2.3\n",
    "Bitte auf ... klicken"
   ]
  },
  {
   "cell_type": "code",
   "execution_count": 60,
   "metadata": {
    "collapsed": true,
    "jupyter": {
     "outputs_hidden": true,
     "source_hidden": true
    }
   },
   "outputs": [
    {
     "name": "stdout",
     "output_type": "stream",
     "text": [
      "Es fließen 34.38837411780014 m³ Wasser durch das Gewässer\n",
      "Es fließen 34,38837411780014 m³ Wasser durch das Gewässer\n"
     ]
    }
   ],
   "source": [
    "# Aus Aufgabe 2.1:\n",
    "\n",
    "# Variablen mit Eingabedaten initialisieren (Dezimalzahlen !!!)\n",
    "\n",
    "b=10.0 # Gewässerbreite\n",
    "h=2.0 # Wasserstand \n",
    "k_st=35.0 # Rauheitsbeiwert\n",
    "I=0.0015 # Sohlgefälle\n",
    "\n",
    "# Durchflossen Querschnittsfläche A, benetzer Umfang lu und hydraulischer Radius r_hy berechnen\n",
    "\n",
    "A = b*h\n",
    "l_u = b+2*h\n",
    "r_hy =A/l_u\n",
    "\n",
    "# Durchfluss Q nach Formel ausrechnen\n",
    "\n",
    "Q = k_st*r_hy**(2/3)*I**(1/2)*A\n",
    "\n",
    "\n",
    "# Ergebnis Aufgabe 2.3\n",
    "\n",
    "# Durchfluss Q als Ergebnissatz ausgeben\n",
    "\n",
    "print(\"Es fließen \"+str(Q)+ \" m³ Wasser durch das Gewässer\" ) # Mit Dezimaltrennzeichen .\n",
    "\n",
    "print(\"Es fließen \"+str(Q).replace(\".\",\",\")+ \" m³ Wasser durch das Gewässer\" ) # Mit Dezimaltrennzeichen ,\n"
   ]
  },
  {
   "cell_type": "markdown",
   "metadata": {},
   "source": [
    "## 2.3 Listen (list)\n",
    "\n",
    "Listen können gleichzeitig mehrere Werte des gleichen Typs beinhalten. Dies ist immer dann sinnvoll, wenn man nicht für jeden Wert eine eigene Variable definieren möchte oder kann. Stellen Sie sich vor, Sie haben fünf Messwerte des gleichen Typs (z.B. Temperatur). Ohne Listen müssten Sie dies z.B. folgendermaßen lösen:"
   ]
  },
  {
   "cell_type": "code",
   "execution_count": null,
   "metadata": {},
   "outputs": [],
   "source": [
    "wert1=7.1\n",
    "wert2=5.5\n",
    "wert3=12.2\n",
    "wert4=4.3\n",
    "wert5=7.7"
   ]
  },
  {
   "cell_type": "markdown",
   "metadata": {},
   "source": [
    "Weitere Werte hinzufügen wäre nur möglich, wenn wir noch mehr Variablen definiert hätten. Auch sind weitergehende Analysen mit diesen Variablen sehr umständlich (Summenbildung, ...). U.a. deshalb gibt es in Python Listen. Hier können wir mit einer Variablen (Variablennamen) gleichzeitig auf viele Werte zugreifen und analysieren."
   ]
  },
  {
   "cell_type": "code",
   "execution_count": null,
   "metadata": {},
   "outputs": [],
   "source": [
    "werte= [7.1,5.5,12.2,4.3,7.7]\n",
    "print(werte)"
   ]
  },
  {
   "cell_type": "markdown",
   "metadata": {},
   "source": [
    "Auf die Einzelnen Werte können wir nun mit Hilfe eines Index zugreifen.\n",
    "Achtung: Die erste Zahl bekommt den Index 0 nicht 1 !!!!"
   ]
  },
  {
   "cell_type": "code",
   "execution_count": null,
   "metadata": {},
   "outputs": [],
   "source": [
    "werte= [7.1,5.5,12.2,4.3,7.7]\n",
    "print(werte[0])   # es wird nur das erste Element der Liste (Index=0 !!!!) ausgegeben"
   ]
  },
  {
   "cell_type": "markdown",
   "metadata": {},
   "source": [
    "Falls wir einen Index angeben, der nicht vorkommen kann (weil er z.B. zu groß ist und es soviele Elemente in der Liste gar nicht gibt), wird eine Fehlermeldung ausgegeben."
   ]
  },
  {
   "cell_type": "code",
   "execution_count": null,
   "metadata": {},
   "outputs": [],
   "source": [
    "werte= [7.1,5.5,12.2,4.3,7.7]\n",
    "print(werte[5])   # es soll das 6. Element der Liste (Index=5 !!!!) ausgegeben werden, obwohl nur 5 Elenemte in der Liste sind"
   ]
  },
  {
   "cell_type": "markdown",
   "metadata": {},
   "source": [
    "Wenn wir den letzten Wert aus unsere Liste haben wollen, können wir einfach den index -1 verwenden (der zweitletzte Wert hat dann den Index -2 usw.). Dies ist immer dann sinnvoll, wenn wir gar nicht wissen, wieviel Elemente unsere Liste beinhaltet."
   ]
  },
  {
   "cell_type": "code",
   "execution_count": null,
   "metadata": {},
   "outputs": [],
   "source": [
    "werte= [7.1,5.5,12.2,4.3,7.7]\n",
    "print(werte[-1])   # es wird das letzte Element der Liste ausgegeben"
   ]
  },
  {
   "cell_type": "markdown",
   "metadata": {},
   "source": [
    "Wir können uns auch die Anzahl der Listenelemente ausgeben lassen. Der Befehl dazu heist len() und in der Klammer muss der Listennamen stehen."
   ]
  },
  {
   "cell_type": "code",
   "execution_count": null,
   "metadata": {},
   "outputs": [],
   "source": [
    "werte= [7.1,5.5,12.2,4.3,7.7]\n",
    "print(len(werte)) "
   ]
  },
  {
   "cell_type": "markdown",
   "metadata": {},
   "source": [
    "Natürlich können wir auch Strings in eine Liste packen:"
   ]
  },
  {
   "cell_type": "code",
   "execution_count": null,
   "metadata": {},
   "outputs": [],
   "source": [
    "vornamen=[\"Markus\", \"Michaela\",\"Johanna\", \"Marius\"]\n",
    "print(vornamen)\n",
    "print(vornamen[0])\n",
    "print(len(vornamen))"
   ]
  },
  {
   "cell_type": "markdown",
   "metadata": {},
   "source": [
    "Da ein Text aus einzelnen Buchstaben(Zeichen/char) besteht, kann ein String als Liste von zeichen (chars) aufgefasst werden. Somit kann man auf einzelne Zeichen im Text zugreifen"
   ]
  },
  {
   "cell_type": "code",
   "execution_count": null,
   "metadata": {},
   "outputs": [],
   "source": [
    "vorname=\"Markus\"\n",
    "print(vorname)\n",
    "print(vorname[0]) # nur 1. Zeichen wird ausgegeben\n",
    "print(len(vorname)) #Ausgabe der Anzahl der Buchstaben wird ausgegeben"
   ]
  },
  {
   "cell_type": "markdown",
   "metadata": {},
   "source": [
    "Wir können uns auch Teillisten erstellen lassen. Dazu geben wir in den eckigen Klammern den Bereich an, der uns interessiert (von_index:bis_index+1). Wenn wir z.B. eine Liste mit den ersten beiden Werten haben wollen können wir folgende Befehle ausführen:"
   ]
  },
  {
   "cell_type": "code",
   "execution_count": 54,
   "metadata": {},
   "outputs": [
    {
     "name": "stdout",
     "output_type": "stream",
     "text": [
      "['Markus', 'Michaela', 'Johanna', 'Marius']\n",
      "['Markus', 'Michaela']\n"
     ]
    }
   ],
   "source": [
    "vornamen=[\"Markus\", \"Michaela\",\"Johanna\", \"Marius\"]\n",
    "print(vornamen)\n",
    "teilliste=vornamen[0:2] # Achtung 0 index bis kleiner 2. Index (3.Wert). Der zweite Index (3. Wert) wird nicht mehr benutzt!!\n",
    "print(teilliste)\n"
   ]
  },
  {
   "cell_type": "markdown",
   "metadata": {},
   "source": [
    "Wenn wir alle Werte z.B. bis zum (einschließlich) 3.Wert oder alle Werte ab dem 2. Index haben wollen, können wir wie folgt vorgehen:"
   ]
  },
  {
   "cell_type": "code",
   "execution_count": 55,
   "metadata": {},
   "outputs": [
    {
     "name": "stdout",
     "output_type": "stream",
     "text": [
      "['Markus', 'Michaela', 'Johanna', 'Marius']\n",
      "['Markus', 'Michaela', 'Johanna']\n",
      "['Johanna', 'Marius']\n"
     ]
    }
   ],
   "source": [
    "vornamen=[\"Markus\", \"Michaela\",\"Johanna\", \"Marius\"]\n",
    "print(vornamen)\n",
    "teilliste=vornamen[:3] # vom 0. bis zum 2. Index (1.-3. Wert)\n",
    "print(teilliste)\n",
    "\n",
    "teilliste=vornamen[2:] # alle Element ab dem 2. Index (3. Wert)\n",
    "print(teilliste)"
   ]
  },
  {
   "cell_type": "markdown",
   "metadata": {},
   "source": [
    "Das ganze funktioniert natürlich auch mit einem String (so dass nur ein Teilstring ausgegeben wird)"
   ]
  },
  {
   "cell_type": "code",
   "execution_count": 62,
   "metadata": {},
   "outputs": [
    {
     "name": "stdout",
     "output_type": "stream",
     "text": [
      "Markus\n"
     ]
    }
   ],
   "source": [
    "string1=\"Mein Name ist Markus Maier\"\n",
    "vorname=string1[14:20]   # Nur der Vorname (Index 14-19, Zeichen 15-20)\n",
    "print(vorname)"
   ]
  },
  {
   "cell_type": "markdown",
   "metadata": {},
   "source": [
    "### Aufgabe 2.4\n",
    "\n",
    "Sie haben folgenden Text: \"Summe aus 4.4 und 5.6\"\n",
    "Extrahieren Sie die beiden Zahlen und berechnen Sie die Summe."
   ]
  },
  {
   "cell_type": "code",
   "execution_count": 63,
   "metadata": {},
   "outputs": [],
   "source": [
    "text=\"Summe aus 4.4 und 5.6\"\n",
    "\n"
   ]
  },
  {
   "cell_type": "markdown",
   "metadata": {},
   "source": [
    "### Lösung Aufgabe 2.4\n",
    "\n",
    "Bitte auf ... klicken"
   ]
  },
  {
   "cell_type": "code",
   "execution_count": 66,
   "metadata": {
    "collapsed": true,
    "jupyter": {
     "outputs_hidden": true,
     "source_hidden": true
    }
   },
   "outputs": [
    {
     "name": "stdout",
     "output_type": "stream",
     "text": [
      "4.4\n",
      "5.6\n",
      "10.0\n"
     ]
    }
   ],
   "source": [
    "text=\"Summe aus 4.4 und 5.6\"\n",
    "string_zahl1=text[10:13]\n",
    "string_zahl2=text[18:]\n",
    "\n",
    "print(string_zahl1) # nur zur Überprüfung\n",
    "print(string_zahl2) # nur zur Überprüfung\n",
    "\n",
    "zahl1=float(string_zahl1) # umwandeln von Text in Zahl\n",
    "zahl2=float(string_zahl2) # Umwandeln von text in Zahl\n",
    "\n",
    "summe=zahl1+zahl2 # Summe berechnen\n",
    "\n",
    "print(summe)\n"
   ]
  },
  {
   "cell_type": "markdown",
   "metadata": {},
   "source": [
    "#### wichtige Arbeitsschitte mit Listen\n",
    "\n",
    "Es können einzelen Werte einer Liste geändert, Werte in einer Liste gesucht, Werte hinzugefügt oder gelöscht werden"
   ]
  },
  {
   "cell_type": "markdown",
   "metadata": {},
   "source": [
    "Einzelne Werte ändern:"
   ]
  },
  {
   "cell_type": "code",
   "execution_count": 68,
   "metadata": {},
   "outputs": [
    {
     "name": "stdout",
     "output_type": "stream",
     "text": [
      "['Markus Michael', 'Michaela', 'Johanna', 'Marius']\n"
     ]
    }
   ],
   "source": [
    "vornamen=[\"Markus\", \"Michaela\",\"Johanna\", \"Marius\"]\n",
    "# Einzelnen Wert ändern (z.B. hat Markus noch einen weiteren Vornamen (Michael))\n",
    "vornamen[0]=\"Markus Michael\"\n",
    "print(vornamen)"
   ]
  },
  {
   "cell_type": "markdown",
   "metadata": {},
   "source": [
    "Werte in Liste suchen und entsprechenden Index ausgeben:"
   ]
  },
  {
   "cell_type": "code",
   "execution_count": 70,
   "metadata": {},
   "outputs": [
    {
     "name": "stdout",
     "output_type": "stream",
     "text": [
      "2\n"
     ]
    }
   ],
   "source": [
    "vornamen=[\"Markus\", \"Michaela\",\"Johanna\", \"Marius\"]\n",
    "index_johanna=vornamen.index(\"Johanna\")\n",
    "print(index_johanna)"
   ]
  },
  {
   "cell_type": "markdown",
   "metadata": {},
   "source": [
    "Testen ob Wert in Liste ist (ja oder nein - True or False):"
   ]
  },
  {
   "cell_type": "code",
   "execution_count": 72,
   "metadata": {},
   "outputs": [
    {
     "name": "stdout",
     "output_type": "stream",
     "text": [
      "True\n",
      "False\n"
     ]
    }
   ],
   "source": [
    "vornamen=[\"Markus\", \"Michaela\",\"Johanna\", \"Marius\"]\n",
    "abfrage=\"Markus\" in vornamen\n",
    "print(abfrage)\n",
    "abfrage=\"Steffen\" in vornamen\n",
    "print(abfrage)"
   ]
  },
  {
   "cell_type": "markdown",
   "metadata": {},
   "source": [
    "Werte am Ende hinzufügen:"
   ]
  },
  {
   "cell_type": "code",
   "execution_count": 73,
   "metadata": {},
   "outputs": [
    {
     "name": "stdout",
     "output_type": "stream",
     "text": [
      "['Markus', 'Michaela', 'Johanna', 'Marius', 'Steffen']\n"
     ]
    }
   ],
   "source": [
    "vornamen=[\"Markus\", \"Michaela\",\"Johanna\", \"Marius\"]\n",
    "vornamen.append(\"Steffen\") # neuer Wert am Ende anhängen\n",
    "print(vornamen)"
   ]
  },
  {
   "cell_type": "markdown",
   "metadata": {},
   "source": [
    "Werte zwischendrinn einfügen:"
   ]
  },
  {
   "cell_type": "code",
   "execution_count": 74,
   "metadata": {},
   "outputs": [
    {
     "name": "stdout",
     "output_type": "stream",
     "text": [
      "['Markus', 'steffen', 'Michaela', 'Johanna', 'Marius']\n"
     ]
    }
   ],
   "source": [
    "vornamen=[\"Markus\", \"Michaela\",\"Johanna\", \"Marius\"]\n",
    "vornamen.insert(1,\"Steffen\") # neuer Wert bei Index 1 (Wert 2) einfügen\n",
    "print(vornamen)"
   ]
  },
  {
   "cell_type": "markdown",
   "metadata": {},
   "source": [
    "Werte aus Liste löschen:"
   ]
  },
  {
   "cell_type": "code",
   "execution_count": 75,
   "metadata": {},
   "outputs": [
    {
     "name": "stdout",
     "output_type": "stream",
     "text": [
      "['Markus', 'Johanna', 'Marius']\n"
     ]
    }
   ],
   "source": [
    "vornamen=[\"Markus\", \"Michaela\",\"Johanna\", \"Marius\"]\n",
    "vornamen.remove(\"Michaela\")\n",
    "print(vornamen)"
   ]
  },
  {
   "cell_type": "markdown",
   "metadata": {},
   "source": [
    "Alle Werte löschen:"
   ]
  },
  {
   "cell_type": "code",
   "execution_count": 76,
   "metadata": {},
   "outputs": [
    {
     "name": "stdout",
     "output_type": "stream",
     "text": [
      "[]\n"
     ]
    }
   ],
   "source": [
    "vornamen=[\"Markus\", \"Michaela\",\"Johanna\", \"Marius\"]\n",
    "vornamen.clear()\n",
    "print(vornamen)"
   ]
  },
  {
   "cell_type": "markdown",
   "metadata": {},
   "source": [
    "Eine leere Liste anlegen:"
   ]
  },
  {
   "cell_type": "code",
   "execution_count": 77,
   "metadata": {},
   "outputs": [
    {
     "name": "stdout",
     "output_type": "stream",
     "text": [
      "['Markus']\n"
     ]
    }
   ],
   "source": [
    "vornamen=[]\n",
    "vornamen.append(\"Markus\")\n",
    "print(vornamen)"
   ]
  },
  {
   "cell_type": "markdown",
   "metadata": {},
   "source": [
    "Listenelemente sortieren (auf oder absteigend):"
   ]
  },
  {
   "cell_type": "code",
   "execution_count": 80,
   "metadata": {},
   "outputs": [
    {
     "name": "stdout",
     "output_type": "stream",
     "text": [
      "['Johanna', 'Marius', 'Markus', 'Michaela']\n",
      "['Michaela', 'Markus', 'Marius', 'Johanna']\n"
     ]
    }
   ],
   "source": [
    "vornamen=[\"Markus\", \"Michaela\",\"Johanna\", \"Marius\"]\n",
    "vornamen.sort() # auffsteigend sortieren\n",
    "print(vornamen)\n",
    "vornamen.sort(reverse=True) # absteigend sortieren\n",
    "print(vornamen)"
   ]
  },
  {
   "cell_type": "markdown",
   "metadata": {},
   "source": [
    "Achtung: mit der Funktion sort wird die Reihenfolge unwiederruflich sortiert. Diese Sortierung kann nicht rückgängig gemacht werden !!!\n",
    "\n",
    "Anstelle von sort() kann auch sorted() als eienständige Funktion stehen:"
   ]
  },
  {
   "cell_type": "code",
   "execution_count": 84,
   "metadata": {},
   "outputs": [
    {
     "name": "stdout",
     "output_type": "stream",
     "text": [
      "['Markus', 'Michaela', 'Johanna', 'Marius']\n",
      "['Johanna', 'Marius', 'Markus', 'Michaela']\n",
      "['Markus', 'Michaela', 'Johanna', 'Marius']\n",
      "['Michaela', 'Markus', 'Marius', 'Johanna']\n"
     ]
    }
   ],
   "source": [
    "vornamen=[\"Markus\", \"Michaela\",\"Johanna\", \"Marius\"]\n",
    "sortiert =sorted(vornamen) # auffsteigend sortieren und in neuer Liste speichern\n",
    "print(vornamen)\n",
    "print(sortiert)\n",
    "sortiert =sorted(vornamen,reverse=True) # auffsteigend absteigend sortieren und in neuer Liste speichern\n",
    "print(vornamen)\n",
    "print(sortiert)"
   ]
  },
  {
   "cell_type": "markdown",
   "metadata": {},
   "source": [
    "mit der Funktion len() kann die Anzahl der Element einer Liste bestimmt werden. Bei numerischer Listen gibt die Funktion sum() die Summe der Werte aus."
   ]
  },
  {
   "cell_type": "code",
   "execution_count": 88,
   "metadata": {},
   "outputs": [
    {
     "name": "stdout",
     "output_type": "stream",
     "text": [
      "5\n",
      "36.8\n"
     ]
    }
   ],
   "source": [
    "werte= [7.1,5.5,12.2,4.3,7.7]\n",
    "print(len(werte))\n",
    "print(sum(werte))\n"
   ]
  },
  {
   "cell_type": "markdown",
   "metadata": {},
   "source": [
    "### Aufgabe 2.5\n",
    "\n",
    "Sie haben folgende Messwerte: 4.5; 3.5; 1.2 und 1.7. Schreiben Sie die Werte in eine Liste und berechnen Sie den Mittelwert (Summe/Anzahl). Bestimmen Sie ausßerdem den größten und kleinsten Wert.\n",
    "\n",
    "Fügen Sie nun eine weitere Messung (9.5) hinzu und führen Sie die Berechnungen erneut durch."
   ]
  },
  {
   "cell_type": "markdown",
   "metadata": {},
   "source": []
  },
  {
   "cell_type": "markdown",
   "metadata": {},
   "source": [
    "### Lösung Aufgabe 2.5\n",
    "Bitte auf ... klicken"
   ]
  },
  {
   "cell_type": "code",
   "execution_count": 97,
   "metadata": {
    "jupyter": {
     "source_hidden": true
    }
   },
   "outputs": [
    {
     "name": "stdout",
     "output_type": "stream",
     "text": [
      "Mittelwert:2.7249999999999996\n",
      "Max: 4.5\n",
      "Min: 1.2\n",
      "Max_f: 4.5\n",
      "Min_f: 1.2\n",
      "Mittelwert2:4.08\n",
      "Max2: 9.5\n",
      "Min2: 1.2\n"
     ]
    }
   ],
   "source": [
    "messwerte=[4.5,3.5,1.2,1.7]\n",
    "\n",
    "mittel=sum(messwerte)/len(messwerte) # Mittelwert berechnen\n",
    "print(\"Mittelwert:\" +str(mittel)) # Ergebnis ausgeben; Zahl dabei in Text zumandeln\n",
    "\n",
    "sortierte_messwerte=sorted(messwerte) # für Max und Min Werte sortieren\n",
    "maximum=sortierte_messwerte[-1] # der letzte Wert ist Maximum (Index -1)\n",
    "minimum=sortierte_messwerte[0] # der erste Wert ist Minimum (Index 0)\n",
    "\n",
    "print(\"Max: \" +str(maximum)) # Ergebnis ausgeben; Zahl dabei in Text zumandeln\n",
    "print(\"Min: \" +str(minimum)) # Ergebnis ausgeben; Zahl dabei in Text zumandeln\n",
    "\n",
    "# die Funktionen min() und max leifern das gleiche Ergebnis\n",
    "\n",
    "print(\"Max_f: \"+str(max(messwerte)))\n",
    "print(\"Min_f: \"+str(min(messwerte)))\n",
    "\n",
    "\n",
    "# neuen Wert hinzugügen:\n",
    "messwerte.append(9.5)\n",
    "mittel=sum(messwerte)/len(messwerte) # Mittelwert berechnen\n",
    "print(\"Mittelwert2:\" +str(mittel)) # Ergebnis ausgeben; Zahl dabei in Text zumandeln\n",
    "print(\"Max2: \"+str(max(messwerte)))\n",
    "print(\"Min2: \"+str(min(messwerte)))\n"
   ]
  },
  {
   "cell_type": "code",
   "execution_count": null,
   "metadata": {},
   "outputs": [],
   "source": [
    "## Dictionary"
   ]
  }
 ],
 "metadata": {
  "kernelspec": {
   "display_name": "Python 3",
   "language": "python",
   "name": "python3"
  },
  "language_info": {
   "codemirror_mode": {
    "name": "ipython",
    "version": 3
   },
   "file_extension": ".py",
   "mimetype": "text/x-python",
   "name": "python",
   "nbconvert_exporter": "python",
   "pygments_lexer": "ipython3",
   "version": "3.8.6"
  }
 },
 "nbformat": 4,
 "nbformat_minor": 4
}
