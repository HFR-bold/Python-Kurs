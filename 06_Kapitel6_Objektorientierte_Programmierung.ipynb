{
 "cells": [
  {
   "cell_type": "markdown",
   "metadata": {},
   "source": [
    "# 6. Objektorientierte Programmierung"
   ]
  },
  {
   "cell_type": "markdown",
   "metadata": {},
   "source": [
    "In diesem Kapitel wollen wir uns nur sehr kurz und ohne Aufgaben um das Thema objektorientierte Programmierung kümmern. \n",
    "\n",
    "In der objektorientierten Programmierung werden Programme mit Klassen und Objekten so strukturiert, dass die Wirklichkeit damit besser abgebildet werden kann. Haben wir bisher vor allem Funktionen und Datentypen kennengelernt, so werden mit Klassen nun ganz neue Möglichkeiten eröffnet.\n",
    "Dies setzt aber ein grundlegend anderes Verständnis für die Programmstruktur voraus, weshalb wir in diesem Kurs nicht näher darauf eingehen wollen. In der \"modernen\" Programmierung ist dieses Konzept jedoch sehr weit verbreitet. Auch Python selbst ist objektorientiert aufgebaut. So haben wir bereits einige Klassen kennengelernt (z.B. die Klasse datetime,..)\n",
    "\n",
    "Mit Klassen können wir nun Objekte/Dinge/Entitäten erzeugen, die sowohl Eigenschaften haben (in Form von Datentypen/Variablen) als auch Dinge tun können (so wie Funktionen)"
   ]
  },
  {
   "cell_type": "markdown",
   "metadata": {},
   "source": [
    "Wenn wir z.B. das Verhalten von Fischen in einem Computerprogramm abbilden wollen, dann können wir eine Klasse \"Fisch\" definieren. In dieser Klasse wird spezifiziert, welche Eigenschaften grundsätzlich bestimmte Fischarten haben können (für die wir uns auch interessieren, z.B. Art, bevorzugte Fließgeschwindigkeit) und was Fische alles machen können (z.B. wohin sie schwimmen,..)  Die Klasse kann dabei als Blaupause für alle möglichen Fische aufgefasst werden. \n",
    "\n",
    "Wenn wir einen Fisch als Objekt \"erzeugen\" wollen, so spezifizieren wir die Eigenschaften der Klasse Fisch (Lachs, 0,5m, schwimmt gerade an dieser Position)."
   ]
  },
  {
   "cell_type": "markdown",
   "metadata": {},
   "source": [
    "Zuerst also definieren wir die Klasse Fisch:"
   ]
  },
  {
   "cell_type": "code",
   "execution_count": 1,
   "metadata": {},
   "outputs": [],
   "source": [
    "# Definition der Klasse Fisch\n",
    "class Fisch:\n",
    "    # Hier werden die Eigenschaften definiert\n",
    "    def __init__(self,bevorzugte_fliesstiefe,bevorzugte_fliessgeschwindigkeit ,art,xy_position): #Initialiserung der Klasse\n",
    "        self.bevorzugte_fliesstiefe = bevorzugte_fliesstiefe\n",
    "        self.bevorzugte_fliessgeschwindigkeit = bevorzugte_fliessgeschwindigkeit\n",
    "        self.art = art\n",
    "        self.xy_position =xy_position # Standort in x-y-Koordinaten\n",
    "     # nachfolgend zwei Methoden   \n",
    "    def print_habitat(self):  # Funktion, die uns das bevorzugte habitat ausgibt \n",
    "        print(\"Die Fischart {0} bevorzugt {1}m Tiefe und {2}m/s schnell fließendes Wasser.\".format(self.art, str(self.bevorzugte_fliesstiefe), str(self.bevorzugte_fliessgeschwindigkeit)))\n",
    "        \n",
    "    def schwimm_zu_position(self, neue_position=()):  # Funktion, zu welchem Standort der Fisch schwimmen soll\n",
    "        self.xy_position = neue_position\n"
   ]
  },
  {
   "cell_type": "markdown",
   "metadata": {},
   "source": [
    "Wenn man die Klassendefinition hat, kann man einzelne Objekte erzeugen und Methoden anwenden:"
   ]
  },
  {
   "cell_type": "code",
   "execution_count": 2,
   "metadata": {},
   "outputs": [
    {
     "name": "stdout",
     "output_type": "stream",
     "text": [
      "Die Fischart Forelle bevorzugt 1.0m Tiefe und 0.4m/s schnell fließendes Wasser.\n",
      "Der aktuelle Standort ist (3, 4)\n",
      "Die Fischart Lachs bevorzugt 0.5m Tiefe und 0.2m/s schnell fließendes Wasser.\n",
      "Der aktuelle Standort ist (4, 4)\n"
     ]
    }
   ],
   "source": [
    "# Inititalsierung der ersten Fischart\n",
    "\n",
    "fischart1=Fisch(1.0,0.4,\"Forelle\",(3,4))\n",
    "\n",
    "#Methode print_habitat()\n",
    "\n",
    "fischart1.print_habitat()\n",
    "\n",
    "# Ausgabe aktueller Standport\n",
    "print(\"Der aktuelle Standort ist {0}\".format(fischart1.xy_position))\n",
    "\n",
    "\n",
    "# Inititalsierung einer weiteren Fischart\n",
    "fischart2=Fisch(0.5,0.2,\"Lachs\",(1,1))\n",
    "\n",
    "fischart2.print_habitat()\n",
    "\n",
    "fischart2.schwimm_zu_position((4,4))\n",
    "\n",
    "print(\"Der aktuelle Standort ist {0}\".format(fischart2.xy_position))"
   ]
  },
  {
   "cell_type": "markdown",
   "metadata": {},
   "source": [
    "Wir wollen hier nicht weiter das Konzept der objektorientierten Programmierung vertiefen. Hier sei wieder auf die sehr ausführliche Literatur verwiesen (z.B. http://openbook.rheinwerk-verlag.de/python/21_001.html oder https://www.python-kurs.eu/klassen.php)."
   ]
  },
  {
   "cell_type": "code",
   "execution_count": null,
   "metadata": {
    "collapsed": true,
    "jupyter": {
     "outputs_hidden": true
    }
   },
   "outputs": [],
   "source": []
  }
 ],
 "metadata": {
  "kernelspec": {
   "display_name": "Python 3",
   "language": "python",
   "name": "python3"
  },
  "language_info": {
   "codemirror_mode": {
    "name": "ipython",
    "version": 3
   },
   "file_extension": ".py",
   "mimetype": "text/x-python",
   "name": "python",
   "nbconvert_exporter": "python",
   "pygments_lexer": "ipython3",
   "version": "3.8.6"
  }
 },
 "nbformat": 4,
 "nbformat_minor": 4
}
