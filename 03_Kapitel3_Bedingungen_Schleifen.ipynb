{
 "cells": [
  {
   "cell_type": "markdown",
   "metadata": {},
   "source": [
    "# 3. Bedingungen und Schleifen"
   ]
  },
  {
   "cell_type": "markdown",
   "metadata": {},
   "source": [
    "Computerprogramme können erst dann ihre Stärken ausspielen, wenn Sie viele Rechenschritte automatisiert durchführen können. Dazu müssen die entsprechenden Programmabläufe jedoch über eine geeignete Abflaufsteuerung implementiert werden. Dies geschieht in Python (und eigentlich allen Programmiersprachen) mittels Bedingungsanweiseungen und Schleifen. "
   ]
  },
  {
   "cell_type": "markdown",
   "metadata": {},
   "source": [
    "## 3.1 Bedinungen"
   ]
  },
  {
   "cell_type": "markdown",
   "metadata": {},
   "source": [
    "### if-Anweisung\n",
    "Bedinungungsanweisungen (if-statements) sind dazu da, einzelne Programmschritte nur dann auszuführen, wenn eine bestimmte Bedingung erfüllt ist. Z.B. soll die Ausgabe von einem Wert über print() nur dann erfolgen, wenn der Wert größer oder gleich 10 ist. Eine solche Bedingungsanweisung beginnt immer mit dem Schlüsselwort \"if\", danach folgt die zu erfüllende Bedingung und nach einem Doppelpunkt werden dann in der nächsten Zeile eingerückt die Anweisungen formuliert: "
   ]
  },
  {
   "cell_type": "code",
   "execution_count": 209,
   "metadata": {},
   "outputs": [
    {
     "name": "stdout",
     "output_type": "stream",
     "text": [
      "12.0\n"
     ]
    }
   ],
   "source": [
    "x=12.0 \n",
    "if x>=10:    # if Bedingung, dann :\n",
    "    print(x) # Anweisungen, bei Erfüllung der Bedinung "
   ]
  },
  {
   "cell_type": "markdown",
   "metadata": {},
   "source": [
    "Da 12.0 >=10 ist, wird die Zahl über die Funktion print(x) ausgegeben.\n",
    "Falls wir nun x=5.0 setzen, erfolgt keine Ausgabe (da die Bedingung ja nicht erfüllt ist)"
   ]
  },
  {
   "cell_type": "code",
   "execution_count": 210,
   "metadata": {},
   "outputs": [],
   "source": [
    "x=5.0 \n",
    "if x>=10:    # if Bedingung, dann :\n",
    "    print(x) # Anweisungen, bei Erfüllung der Bedinung (Einrückung norm. 4 Zeichen)"
   ]
  },
  {
   "cell_type": "markdown",
   "metadata": {},
   "source": [
    "Wir können auch mehrere Anweisungen von der Bedingung abhängig machen. Dazu müssen wir aber alle Anweisungen eingerückt in neue Zeilen schreiben."
   ]
  },
  {
   "cell_type": "code",
   "execution_count": 211,
   "metadata": {},
   "outputs": [
    {
     "name": "stdout",
     "output_type": "stream",
     "text": [
      "12.0\n",
      "die Bedingung ist immer noch erfüllt\n"
     ]
    }
   ],
   "source": [
    "x=12.0 \n",
    "if x>=10:    # if Bedingung, dann :\n",
    "    print(x) # Anweisungen, bei Erfüllung der Bedinung\n",
    "    print(\"die Bedingung ist immer noch erfüllt\")"
   ]
  },
  {
   "cell_type": "markdown",
   "metadata": {},
   "source": [
    "### Aufgabe: Versuchen Sie in den Aufgaben zu der if-Bedingung (sowohl die bereits gerechneten als auch die untenstehenden) die Werte zu variieren (x,y,Bedinungen) und nachzuvollziehen."
   ]
  },
  {
   "cell_type": "code",
   "execution_count": 212,
   "metadata": {},
   "outputs": [],
   "source": [
    "x=5.0 \n",
    "if x>=10:    # if Bedingung, dann :\n",
    "    print(x) # Anweisungen, bei Erfüllung der Bedinung\n",
    "    print(\"die Bedingung ist immer noch erfüllt\")"
   ]
  },
  {
   "cell_type": "markdown",
   "metadata": {},
   "source": [
    "Wenn die Bedingung nicht mehr gelten soll, schreiben wir unseren weiteren Quellcode einfach wieder ohne Einrückung weiter."
   ]
  },
  {
   "cell_type": "code",
   "execution_count": 213,
   "metadata": {},
   "outputs": [
    {
     "name": "stdout",
     "output_type": "stream",
     "text": [
      "12.0\n",
      "die Bedingung ist immer noch erfüllt\n",
      "Bedinung muss ab hier nicht mehr erfüllt sein\n"
     ]
    }
   ],
   "source": [
    "x=12.0 \n",
    "if x>=10:    # if Bedingung, dann :\n",
    "    print(x) # Anweisungen, bei Erfüllung der Bedinung\n",
    "    print(\"die Bedingung ist immer noch erfüllt\")\n",
    "print(\"Bedingung muss ab hier nicht mehr erfüllt sein\")"
   ]
  },
  {
   "cell_type": "code",
   "execution_count": 214,
   "metadata": {},
   "outputs": [
    {
     "name": "stdout",
     "output_type": "stream",
     "text": [
      "Bedinung muss ab hier nicht mehr erfüllt sein\n"
     ]
    }
   ],
   "source": [
    "x=5.0 \n",
    "if x>=10:    # if Bedingung, dann :\n",
    "    print(x) # Anweisungen, bei Erfüllung der Bedinung\n",
    "    print(\"die Bedingung ist immer noch erfüllt\")\n",
    "print(\"Bedingung muss ab hier nicht mehr erfüllt sein\")"
   ]
  },
  {
   "cell_type": "markdown",
   "metadata": {},
   "source": [
    "Wir können als Bedingung alles verwenden, was uns als Ergebnis einen Boolean-Wert (True/False) zurückgibt:\n",
    "\n",
    "- \"<\"   kleiner als\n",
    "- \"<\"   größer als\n",
    "- \"<=\"  kleiner/gleich\n",
    "- \">=\"  größer/gleich\n",
    "- \"==\"  gleich (Achtung!!!! doppeltes Gleichzeichen !!!\n",
    "- \"!=\"  ungleich\n",
    "\n"
   ]
  },
  {
   "cell_type": "code",
   "execution_count": 215,
   "metadata": {},
   "outputs": [
    {
     "name": "stdout",
     "output_type": "stream",
     "text": [
      "True\n"
     ]
    }
   ],
   "source": [
    "ergebnis = 1<2  # Das Ergebis der Bedinung 1<2 wird in die Variable ergebnis geschrieben\n",
    "print(ergebnis)"
   ]
  },
  {
   "cell_type": "code",
   "execution_count": 216,
   "metadata": {},
   "outputs": [
    {
     "name": "stdout",
     "output_type": "stream",
     "text": [
      "False\n"
     ]
    }
   ],
   "source": [
    "ergebnis = 1==2 # Das Ergebis der Bedinung 1==1 wird in die Variable ergebnis geschrieben\n",
    "print(ergebnis)"
   ]
  },
  {
   "cell_type": "markdown",
   "metadata": {},
   "source": [
    "Natürlich können auch andere Bedinungen hinter \"if\" stehen, die (True/False) ausgeben, z.B. kennen wir doch schon folgendes:"
   ]
  },
  {
   "cell_type": "code",
   "execution_count": 217,
   "metadata": {},
   "outputs": [
    {
     "name": "stdout",
     "output_type": "stream",
     "text": [
      "Markus ist schon in der Liste\n"
     ]
    }
   ],
   "source": [
    "vornamen=[\"Markus\", \"Michaela\",\"Johanna\", \"Marius\"]\n",
    "if \"Markus\" in vornamen:\n",
    "    print(\"Markus ist schon in der Liste\")"
   ]
  },
  {
   "cell_type": "markdown",
   "metadata": {},
   "source": [
    "Wenn wir das Gegenteil haben wollen, schreiben wir vor die Bedingung \"not\""
   ]
  },
  {
   "cell_type": "code",
   "execution_count": 218,
   "metadata": {},
   "outputs": [
    {
     "name": "stdout",
     "output_type": "stream",
     "text": [
      "Steffen ist ist nun in der Liste\n",
      "['Markus', 'Michaela', 'Johanna', 'Marius', 'Steffen']\n"
     ]
    }
   ],
   "source": [
    "vornamen=[\"Markus\", \"Michaela\",\"Johanna\", \"Marius\"]\n",
    "if not \"Steffen\" in vornamen:\n",
    "    vornamen.append(\"Steffen\")    # Steffen zur Liste hinzufügen (falls Bedinung (not \"Steffen\" in vornamen) erfüllt ist)\n",
    "    print(\"Steffen ist ist nun in der Liste\")\n",
    "print(vornamen)"
   ]
  },
  {
   "cell_type": "markdown",
   "metadata": {},
   "source": [
    "Um das \"not\" zu verdeutlichen, folgendes Beispiel:"
   ]
  },
  {
   "cell_type": "code",
   "execution_count": 219,
   "metadata": {},
   "outputs": [
    {
     "name": "stdout",
     "output_type": "stream",
     "text": [
      "False\n",
      "True\n"
     ]
    }
   ],
   "source": [
    "vornamen=[\"Markus\", \"Michaela\",\"Johanna\", \"Marius\"]\n",
    "print(\"Steffen\" in vornamen)\n",
    "print(not \"Steffen\" in vornamen)"
   ]
  },
  {
   "cell_type": "markdown",
   "metadata": {},
   "source": [
    "### and - und or - Bedinungen\n",
    "Wir können auch mehrere (Teil-)Bedinungen kombinieren. Dazu nutzen wir die Schlüsselworte \"and\" und \"or\". Bei \"and\" müssen beide Bedinungen erfüllt sein, bei \"or\" nur eine von beiden."
   ]
  },
  {
   "cell_type": "code",
   "execution_count": 220,
   "metadata": {},
   "outputs": [
    {
     "name": "stdout",
     "output_type": "stream",
     "text": [
      "Bedingung erfüllt\n"
     ]
    }
   ],
   "source": [
    "x=5\n",
    "y=6\n",
    "\n",
    "if x>2 and y<10:\n",
    "    print(\"Bedingung erfüllt\")"
   ]
  },
  {
   "cell_type": "markdown",
   "metadata": {},
   "source": [
    "Hier ist die Bedinung erfüllt, da sowohl 5>2 als auch 6<10 ist (beide Teilbedingungen sind erfüllt)"
   ]
  },
  {
   "cell_type": "code",
   "execution_count": 221,
   "metadata": {},
   "outputs": [],
   "source": [
    "x=1\n",
    "y=6\n",
    "\n",
    "if x>2 and y<10:\n",
    "    print(\"Bedingung erfüllt\")"
   ]
  },
  {
   "cell_type": "markdown",
   "metadata": {},
   "source": [
    "Hier ist die Bedingung nicht erfüllt, da eine Bedinung 1>2 Falsch ist (jedoch durch \"and\" beide Bedingungen erfüllt sein müssen)."
   ]
  },
  {
   "cell_type": "code",
   "execution_count": 222,
   "metadata": {},
   "outputs": [
    {
     "name": "stdout",
     "output_type": "stream",
     "text": [
      "Bedingung erfüllt\n"
     ]
    }
   ],
   "source": [
    "x=1\n",
    "y=6\n",
    "\n",
    "if x>2 or y<10:\n",
    "    print(\"Bedingung erfüllt\")"
   ]
  },
  {
   "cell_type": "markdown",
   "metadata": {},
   "source": [
    "Nun ist die Bedingung wieder erfüllt, da durch das \"or\" nur eine der beiden Teilbedingungen erfüllt sein muss (6<10 ist ja True)"
   ]
  },
  {
   "cell_type": "markdown",
   "metadata": {},
   "source": [
    "Wir können auch mehrere if-Statements ineinander verschachteln. dazu müssen wir aber nach jeder if-Anweisung neu (nochmals) eingrückt werden (um weitere 4 Zeichen)."
   ]
  },
  {
   "cell_type": "code",
   "execution_count": 223,
   "metadata": {},
   "outputs": [
    {
     "name": "stdout",
     "output_type": "stream",
     "text": [
      "x-Bedingung erfüllt\n",
      "x- und y-Bedinung erfüllt\n"
     ]
    }
   ],
   "source": [
    "x=3\n",
    "y=6\n",
    "\n",
    "if x>2:\n",
    "    print(\"x-Bedingung erfüllt\")\n",
    "    if y<10:\n",
    "        print(\"x- und y-Bedinung erfüllt\")"
   ]
  },
  {
   "cell_type": "markdown",
   "metadata": {},
   "source": [
    "### else-Anweisung\n",
    "Schauen wir uns nochmals folgendes Beispiel an:"
   ]
  },
  {
   "cell_type": "code",
   "execution_count": 224,
   "metadata": {},
   "outputs": [],
   "source": [
    "vornamen=[\"Markus\", \"Michaela\",\"Johanna\", \"Marius\"]\n",
    "if  \"Steffen\" in vornamen:\n",
    "    print(\"Steffen ist in der Liste\")"
   ]
  },
  {
   "cell_type": "markdown",
   "metadata": {},
   "source": [
    "Wir wollen nun auch ausgeben, falls der Namen nicht in der Liste ist. Dies könnte man ja folgendermaßen lösen:"
   ]
  },
  {
   "cell_type": "code",
   "execution_count": 225,
   "metadata": {},
   "outputs": [
    {
     "name": "stdout",
     "output_type": "stream",
     "text": [
      "Steffen ist nicht in der Liste\n"
     ]
    }
   ],
   "source": [
    "vornamen=[\"Markus\", \"Michaela\",\"Johanna\", \"Marius\"]\n",
    "if  \"Steffen\" in vornamen:\n",
    "    print(\"Steffen ist in der Liste\")\n",
    "if  not \"Steffen\" in vornamen:\n",
    "    print(\"Steffen ist nicht in der Liste\")   "
   ]
  },
  {
   "cell_type": "markdown",
   "metadata": {},
   "source": [
    "Die ist aber doch ziemlich umständlich. Deshalb gibt es zum if-Statement auch noch ein else (sonst). damit können wir unser Problem unkompliziert (und deshalb schön) lösen:"
   ]
  },
  {
   "cell_type": "code",
   "execution_count": 226,
   "metadata": {},
   "outputs": [
    {
     "name": "stdout",
     "output_type": "stream",
     "text": [
      "Steffen ist nicht in der Liste\n"
     ]
    }
   ],
   "source": [
    "vornamen=[\"Markus\", \"Michaela\",\"Johanna\", \"Marius\"]\n",
    "if  \"Steffen\" in vornamen:\n",
    "    print(\"Steffen ist in der Liste\")\n",
    "else:\n",
    "    print(\"Steffen ist nicht in der Liste\")   "
   ]
  },
  {
   "cell_type": "markdown",
   "metadata": {},
   "source": [
    "Nur zur Wiederholung: Man könnte dies auch noch allgemeiner formulieren:"
   ]
  },
  {
   "cell_type": "code",
   "execution_count": 227,
   "metadata": {},
   "outputs": [
    {
     "name": "stdout",
     "output_type": "stream",
     "text": [
      "Steffen ist nicht in der Liste\n"
     ]
    }
   ],
   "source": [
    "vornamen=[\"Markus\", \"Michaela\",\"Johanna\", \"Marius\"]\n",
    "vorname=\"Steffen\"\n",
    "if  vorname in vornamen:\n",
    "    print(vorname + \" ist in der Liste\")\n",
    "else:\n",
    "    print(vorname + \" ist nicht in der Liste\")  "
   ]
  },
  {
   "cell_type": "markdown",
   "metadata": {},
   "source": [
    "### elif-Anweisung\n",
    "Manchmal werden if-else-Anweisung sehr komplex, z.B. sobald wir mehrere solche Anweisungen hintereinander haben. dann können wir auch if-elif-else verwenden. \"if\" und \"else\" dürfen in einer if-Anweisung nur einmal vorkommen, \"elif\" (else if) kann jedoch häufiger verwendet werden. Ein Beispiel dazu:"
   ]
  },
  {
   "cell_type": "code",
   "execution_count": 228,
   "metadata": {},
   "outputs": [
    {
     "name": "stdout",
     "output_type": "stream",
     "text": [
      "x<1 oder x>5\n"
     ]
    }
   ],
   "source": [
    "x=6\n",
    "if (x == 1):\n",
    "    print(\"x=1\")\n",
    "elif (x == 2):\n",
    "    print(\"x=2\")\n",
    "elif (x == 3):\n",
    "    print(\"x=3\")\n",
    "elif (x == 4):\n",
    "    print(\"x=4\")\n",
    "elif (x == 5):\n",
    "    print(\"x=5\")\n",
    "else:\n",
    "    print(\"x<1 oder x>5\")"
   ]
  },
  {
   "cell_type": "markdown",
   "metadata": {},
   "source": [
    "Mit dieser Konstruktion wird die \"switch\" oder \"case\" - Anweisung von anderen Programmiersprachen in Python implementiert."
   ]
  },
  {
   "cell_type": "markdown",
   "metadata": {},
   "source": [
    "### Exkurs: Einfache Nutzereingaben\n",
    "\n",
    "Je nach Zweck unseres Programms, wollen wir evtl. auch einem externen Nutzer (also keinem Programmierer) die Möglichkeit einräumen, Informationen (z.B. Werte) an das Programm zu übergeben. Dazu können wir die input()-Funktion nutzen. Als Argument (in den Klammern) steht ein Text, der dem Nutzer Hinweise geben soll, was genau er denn nun eingeben soll. Sobald die Funktion ausgeführt wird, schreibt sie diesen Text aus und wartet auf eine Eingabe des Nutzers. Sobald die Eingabe durch den Nutzer abgeschlossen wird (Enter-Taste) wird die Nutzereingabe als Text (!!!) zurückgegeben.\n",
    "Ein Beispiel dazu:"
   ]
  },
  {
   "cell_type": "code",
   "execution_count": 229,
   "metadata": {},
   "outputs": [
    {
     "ename": "KeyboardInterrupt",
     "evalue": "Interrupted by user",
     "output_type": "error",
     "traceback": [
      "\u001b[1;31m---------------------------------------------------------------------------\u001b[0m",
      "\u001b[1;31mKeyboardInterrupt\u001b[0m                         Traceback (most recent call last)",
      "\u001b[1;32m<ipython-input-229-3c11757a7108>\u001b[0m in \u001b[0;36m<module>\u001b[1;34m\u001b[0m\n\u001b[1;32m----> 1\u001b[1;33m \u001b[0meingabe\u001b[0m\u001b[1;33m=\u001b[0m\u001b[0minput\u001b[0m\u001b[1;33m(\u001b[0m\u001b[1;34m\"Geben Sie einen Namen ein:\"\u001b[0m\u001b[1;33m)\u001b[0m\u001b[1;33m\u001b[0m\u001b[1;33m\u001b[0m\u001b[0m\n\u001b[0m\u001b[0;32m      2\u001b[0m \u001b[0mprint\u001b[0m\u001b[1;33m(\u001b[0m\u001b[0meingabe\u001b[0m\u001b[1;33m)\u001b[0m\u001b[1;33m\u001b[0m\u001b[1;33m\u001b[0m\u001b[0m\n",
      "\u001b[1;32mD:\\Python\\WPy64-3860\\python-3.8.6.amd64\\lib\\site-packages\\ipykernel\\kernelbase.py\u001b[0m in \u001b[0;36mraw_input\u001b[1;34m(self, prompt)\u001b[0m\n\u001b[0;32m    858\u001b[0m                 \u001b[1;34m\"raw_input was called, but this frontend does not support input requests.\"\u001b[0m\u001b[1;33m\u001b[0m\u001b[1;33m\u001b[0m\u001b[0m\n\u001b[0;32m    859\u001b[0m             )\n\u001b[1;32m--> 860\u001b[1;33m         return self._input_request(str(prompt),\n\u001b[0m\u001b[0;32m    861\u001b[0m             \u001b[0mself\u001b[0m\u001b[1;33m.\u001b[0m\u001b[0m_parent_ident\u001b[0m\u001b[1;33m,\u001b[0m\u001b[1;33m\u001b[0m\u001b[1;33m\u001b[0m\u001b[0m\n\u001b[0;32m    862\u001b[0m             \u001b[0mself\u001b[0m\u001b[1;33m.\u001b[0m\u001b[0m_parent_header\u001b[0m\u001b[1;33m,\u001b[0m\u001b[1;33m\u001b[0m\u001b[1;33m\u001b[0m\u001b[0m\n",
      "\u001b[1;32mD:\\Python\\WPy64-3860\\python-3.8.6.amd64\\lib\\site-packages\\ipykernel\\kernelbase.py\u001b[0m in \u001b[0;36m_input_request\u001b[1;34m(self, prompt, ident, parent, password)\u001b[0m\n\u001b[0;32m    902\u001b[0m             \u001b[1;32mexcept\u001b[0m \u001b[0mKeyboardInterrupt\u001b[0m\u001b[1;33m:\u001b[0m\u001b[1;33m\u001b[0m\u001b[1;33m\u001b[0m\u001b[0m\n\u001b[0;32m    903\u001b[0m                 \u001b[1;31m# re-raise KeyboardInterrupt, to truncate traceback\u001b[0m\u001b[1;33m\u001b[0m\u001b[1;33m\u001b[0m\u001b[1;33m\u001b[0m\u001b[0m\n\u001b[1;32m--> 904\u001b[1;33m                 \u001b[1;32mraise\u001b[0m \u001b[0mKeyboardInterrupt\u001b[0m\u001b[1;33m(\u001b[0m\u001b[1;34m\"Interrupted by user\"\u001b[0m\u001b[1;33m)\u001b[0m \u001b[1;32mfrom\u001b[0m \u001b[1;32mNone\u001b[0m\u001b[1;33m\u001b[0m\u001b[1;33m\u001b[0m\u001b[0m\n\u001b[0m\u001b[0;32m    905\u001b[0m             \u001b[1;32mexcept\u001b[0m \u001b[0mException\u001b[0m \u001b[1;32mas\u001b[0m \u001b[0me\u001b[0m\u001b[1;33m:\u001b[0m\u001b[1;33m\u001b[0m\u001b[1;33m\u001b[0m\u001b[0m\n\u001b[0;32m    906\u001b[0m                 \u001b[0mself\u001b[0m\u001b[1;33m.\u001b[0m\u001b[0mlog\u001b[0m\u001b[1;33m.\u001b[0m\u001b[0mwarning\u001b[0m\u001b[1;33m(\u001b[0m\u001b[1;34m\"Invalid Message:\"\u001b[0m\u001b[1;33m,\u001b[0m \u001b[0mexc_info\u001b[0m\u001b[1;33m=\u001b[0m\u001b[1;32mTrue\u001b[0m\u001b[1;33m)\u001b[0m\u001b[1;33m\u001b[0m\u001b[1;33m\u001b[0m\u001b[0m\n",
      "\u001b[1;31mKeyboardInterrupt\u001b[0m: Interrupted by user"
     ]
    },
    {
     "name": "stdin",
     "output_type": "stream",
     "text": [
      "Geben Sie einen Namen ein: 12\n"
     ]
    }
   ],
   "source": [
    "eingabe=input(\"Geben Sie einen Namen ein:\")\n",
    "print(eingabe)"
   ]
  },
  {
   "cell_type": "markdown",
   "metadata": {},
   "source": [
    "Diese Funktion geht in Jupyter zwar, setzt aber voraus, dass der Nutzer (also in dem Fall Sie) die Eingabe wirklich mit der Enter-Taste abschließt bevor die Funktion das nächste Mal gestartet wird. Falls das nicht geschieht, sehen Sie die Ausgabe des Programms nicht mehr und neben dem Quellcode steht in den eckigen Klammern ein *. In diesem Fall müssen Sie den kernel (Berechungskern) stoppen. Dies können Sie in der oberen Menüleiste mit dem dunklen Quadrat direkt neben dem \"run\"-Dreick durchführen. Danach können Sie das Programm wieder neu rechnen lassen. "
   ]
  },
  {
   "cell_type": "markdown",
   "metadata": {},
   "source": [
    "Falls der Nutzer eine Zahl eingeben soll, müssen Sie die Eingabe noch über int() oder float() in eine Zahl umwandeln."
   ]
  },
  {
   "cell_type": "code",
   "execution_count": null,
   "metadata": {},
   "outputs": [],
   "source": [
    "eingabe=input(\"Geben Sie eine ganze Zahl ein:\")\n",
    "zahl=int(eingabe)\n",
    "print(\"das Doppelte Ihrer Zahl lautet: \"+str(zahl*2))\n"
   ]
  },
  {
   "cell_type": "markdown",
   "metadata": {},
   "source": [
    "### Exkurs: try-except\n",
    "\n",
    "Schauen wir uns nochmals das vorherige Beispiel an:"
   ]
  },
  {
   "cell_type": "code",
   "execution_count": null,
   "metadata": {},
   "outputs": [],
   "source": [
    "eingabe=input(\"Geben Sie eine ganze Zahl ein:\")\n",
    "zahl=int(eingabe)\n",
    "print(\"das Doppelte Ihrer Zahl lautet: \"+str(zahl*2))"
   ]
  },
  {
   "cell_type": "markdown",
   "metadata": {},
   "source": [
    "Was passiert, wenn der Nutzer keine ganze Zahl, sondern z.B. einen Text eingibt. Genau: die Funktion int(eingabe) leifert eine Fehlermeldung und das Programm bricht ab, ohne eine Erklärung für den Nutzer (außer einer kryptischen Fehlermeldung). Dies muss aber auf jeden Fall vermieden werden.\n",
    "Dazu verwendet man try-except-Anweisungen. Wir werden dies hier nicht im Detail erörtern, sondern nur kurz beispielhaft darstellen. Das obige Problem können wir folgendermaßen lösen (im Moment noch nicht wirklich schön, da fehlen uns noch weitere Kenntnisse)."
   ]
  },
  {
   "cell_type": "code",
   "execution_count": null,
   "metadata": {},
   "outputs": [],
   "source": [
    "eingabe=input(\"Geben Sie eine ganze Zahl ein:\")\n",
    "\n",
    "try:\n",
    "    zahl=int(eingabe)\n",
    "    eingabe_richtig=True\n",
    "except ValueError:\n",
    "    print(\"Sie haben keine ganze Zahl eingegeben\")\n",
    "    eingabe_richtig=False\n",
    "if (eingabe_richtig==True):\n",
    "    print(\"das Doppelte Ihrer Zahl lautet: \"+str(zahl*2))"
   ]
  },
  {
   "cell_type": "markdown",
   "metadata": {},
   "source": [
    "### Aufgabe 3.1\n",
    "\n",
    "In Aufgabe 2.1. haben Sie den Durchfluss eines Flusses nach der Manning-Strickler-Gleichung berechnet, wobei Sie als Breite b = 10.0, als Wasserstand h = 2.0, als Rauhigkeitsbeiwert k_st=35.0 und als Gefälle I=0.0015 genommen haben. Folgende Formel gilt (r_hy: Hydraulischer Radius; l_u: benetzter Umfang; A: Querschnittsfläche):\n"
   ]
  },
  {
   "cell_type": "markdown",
   "metadata": {},
   "source": [
    "\\begin{equation*}\n",
    "Q = k_{st} r_{hy}^\\frac{2}{3} I^\\frac{1}{2} A \n",
    "\\end{equation*}"
   ]
  },
  {
   "cell_type": "markdown",
   "metadata": {},
   "source": [
    "mit\n",
    "\\begin{equation*}\n",
    "r_{hy} = \\frac{A}{l_u} \\\\\n",
    "A = b h \\\\\n",
    "l_u = b + 2 h \\\\\n",
    "\\end{equation*}"
   ]
  },
  {
   "cell_type": "markdown",
   "metadata": {},
   "source": [
    "Erweitern Sie das Programm aus Aufgabe 2.1, in dem der Nutzer selbst den Wasserstand h eingeben können soll. Nur, wenn der Wasserstand >= 0 ist, soll die Berechung stattfinden und ein Ergebnis ausgegeben werden (sonst sollte eine Meldung ausgegeben werden, dass der Wasserstand >= 0 sein muss).\n",
    "Da Sie das Programm ja selbst nutzen, müssen Sie nicht mit try-except Arbeiten (Sie wissen ja, dass Sie eine Zahl (float) eingeben müssen)."
   ]
  },
  {
   "cell_type": "code",
   "execution_count": null,
   "metadata": {},
   "outputs": [],
   "source": [
    "# Ihr Programm"
   ]
  },
  {
   "cell_type": "markdown",
   "metadata": {},
   "source": [
    "### Lösung Aufgabe 3.1\n",
    "\n",
    "Bitte ggf. auf ... klicken"
   ]
  },
  {
   "cell_type": "code",
   "execution_count": null,
   "metadata": {
    "jupyter": {
     "source_hidden": true
    }
   },
   "outputs": [],
   "source": [
    "# Variablen mit Eingabedaten initialisieren (Dezimalzahlen !!!)\n",
    "\n",
    "b=10.0 # Gewässerbreite\n",
    "k_st=35.0 # Rauheitsbeiwert\n",
    "I=0.0015 # Sohlgefälle\n",
    "\n",
    "h_text=input(\"Bitte geben Sie einen Wasserstand ein: \")\n",
    "h=float(h_text)\n",
    " \n",
    "#Falls h<=0 dann Meldung sonst Rechnung\n",
    "\n",
    "if h<0.0:\n",
    "    print(\"Der Wasserstand muss größer/gleich 0 sein !!\")\n",
    "else:\n",
    "    # Durchflossen Querschnittsfläche A, benetzer Umfang lu und hydraulischer Radius r_hy berechnen\n",
    "    A = b*h\n",
    "    l_u = b+2*h\n",
    "    r_hy =A/l_u\n",
    "    # Durchfluss Q nach Formel ausrechnen\n",
    "    Q = k_st*r_hy**(2/3)*I**(1/2)*A\n",
    "    # Durchfluss Q ausgeben\n",
    "    print(\"Bei einem Wasserstand von \" + str(h) +\" m fließen \"+ str(Q) + \" m³/s durch das Gewässer\")\n"
   ]
  },
  {
   "cell_type": "markdown",
   "metadata": {},
   "source": [
    "## 3.2 For-Schleife\n",
    "\n",
    "Richtig \"spannend\" werden Computerprogramme erst, wenn Sie hunderte, tausende oder millionen von Rechenoperationen durchführen können. Dies passiert dann, wenn Berechungen vielfach durchgeführt werden müssen (z.B. bei numerischen mathematischen Verfahren). Dazu werden in den Computerprogrammen Schleifen eingesetzt. Dabei gibt es zwei verschiedene Arten von Schleifen: for-Schleifen und while-Schleifen.\n",
    "wir wollen uns zuerst den for-Schleifen widmen. Diese setzen wir normalerweise ein, wenn wir grundätzlich schon wissen, wie oft eine Berechnung (oder ein Berechungsblock) durchgeführt werden muss. In Python benötigen wir dazu eine Liste (siehe Kapitel 2). Die wiederholenden Berechnungen werden für alle Elemente einer Liste durchgeführt. Falls wir z.B. eine Berechung 10 mal durchführen müssen, benötigen wir also eine Liste mit 10 Elementen. Dies können wir z.B. über den Befehl range() erreichen. Wie der Name for-Schleife schon sagt, wird die Schleife mit einem \"for\" eingeleitet. Dazu muss noch die Liste angegeben werden. Im folgenden werden dann die Elemente der Liste nacheinander abgearbeitet. Das Element das an der Reihe ist, wird an eine neue Variable übergeben und die Berechnung angestoßen. Die Syntax für diese Konstruktion lautet: "
   ]
  },
  {
   "cell_type": "code",
   "execution_count": null,
   "metadata": {},
   "outputs": [],
   "source": [
    "zahlen = range(0,10) # zuerst benötigen wir eine Liste (in diesem Fall erzeugen wir eine mit range)\n",
    "\n",
    "print(zahlen) # zur Kontrolle geben wir diese Liste aus\n",
    "\n",
    "for zahl in zahlen:  # hier beginnt die eigentliche for-Schleife\n",
    "    print(zahl) # die Variable zahl bekommt in jedem Umlauf den nächsten Wert der List zugewiesen"
   ]
  },
  {
   "cell_type": "markdown",
   "metadata": {},
   "source": [
    "Alles was in der Schleife abgearbeitet werden soll, muss eingerückt werden (4 Zeichen). \n",
    "Die for-Schleife funktioniert natürlich auch mit anderen Listen."
   ]
  },
  {
   "cell_type": "code",
   "execution_count": null,
   "metadata": {},
   "outputs": [],
   "source": [
    "vornamen=[\"Markus\", \"Michaela\",\"Johanna\", \"Marius\"]\n",
    "for name in vornamen: \n",
    "    print(name)  "
   ]
  },
  {
   "cell_type": "markdown",
   "metadata": {},
   "source": [
    "Da unsere Liste vier Elemente hat, wird die Schleife viermal durchlaufen. Bei jedem Durchlauf wird das jeweilige Listenelement, das an der Reihe ist, an die Variable \"name\" übergeben.\n",
    "\n",
    "Natürlich können wir auch mehrere Anweisungen in einer Schleife ausführen lassen:"
   ]
  },
  {
   "cell_type": "code",
   "execution_count": null,
   "metadata": {},
   "outputs": [],
   "source": [
    "vornamen=[\"Markus\", \"Michaela\",\"Johanna\", \"Marius\"]\n",
    "for name in vornamen:\n",
    "    anzahl_buchstaben = len(name)  # Anzahl der Buchstaben für den jeweiligen Namen\n",
    "    print(\"Der Name \"+ name + \" hat \" + str(anzahl_buchstaben) + \" Buchstaben\") # Ausgabe \n",
    "print(\"Die Schleife ist nun beendet\") # Hier endet die Schleife"
   ]
  },
  {
   "cell_type": "markdown",
   "metadata": {},
   "source": [
    "### Aufgabe 3.2\n",
    "\n",
    "Erweitern Sie das Programm aus Aufgabe 2.1 so, dass der Durchfluss für alle Wasserstände zwischen 0 und 10 (jeweils inklusive) in 1-Schritten berechnet und ausgegeben wird (der Nutzer muss nichts eingeben).  "
   ]
  },
  {
   "cell_type": "code",
   "execution_count": null,
   "metadata": {},
   "outputs": [],
   "source": [
    "# Ihr Programm"
   ]
  },
  {
   "cell_type": "markdown",
   "metadata": {},
   "source": [
    "### Lösung Aufgabe 3.2\n",
    "\n",
    "Bitte ggf. auf ... klicken !"
   ]
  },
  {
   "cell_type": "code",
   "execution_count": null,
   "metadata": {
    "jupyter": {
     "source_hidden": true
    }
   },
   "outputs": [],
   "source": [
    "# Variablen mit Eingabedaten initialisieren (Dezimalzahlen !!!)\n",
    "\n",
    "b=10.0 # Gewässerbreite\n",
    "\n",
    "k_st=35.0 # Rauheitsbeiwert\n",
    "I=0.0015 # Sohlgefälle\n",
    "\n",
    "\n",
    "h_liste=range(0,11)  #Liste erzeugen mit Werten \n",
    "\n",
    "for h in h_liste:\n",
    "    # Durchflossen Querschnittsfläche A, benetzer Umfang lu und hydraulischer Radius r_hy berechnen\n",
    "    A = b*h\n",
    "    l_u = b+2*h\n",
    "    r_hy =A/l_u\n",
    "    # Durchfluss Q nach Formel ausrechnen\n",
    "    Q = k_st*r_hy**(2/3)*I**(1/2)*A\n",
    "    # Durchfluss Q ausgeben\n",
    "    print(\"Wasserstand: \" + str(h)+ \" m ==> Abluss: \"+ str(Q)+ \" m3/s\")\n",
    "print(\"Berechnung erfolgreich beendet\")"
   ]
  },
  {
   "cell_type": "markdown",
   "metadata": {},
   "source": [
    "Wir können eine for Schleife auch mit dem Befehl break komplett abbrechen (z.B. beim Erreichen einer bestimmten Bedingung)"
   ]
  },
  {
   "cell_type": "code",
   "execution_count": null,
   "metadata": {},
   "outputs": [],
   "source": [
    "vornamen=[\"Markus\", \"Michaela\",\"Johanna\", \"Marius\"]\n",
    "for name in vornamen:\n",
    "    anzahl_buchstaben = len(name)  # Anzahl der Buchstaben für den jeweiligen Namen\n",
    "    if (anzahl_buchstaben >= 8):\n",
    "        print(\"mehr als 8 Zeichen: Die Schleife wird komplett abgebrochen\")\n",
    "        break #Abbruch der komplette Schleife \n",
    "    print(\"Der Name \"+ name + \" hat \" + str(anzahl_buchstaben) + \" Buchstaben\") # Ausgabe \n",
    "print(\"Die Schleife ist nun beendet\") # Hier endet die Schleife"
   ]
  },
  {
   "cell_type": "markdown",
   "metadata": {},
   "source": [
    "Eine for-Anweisung kann auch in Verbindung mit einem else stehen. In den else-Bereich kommt man nur, wenn die Schleife nicht vorzeitig mit break abgebrochen wurde"
   ]
  },
  {
   "cell_type": "code",
   "execution_count": null,
   "metadata": {},
   "outputs": [],
   "source": [
    "vornamen=[\"Markus\", \"Michaela\",\"Johanna\", \"Marius\"]\n",
    "for name in vornamen:\n",
    "    anzahl_buchstaben = len(name)  # Anzahl der Buchstaben für den jeweiligen Namen\n",
    "    if (anzahl_buchstaben >= 8):\n",
    "        print(\"mehr als 8 Zeichen: Die Schleife wird komplett abgebrochen\")\n",
    "        break #Abbruch der komplette Schleife \n",
    "    print(\"Der Name \"+ name + \" hat \" + str(anzahl_buchstaben) + \" Buchstaben\") # Ausgabe \n",
    "else: # falls Schleife nicht durch break beentet\n",
    "    print(\"Die Schleife ist nun ohne break beendet\")  \n",
    "print(\"Die Schleife ist nun beendet\") # Hier endet die Schleife auf jeden Fall"
   ]
  },
  {
   "cell_type": "markdown",
   "metadata": {},
   "source": [
    "Mit continue wird nur der aktuelle Rechendurchlauf abgebrochen, danach wird die Schleife mit dem nächsten Element der Liste fortgesetzt."
   ]
  },
  {
   "cell_type": "code",
   "execution_count": null,
   "metadata": {},
   "outputs": [],
   "source": [
    "vornamen=[\"Markus\", \"Michaela\",\"Johanna\", \"Marius\"]\n",
    "for name in vornamen:\n",
    "    anzahl_buchstaben = len(name)  # Anzahl der Buchstaben für den jeweiligen Namen\n",
    "    if (anzahl_buchstaben >= 8):\n",
    "        print(\"mehr als 8 Zeichen: Nur dieser Schritt wird abgebrochen\")\n",
    "        continue  #Dieser Lauf wird abgebrochen und dann mit dem nächsten Element fortgesetzt\n",
    "    print(\"Der Name \"+ name + \" hat \" + str(anzahl_buchstaben) + \" Buchstaben\") # Ausgabe    \n",
    "print(\"Die Schleife ist nun abgearbeitet\") # Hier endet die Schleife"
   ]
  },
  {
   "cell_type": "markdown",
   "metadata": {},
   "source": [
    "### Aufgabe 3.3\n",
    "\n",
    "Erweitern Sie Ihr Programm aus Aufgabe 3.2 so, dass der Nutzer nun die Breite b über die Funktion input() selbst eingeben kann. Der Abfluss soll wieder über alle Wasserstände von 0 - 10 berechnet werden, jedoch sollen alle weiteren Berechnungen abgebrochen werden, falls der Abfluss größer als 100 ist. Am Schluss soll im Falle einer kompletten Abarbeitung der Schleife eine Erfolgsmeldung ausgegeben werden"
   ]
  },
  {
   "cell_type": "code",
   "execution_count": null,
   "metadata": {},
   "outputs": [],
   "source": [
    "# Ihr Programm"
   ]
  },
  {
   "cell_type": "markdown",
   "metadata": {},
   "source": [
    "### Lösung Aufgaben 3.3\n",
    "\n",
    "Bitte ggf. auf ... klicken !!"
   ]
  },
  {
   "cell_type": "code",
   "execution_count": null,
   "metadata": {
    "jupyter": {
     "source_hidden": true
    }
   },
   "outputs": [],
   "source": [
    "# Variablen mit Eingabedaten initialisieren (Dezimalzahlen !!!)\n",
    "\n",
    "b_text= input(\"Bitte geben Sie die Gewässerbreite an:\") # Eingabe der Breite durch Nutzer als Text\n",
    "b=float(b_text) # Umwandlung des Textes in eine Dezimalzahl für die Gewässerbreite\n",
    "\n",
    "\n",
    "k_st=35.0 # Rauheitsbeiwert\n",
    "I=0.0015 # Sohlgefälle\n",
    "\n",
    "\n",
    "h_liste=range(0,11)  #Liste erzeugen mit Werten \n",
    "\n",
    "for h in h_liste:\n",
    "    # Durchflossen Querschnittsfläche A, benetzer Umfang lu und hydraulischer Radius r_hy berechnen\n",
    "    A = b*h\n",
    "    l_u = b+2*h\n",
    "    r_hy =A/l_u\n",
    "    # Durchfluss Q nach Formel ausrechnen\n",
    "    Q = k_st*r_hy**(2/3)*I**(1/2)*A\n",
    "    # Durchfluss Q ausgeben\n",
    "    print(\"Wasserstand: \" + str(h)+ \" m ==> Abluss: \"+ str(Q)+ \" m3/s\")\n",
    "    if Q>100:\n",
    "        print(\"Abfluss größer als 100. Berechnung wird nun abgebrochen\")\n",
    "        break\n",
    "else:\n",
    "    print(\"Berechnungen komplett durchgerechnet\")\n"
   ]
  },
  {
   "cell_type": "markdown",
   "metadata": {},
   "source": [
    "Schauen wir uns nochmals folgendes Beispiel an:"
   ]
  },
  {
   "cell_type": "code",
   "execution_count": null,
   "metadata": {},
   "outputs": [],
   "source": [
    "vornamen=[\"Markus\", \"Michaela\",\"Johanna\", \"Marius\"]\n",
    "for name in vornamen:\n",
    "    anzahl_buchstaben = len(name)  # Anzahl der Buchstaben für den jeweiligen Namen\n",
    "    print(\"Der Name \"+ name + \" hat \" + str(anzahl_buchstaben) + \" Buchstaben\") # Ausgabe \n"
   ]
  },
  {
   "cell_type": "markdown",
   "metadata": {},
   "source": [
    "Manchmal ist es notwendig, dass wir auch wissen, im wievielten Umlauf wir gerade sind. Dazu können wir die for-Anweisung um eine weitere Variable (in diesem Fall \"index\") und die Funktion enumerate() erweitern. Die Index-Variable wird jetzt in jedem Umlauf um eins größer (beginnend von 0 !!!) "
   ]
  },
  {
   "cell_type": "code",
   "execution_count": null,
   "metadata": {},
   "outputs": [],
   "source": [
    "vornamen=[\"Markus\", \"Michaela\",\"Johanna\", \"Marius\"]\n",
    "for index,name in enumerate(vornamen): # durch enumerate werden können zwei Variablen (Nummer und Element) genutzt werden \n",
    "    anzahl_buchstaben = len(name)  # Anzahl der Buchstaben für den jeweiligen Namen\n",
    "    print(\"Der \"+str(index+1)+\"-te Name \"+ name + \" hat \" + str(anzahl_buchstaben) + \" Buchstaben\") # Ausgabe "
   ]
  },
  {
   "cell_type": "markdown",
   "metadata": {},
   "source": [
    "### Exkurs formatierte Ausgabe"
   ]
  },
  {
   "cell_type": "markdown",
   "metadata": {},
   "source": [
    "Beim letzten Beispiel haben wir nun gesehen, dass die Ausgabe mit print() doch sehr unübersichtlich werden kann. Man kann dies aber durch eine formatierte Ausgaben deutlich vereinfachen."
   ]
  },
  {
   "cell_type": "code",
   "execution_count": null,
   "metadata": {},
   "outputs": [],
   "source": [
    "    print(\"Der \"+str(index+1)+\"-te Name \"+ name + \" hat \" + str(anzahl_buchstaben) + \" Buchstaben\") # Ausgabe "
   ]
  },
  {
   "cell_type": "code",
   "execution_count": null,
   "metadata": {},
   "outputs": [],
   "source": [
    "kann auch folgendermaßen programmiert werden:"
   ]
  },
  {
   "cell_type": "code",
   "execution_count": null,
   "metadata": {},
   "outputs": [],
   "source": [
    "print(\"Der {0}-te Name {1} hat {2} Buchstaben\".format(index+1,name,anzahl_buchstaben))"
   ]
  },
  {
   "cell_type": "markdown",
   "metadata": {},
   "source": [
    "In den geschweiften Klammern steht ein Index von 0 bis zur Anzahl der Variablen, die wir ausgeben wollen. In diesem Fall wollen wir 3 Variablen ausgeben (index+1,name, anzahl_buchstaben). Der Text \n",
    "\"Der {0}-te Name {1} hat {2} Buchstaben\" bzw. dieses Textobjekt besitzt dann noch eine Funktion .format(), in die wir in der richtigen Reihenfolge die einzelnen auszugebenden Variablen eingeben müssen."
   ]
  },
  {
   "cell_type": "markdown",
   "metadata": {},
   "source": [
    "Anstelle eines Index kann in den geschweiften Klammern auch eine Variable stehen, die wir dann in format() spezifizieren müssen."
   ]
  },
  {
   "cell_type": "code",
   "execution_count": null,
   "metadata": {},
   "outputs": [],
   "source": [
    "print(\"Der {i}-te Name {name} hat {x} Buchstaben\".format(i=index+1,name=name,x=anzahl_buchstaben))"
   ]
  },
  {
   "cell_type": "markdown",
   "metadata": {},
   "source": [
    "Innerhalb der gescheiften Klammern kann zusätzlich auch eine Angabe zum genauen Aussehen (Format) der Variablen stehen. Dies ist vor allem dann wichtig, wenn wir Dezimalzahlen nur mit einer bestimmten Anzahl von Nachkommastellen oder z.B. als 10er-Potenz (z.B. 7.0E+01) ausgeben wollen."
   ]
  },
  {
   "cell_type": "code",
   "execution_count": null,
   "metadata": {},
   "outputs": [],
   "source": [
    "q = 0.012745678\n",
    "print(q) # Bisherige Ausgabe\n",
    "#\n",
    "print(\"Abfluss = \"+ str(q)) #ebenfalls bekannte Ausgabe \n",
    "\n",
    "print(\"Abfluss = {0}\".format(q)) # haben wir gerade gelernt\n",
    "\n",
    "print(\"Abfluss = {0:.3f}\".format(q)) # Ausgabe als float (Dezimalzahl) (f) mit 2 Dezimalstellen (.2) \n",
    "\n",
    "print(\"Abfluss = {0:.2E}\".format(q)) # Ausgabe  als 10-er Expontentzahl (E) mit 2 Dezimalstellen (.2) \n"
   ]
  },
  {
   "cell_type": "markdown",
   "metadata": {},
   "source": [
    "weitere Formatierungsregeln und Möglichkeiten finden Sie z.B. hier: https://www.python.org/dev/peps/pep-3101/\n"
   ]
  },
  {
   "cell_type": "markdown",
   "metadata": {},
   "source": [
    "### Aufgabe 3.4\n",
    "\n",
    "Gegeben sind die Variablen:\n",
    "    \n",
    "- x = 123.12345\n",
    "- y = 0.0001236\n",
    "\n",
    "Schreiben Sie ein Programm mit folgender Ausgabe: \"Bei x = 123.123 wird y = 1.24E-04\""
   ]
  },
  {
   "cell_type": "code",
   "execution_count": null,
   "metadata": {},
   "outputs": [],
   "source": [
    "# Ihr Programm"
   ]
  },
  {
   "cell_type": "markdown",
   "metadata": {},
   "source": [
    "### Lösung Aufgabe 3.4\n",
    "\n",
    "Bitte ggf. auf ... klicken !!"
   ]
  },
  {
   "cell_type": "code",
   "execution_count": null,
   "metadata": {
    "jupyter": {
     "source_hidden": true
    }
   },
   "outputs": [],
   "source": [
    "x = 123.12345\n",
    "y = 0.0001236\n",
    "\n",
    "print(\"Bei x = {0:.3f} wird y = {1:.2E}\".format(x,y))"
   ]
  },
  {
   "cell_type": "markdown",
   "metadata": {},
   "source": [
    "## 3.3 While-Schleifen\n",
    "\n",
    "Während wir bei for-Schleifen immer schon wissen, wie häufig eine Schleife durchgelaufen werden soll (Anzahl der Elemente der Liste), gibt es häufig auch die Fragestellung, dass wir solange einen Berechnungsblock durchlaufen sollen, solange eine bestimmte Bedingung erfüllt ist. Zwar könnten wir dies auch mit einer For-Schleife und einer if-Bedinung mit break erreichen, schöner ist es aber, wenn wir hier eine while-Schleife benutzen. Die Syntax dieser while-Schleife ist relativ einfach:\n",
    "\n",
    "while Bedingung:\n",
    "    \n",
    "    Anweisung1\n",
    "    Anweisung2\n",
    "    ...\n",
    "    \n",
    "Anweisung außerhalb der Schleife. \n",
    "\n",
    "\n",
    "Vor jedem Durchlauf der Schleife wird geprüft, ob die Bedingung erfüllt ist und falls ja, werden die Anweisungen innerhalb der Schleife ausgeführt. Falls die Bedingugng nicht erfüllt ist, wird die Schleife abgebrochen.\n",
    "\n",
    "Machen wir ein Beispiel dazu: Wir wollen eine Variable x bei jedem Schleifendurchlauf um 1 erhöhen, solange Sie kleiner als 10 ist.\n"
   ]
  },
  {
   "cell_type": "code",
   "execution_count": null,
   "metadata": {},
   "outputs": [],
   "source": [
    "x = 0  # Initialisieren der Variablen mit 0\n",
    "\n",
    "while x<10: #While-Schleife mit Bedinung x ist beim ersten Durchlauf = 0 (siehe Initialisierung)\n",
    "    \n",
    "    x=x+1  # Erhöhung von x um 1 bei jedem Durchgang\n",
    "    print(x) # Ausgabe von x\n",
    "print(\"Ende der Berechung/Iteration\") # Ausgabe außerhalb der Schleife\n",
    "    "
   ]
  },
  {
   "cell_type": "markdown",
   "metadata": {},
   "source": [
    "Wir sehen, dass die Schleife Werte von 1 - 10 ausgibt (wollten wir nicht, dass die Schleife nur durchlaufen wird, solange x < 10 ist ?). Dies ist aber natürlich dennoch richtig, da vor dem letzten Schleifen-Schritt (Iteration) x ja 9 war. Die Schleife wird also noch einmal gestartet und x wird noch einmal um 1 erhöht und dann wieder ausgegeben. Probieren Sie einfach mal aus was passiert, wenn wir die print(x)-Anweisung vor der Erhöhung x=x+1 anordnen (und versuchen Sie das Ergebnis zu verstehen)."
   ]
  },
  {
   "cell_type": "markdown",
   "metadata": {},
   "source": [
    "Bedinungen mit Integerzahlen sind relativ unproblematisch. Bei Bedinungen mit Dezimalzahl müssen wir aber plötzlich Rechen-(Darstellung-)ungenauigkeiten berücksichtigen.\n",
    "\n",
    "Hierzu folgendes Beispiel: Sie wollen x nun immer um 0.1 erhöhen, solange x kleiner 1.0 ist. Das Programm kann relativ schnell umgeschrieben werden:"
   ]
  },
  {
   "cell_type": "code",
   "execution_count": null,
   "metadata": {},
   "outputs": [],
   "source": [
    "x = 0.0  # Initialisieren der Variablen mit 0.0\n",
    "\n",
    "while x<1.0: #While-Schleife mit Bedinung x ist beim ersten Durchlauf = 0.0 (siehe Initialisierung)\n",
    "    x=x+0.1  # Erhöhung von x um 0.1 bei jedem Durchgang,um 0.1 erhöht\n",
    "    print(x) # Ausgabe von x\n",
    "print(\"Ende der Berechung/Iteration\") # Ausgabe außerhalb der Schleife\n",
    "    "
   ]
  },
  {
   "cell_type": "markdown",
   "metadata": {},
   "source": [
    "Was sehen wir bei diesem Ergebnis:\n",
    "    \n",
    "1. Beim ersten Durchlauf bei der print(x)-Anweisung ist x=0.1, da wir die Anweisung x=x+0.1 for der print(x)-Anweisung haben\n",
    "\n",
    "2. 0.2+0.1=0.30000000000000004: Hier sehen wir die Rechenungenauigkeit von Python\n",
    "    \n",
    "3. Durch diese Ungenauigkeit wird auch ein Schritt mehr gerechnet als richtig (anstatt 1.0 wird x im vorletzen Iterationsschritt ja 0.9999999999999999 und somit < 1.0 ==> nochmaliger Eintritt in die Schleife    \n",
    "    \n",
    "Dies können wir u.a. folgendermaßen lösen: Wir müssen das Ergebnis der Berechnung x=x+0.1 runden. Wir müssen für uns dabei nur überlegen, auf wieviele Nachkommastellen wir runden müssen/dürfen. Wenn wir z.B. 0.999999999999 auf 1 Nachkommastelle runden wird daraus 1.0 und somit wäre unsere Bedingung nicht mehr erfüllt und die Schleife würde abgebrochen. \n",
    "\n",
    "Runden kann man mit Python mit dem Befehl round(Zahl,Anzahl_Dezimalstellen), also round(0.9999999999,1) ergibt 1.0. Achtung: Es reicht natürlich nicht, dass wir unser Ergebnis mit .format() nur gerundet ausgeben."
   ]
  },
  {
   "cell_type": "code",
   "execution_count": null,
   "metadata": {},
   "outputs": [],
   "source": [
    "x = 0.0  # Initialisieren der Variablen mit 0.0\n",
    "\n",
    "while x<1.0: #While-Schleife mit Bedinung x ist beim ersten Durchlauf = 0.0 (siehe Initialisierung)\n",
    "    x=x+0.1  # Erhöhung von x um 0.1 bei jedem Durchgang,um 0.1 erhöht\n",
    "    x=round(x,1) # hier wird x gerundet\n",
    "    print(x) # Ausgabe von x\n",
    "print(\"Ende der Berechung/Iteration\") # Ausgabe außerhalb der Schleife\n",
    "    "
   ]
  },
  {
   "cell_type": "markdown",
   "metadata": {},
   "source": [
    "Sie sehen also, damit (durch das Runden) wird die Schleife einmal weniger durchlaufen, was aber auch das richtige Ergebnis ist."
   ]
  },
  {
   "cell_type": "markdown",
   "metadata": {},
   "source": [
    "#### Warnung: Bei while-Schleifen findet man sich sehr schnell in Endlosschleifen wieder. Deshalb achten Sie darauf, dass die Bedingung nicht immer gültig bleibt (oder Sie verwenden \"break\"). \n",
    "\n",
    "Falls Sie (bzw. natürlich Ihr Programm) in einer Endlosschleifen gefangen sind, müssen Sie den kernel stoppen (\"interrupt the kernel\" in der Menü-Leiste das Quadrat neben dem run-Dreieck). Ein Beispiel einer Endlosschleife wäre: (Bevor Sie das Programm starten sollten sie die \"interrupt the kernel\" Taste suchen, damit Sie schnell darauf klicken können und Ihr Notebook nicht mit Millionen von \"gefangen\"-Meldungen zugemüllt wird. Also nach \"run\" sofort abbrechen !!!)"
   ]
  },
  {
   "cell_type": "code",
   "execution_count": null,
   "metadata": {},
   "outputs": [],
   "source": [
    "x=0.0\n",
    "while x<1.0: # da x in der Schleife nicht geändert wird, wird die Bedingung immer erfüllt bleiben\n",
    "    print(\"gefangen\")\n",
    "\n"
   ]
  },
  {
   "cell_type": "markdown",
   "metadata": {},
   "source": [
    "Viele Profis versehen deshalb Ihre while-Schleife immer mit einem break. Die Schleife wird abgebrochen, sobald eine bestimmte anzahl von Scheifendurchläufen überschritten wird."
   ]
  },
  {
   "cell_type": "code",
   "execution_count": null,
   "metadata": {},
   "outputs": [],
   "source": [
    "x=0.0\n",
    "zaehler=0 #Initialisierung eines Schleifenzählers\n",
    "while x<1.0: # da x in der Schleife nicht geändert wird, wird die Bedingung immer erfüllt bleiben\n",
    "    zaehler +=1 # Achtung: Neu Schreibweise für zaehler=zaehler+1: Bei jedem Durchlauf wird zaehler um 1 erhöht\n",
    "    print(zaehler)\n",
    "    if zaehler >= 10: #Hier wird nach 10 Schritten die Schleife auf jeden Fall abgebrochen\n",
    "        break\n",
    "\n"
   ]
  },
  {
   "cell_type": "markdown",
   "metadata": {},
   "source": [
    "### Aufgabe 3.5\n",
    "\n",
    "Sie wollen nun Ihren Abfluss Q aus Aufgabe 2.1 bzw. 3.2 für Wasserstände h von 0 bis 10 in 0.1-Schritten berechnen. Geben Sie den Abfluss mit drei Dezimalstellen Genuigkeit aus. Nutzen Sie dazu eine while-Schleife."
   ]
  },
  {
   "cell_type": "code",
   "execution_count": null,
   "metadata": {},
   "outputs": [],
   "source": [
    "# Ihr Programm"
   ]
  },
  {
   "cell_type": "markdown",
   "metadata": {},
   "source": [
    "### Lösung Aufgabe 3.5\n",
    "\n",
    "Bitte ggf. auf ... klicken"
   ]
  },
  {
   "cell_type": "code",
   "execution_count": null,
   "metadata": {
    "jupyter": {
     "source_hidden": true
    }
   },
   "outputs": [],
   "source": [
    "# Variablen mit Eingabedaten initialisieren (Dezimalzahlen !!!)\n",
    "\n",
    "b=10.0 # Gewässerbreite\n",
    "\n",
    "k_st=35.0 # Rauheitsbeiwert\n",
    "I=0.0015 # Sohlgefälle\n",
    "\n",
    "h=0.0\n",
    "\n",
    "while h<=10.0: #h ist beim ersten Durchlauf 0 und darf nicht größer als 10 sein\n",
    "    # Durchflossen Querschnittsfläche A, benetzer Umfang lu und hydraulischer Radius r_hy berechnen\n",
    "    A = b*h\n",
    "    l_u = b+2*h\n",
    "    r_hy =A/l_u\n",
    "    # Durchfluss Q nach Formel ausrechnen\n",
    "    Q = k_st*r_hy**(2/3)*I**(1/2)*A\n",
    "    # Durchfluss Q ausgeben\n",
    "    print(\"Wasserstand: {0} m ==> Abfluss: {1:.3f} m³/s\".format(h,Q)) # formatgebundene Ausgabe (h ist schon gerundet)\n",
    "    h=round(h+0.1,1) # h wird erst nach Berechung und Ausgabe von Q um 0.1 erhöht und dann gerundet\n",
    "print(\"Berechnung erfolgreich beendet\")"
   ]
  },
  {
   "cell_type": "markdown",
   "metadata": {},
   "source": [
    "### Aufgabe 3.6\n",
    "\n",
    "Als letzte Aufgabe in diesem Kapitel 3 wollen wir nun wieder mit Spyder arbeiten.\n",
    "\n",
    "Wir wollen herausbekommen, wie hoch h ist, wenn 100 m³/s Wasser durch das Gewässer fließen (alle anderen Werte können wir aus Aufgabe 2.1 nehmen).  Leider können wir die Gleichungen nicht nach h umstellen. Dies bedeutet, wir müssen h angenähert (iterativ) ausrechnen und h wird deshalb auch nicht mathematisch exakt berechnet werden können.\n",
    "\n",
    "Eine ineffiziente aber einfache Methode ist es, den Wasserstand solange um einen kleinen Wert (da müssen Sie etwas experimentieren) zu erhöhen, bis der berechnete Abfluss nur gering vom gewünschten Wert (100.0) abweicht.\n",
    "\n",
    "Wir gehen davon aus, dass h nicht größer als 10 m werden darf.\n",
    "Die Abweichung zwischen berechnetem und gewünschtem Wert muss kleiner als 0.01 sein.\n",
    "Da die Abweichung ja positiv oder negativ sein kann, sollten wir mit absoluten Werten für die Abweichung rechnen (also dem Betrag der Differenz von Q_berechnet und Q_gewünscht). Der Befehl dazu lautet abs(). Versuchen Sie sich, den Befehl abs() vorab selbst beizubringen. \n",
    "\n",
    "Insgesamt soll am Schluss der berechnete Wasserstand bei 100 m³/s, der Abweichungsbetrag beim Abfluss, sowie die Anzahl der Schleifendurchgänge (Iterationen) angegeben werden.\n",
    "\n",
    "Diese Aufgabe ist wirklich schwierig und verzweifeln Sie nicht, wenn Sie sie nicht lösen konnen. Schauen Sie sich dann einfach die Lösung an und versuchen Sie die einzelnen Schritte nachzuvollziehen (schon dies ist wirklich schwierig)."
   ]
  },
  {
   "cell_type": "markdown",
   "metadata": {},
   "source": [
    "### Lösung Aufgabe 3.6\n",
    "\n",
    "Die Lösung finden Sie auf Ilias als dokumentierten Quellcode"
   ]
  },
  {
   "cell_type": "markdown",
   "metadata": {},
   "source": [
    "Eine weitere Möglichkeit, das Problem in Aufgabe 3.6 zu lösen ist:\n",
    " \n",
    "Wir berechnen für alle möglichen Wasserstände zwischen 0 und 10 in kleinen Abständen jeweils den Abfluss. Dabei prüfen wir bei jedem Rechenschritt, ob die Abweichung (Betrag) zwischen dem berechneten und dem gewünschten Abfluss jetzt kleiner ist als bei den Berechnungsschritten davor.\n",
    "Falls die Abweichung kleiner ist, speichern wir den in diesem Lauf verwendeten Wasserstand h in einer Variablen ab. Diese Lösung finden Sie ebenfalls auf Ilias als Aufgabe3.6b.\n",
    "\n",
    "Ein weitere Möglichkeit, die wir hier aber nicht weiter verfolgen wäre es, die Wasserstände nicht kontinuierlich um einen kleinen Betrag zu erhöhen, sonder zufällig zu wählen. Dies könnten wir 100000 oder noch häufiger machen und immer prüfen, ob mit dem zufälligen Wasserstand unsere Differenz zwischen Abflussberechung und dem gewünschten Abfluss kleiner ist als bei den letzten Versuchen. Diese Methode ist relativ einfach umzusetzen und wird deshalb in der Praxis sehr häufig verwendet. Sie nennt sich Monte-Carlo-Methode ist aber nicht immer effizient. "
   ]
  },
  {
   "cell_type": "code",
   "execution_count": null,
   "metadata": {
    "collapsed": true,
    "jupyter": {
     "outputs_hidden": true
    }
   },
   "outputs": [],
   "source": []
  }
 ],
 "metadata": {
  "kernelspec": {
   "display_name": "Python 3",
   "language": "python",
   "name": "python3"
  },
  "language_info": {
   "codemirror_mode": {
    "name": "ipython",
    "version": 3
   },
   "file_extension": ".py",
   "mimetype": "text/x-python",
   "name": "python",
   "nbconvert_exporter": "python",
   "pygments_lexer": "ipython3",
   "version": "3.8.6"
  }
 },
 "nbformat": 4,
 "nbformat_minor": 4
}
